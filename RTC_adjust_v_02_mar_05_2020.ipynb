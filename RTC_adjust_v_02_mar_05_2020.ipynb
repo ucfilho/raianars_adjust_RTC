{
  "nbformat": 4,
  "nbformat_minor": 0,
  "metadata": {
    "colab": {
      "name": "RTC_adjust_v_02_mar_05_2020.ipynb",
      "provenance": [],
      "collapsed_sections": [],
      "include_colab_link": true
    },
    "kernelspec": {
      "name": "python3",
      "display_name": "Python 3"
    }
  },
  "cells": [
    {
      "cell_type": "markdown",
      "metadata": {
        "id": "view-in-github",
        "colab_type": "text"
      },
      "source": [
        "<a href=\"https://colab.research.google.com/github/ucfilho/raianars_adjust_RTC/blob/master/RTC_adjust_v_02_mar_05_2020.ipynb\" target=\"_parent\"><img src=\"https://colab.research.google.com/assets/colab-badge.svg\" alt=\"Open In Colab\"/></a>"
      ]
    },
    {
      "cell_type": "code",
      "metadata": {
        "id": "wGzR2VpcZHYA",
        "colab_type": "code",
        "colab": {}
      },
      "source": [
        "import pandas as pd\n",
        "from scipy.optimize import differential_evolution\n",
        "import numpy as np"
      ],
      "execution_count": 0,
      "outputs": []
    },
    {
      "cell_type": "code",
      "metadata": {
        "id": "2htdoQZEvKVl",
        "colab_type": "code",
        "colab": {}
      },
      "source": [
        "# Funcoes utilizadas neste codigo\n",
        "# Area(U,tempAtual,tempInicial,...): constroi matriz de areas trocadores \n",
        "#                                    entra duas correntes sendo chamada no loop\n",
        "# buildMatriz(x,cols): constroi a matriz deltaT e binaria (logica de trocas)\n",
        "#\n",
        "# Temperatura(matrizDeltaT,...): constroi as temperaturas e cargas termicas"
      ],
      "execution_count": 0,
      "outputs": []
    },
    {
      "cell_type": "code",
      "metadata": {
        "id": "QH4J60cSP2OX",
        "colab_type": "code",
        "colab": {}
      },
      "source": [
        "def buildMatriz(x,cols):\n",
        "  global Trocas,D  \n",
        "  Ind_I=np.zeros((Trocas))\n",
        "  Ind_J=np.zeros((Trocas))\n",
        "  deltaT=np.zeros((Trocas))\n",
        "  for i in range(D):\n",
        "    for j in range(Trocas):\n",
        "      Ind_I[j]=round(x[i,j])\n",
        "      Ind_J[j]=round(x[i,j+Trocas])\n",
        "      deltaT[j]=x[i,j+2*Trocas]\n",
        "        \n",
        "  return Ind_I,Ind_J,deltaT"
      ],
      "execution_count": 0,
      "outputs": []
    },
    {
      "cell_type": "code",
      "metadata": {
        "id": "Ha_XxG-tT7yB",
        "colab_type": "code",
        "colab": {}
      },
      "source": [
        "#def Temperatura_Carga(mCp,matrizDeltaT,matrizBinaria,tempInicial):\n",
        "def Temperatura_Carga(mCp,Ind_I,Ind_J,deltaT,tempInicial):\n",
        "  global Trocas\n",
        "  # cols=len(mCp)\n",
        "  # i represent hot stream  and j represent cold stream \n",
        "  # k represent sequential heat exchanges\n",
        "  cargaTermica=np.zeros((Trocas))\n",
        "  contador=0\n",
        "  cont_uso=0\n",
        "  tempAtual=np.copy(tempInicial)\n",
        "  erro=0 # valor erro se torna erro=1 quando ha algum erro e vai penalizar\n",
        "  for k in range(Trocas):\n",
        "    i=Ind_I[k]\n",
        "    j=Ind_J[k]\n",
        "    cargaTermica[k]=mCp[i]*deltaT[k]\n",
        "    tempSaidaQ=tempInicial[i]+deltaT[k]\n",
        "    tempSaidaF=-cargaTermica[k]/(mCp[j])+tempAtual[j]\n",
        "    flag=0 # flag : indica que nao entra no teste logico\n",
        "    # usei flag no lugar q ifs pq a identacao ficou melhor assim\n",
        "    if(tempAtual[i] > tempAtual[j]): #Tquente maior Tfria: vaores atuais\n",
        "      if(tempSaidaQ > tempSaidaF): #Tquente maior Tfria: saidas\n",
        "        if(contador < cols):\n",
        "          flag=1\n",
        "          \n",
        "    if(flag>0):\n",
        "      tempAtual[i]=tempSaidaQ\n",
        "      tempAtual[j]=tempSaidaF\n",
        "    else:\n",
        "      erro=1\n",
        "\n",
        "\n",
        "  return tempAtual,cargaTermica,erro"
      ],
      "execution_count": 0,
      "outputs": []
    },
    {
      "cell_type": "code",
      "metadata": {
        "id": "_fKh1jXRcAOr",
        "colab_type": "code",
        "colab": {}
      },
      "source": [
        "def Area(U,tempAtual,tempInicial,Ind_I,Ind_J,deltaT):\n",
        "  global Trocas,mCp\n",
        "  \n",
        "  Area=[]\n",
        "\n",
        "  for k in range(Trocas):\n",
        "    i=Ind_I[k]\n",
        "    j=Ind_J[k]\n",
        "    Carga=mCp[k]*deltaT[k]\n",
        "    tempSaidaF=tempAtual[j]\n",
        "    tempSaidaQ=tempAtual[i]\n",
        "    deltaT1=tempInicial[i]-tempSaidaF\n",
        "    deltaT2=tempSaidaQ-tempInicial[j]\n",
        "    try:\n",
        "      A=(deltaT1-deltaT2)\n",
        "      B=np.log((deltaT1/deltaT2))\n",
        "      deltaTMediaLog=A/B\n",
        "    except:\n",
        "      deltaTMediaLog=1e99\n",
        " \n",
        "    if(deltaTMediaLog==1e99):\n",
        "      AreaCalc=1e99\n",
        "    else:\n",
        "      AreaCalc=abs(Carga/(U*deltaTMediaLog))\n",
        "\n",
        "    if(tempAtual[i]==tempInicial[i]):\n",
        "          AreaCalc=0\n",
        "\n",
        "    if(tempAtual[j]==tempInicial[j]):\n",
        "      AreaCalc=0\n",
        "          \n",
        "    Area.append(AreaCalc)\n",
        "\n",
        "  return Area"
      ],
      "execution_count": 0,
      "outputs": []
    },
    {
      "cell_type": "code",
      "metadata": {
        "id": "oJ7p1UbEHs4c",
        "colab_type": "code",
        "colab": {}
      },
      "source": [
        "def Utilidades(tempAlvo,tempAtual,mCp):\n",
        "\n",
        "  cols=len(mCp)\n",
        "  cargaUQ=0\n",
        "  cargaUF=0\n",
        "  \n",
        "  '''\n",
        "  caso I cita TUQin=553 e TQout=552, TUFin=303 TUFout=353\n",
        "  '''\n",
        "  \n",
        "  TUQin=553\n",
        "  TUQout=552\n",
        "  TUFin=303 \n",
        "  TUFout=353\n",
        "  areaTrocador=[]\n",
        "\n",
        "  for j in range(cols): \n",
        "    delta=tempAlvo[j]-tempAtual[j]\n",
        "    if(delta>0):#usa UQ\n",
        "      cargaUQ=cargaUQ+mCp[j]*delta\n",
        "      deltaT1=(TUQin-tempAlvo[j])\n",
        "      deltaT2=(TUQout-tempAtual[j])\n",
        "\n",
        "      try:\n",
        "        A=deltaT1-deltaT2\n",
        "        B=np.log(deltaT1/deltaT2)\n",
        "        deltaTMediaLog=A/B\n",
        "      except:\n",
        "        deltaTMediaLog=1e99\n",
        "\n",
        "      if(deltaTMediaLog==1e99):\n",
        "        areaTrocador.append(1e99)\n",
        "      else:\n",
        "        areaTrocador.append((abs(mCp[j]*(delta)/(U*deltaTMediaLog))))\n",
        "\n",
        "    elif(delta==0):#nao usa UF e UQ\n",
        "      deltaTMediaLog=0\n",
        "      areaTrocador.append(0) \n",
        "\n",
        "    else:#usa UF\n",
        "      deltaT1=(tempAtual[j]-TUFout)\n",
        "      deltaT2=(tempAlvo[j]-TUFin)     \n",
        "      cargaUF=cargaUF+mCp[j]*(-delta)\n",
        "\n",
        "      #UF -> água resfriada -> entra a 303K e sai a 353K\n",
        "      try:\n",
        "        A=deltaT1-deltaT2\n",
        "        B=np.log(deltaT1/deltaT2)\n",
        "        deltaTMediaLog=A/B\n",
        "      except:\n",
        "        deltaTMediaLog=1e99\n",
        "      \n",
        "      if(deltaTMediaLog==1e99):\n",
        "        areaTrocador.append(1e99)\n",
        "      else:\n",
        "        areaTrocador.append((abs(mCp[j]*(-delta)/(U*deltaTMediaLog))))\n",
        "\n",
        "  return areaTrocador, cargaUF,cargaUQ \n",
        "  # areaTrocador contem a soma das areas\n",
        "  # Trocadores a area associada a cada corrente\n",
        "  # cargaUF e cargaUQ kW gasto"
      ],
      "execution_count": 0,
      "outputs": []
    },
    {
      "cell_type": "code",
      "metadata": {
        "id": "_vAVl672mXZb",
        "colab_type": "code",
        "colab": {}
      },
      "source": [
        "def CustoProcesso(areaTrocadores,areaUtilidades,cargaUF,cargaUQ):\n",
        "  global coefCustoUQ,coefCustoUF\n",
        "  costTrocadores=0\n",
        "  for it in areaTrocadores:\n",
        "    for wii in areaUtilidade:\n",
        "      if(it<1e99):\n",
        "        if(wii<1e99):\n",
        "          costTrocadores=costTrocadores+300*(it**0.5+wii**0.5)\n",
        "        else:\n",
        "          costTrocadores=1e99\n",
        "          break\n",
        "        \n",
        "  costUQ=coefCustoUQ*cargaUQ\n",
        "  costUF=coefCustoUF*cargaUF\n",
        "\n",
        "  if(costTrocadores==1e99):\n",
        "    cost=1e99\n",
        "  else:\n",
        "    cost=costUQ+costUF+costTrocadores\n",
        "  return cost"
      ],
      "execution_count": 0,
      "outputs": []
    },
    {
      "cell_type": "code",
      "metadata": {
        "id": "lmPfZ7arakM1",
        "colab_type": "code",
        "colab": {}
      },
      "source": [
        "#FUN calcula o TAC para um determinado arranjo\n",
        "#  cada calculo é feito em uma funcao a parte Fun usa todas funcoes \n",
        "\n",
        "def FUN(x):\n",
        "\n",
        "  # global mCp,tempAtual,tempAlvo,U,coefCustoUQ,coefCustoUF\n",
        "  global mCp,tempAtual,tempAlvo,tempInicial,U,coefCustoUQ,coefCustoUF\n",
        "  \n",
        "\n",
        "\n",
        "  cols=len(mCp)\n",
        "  #tempInicial=np.copy(tempAtual) \n",
        "  Ind_I,Ind_J,deltaT=buildMatriz(x,cols) # transforma x em matriz logica e troca\n",
        "  tempAtual,Carga,Erro=Temperatura_Carga(mCp,Ind_I,Ind_J,deltaT,tempInicial)\n",
        "  areaTrocadores =Area(U,tempAtual,tempInicial,Ind_I,Ind_J,deltaT)\n",
        "  areaUtilidade, cargaUF,cargaUQ = Utilidades(tempAlvo,tempAtual,mCp)\n",
        "  cost=CustoProcesso(areaTrocadores,areaUtilidade,cargaUF,cargaUQ)\n",
        "  funr = np.where(np.isnan(cost), 1e99, cost)\n",
        "\n",
        "  if(Erro>0):\n",
        "    funr=1e99\n",
        "\n",
        "\n",
        "  return funr"
      ],
      "execution_count": 0,
      "outputs": []
    },
    {
      "cell_type": "code",
      "metadata": {
        "id": "Dt6anZvATxzg",
        "colab_type": "code",
        "colab": {}
      },
      "source": [
        "#********************PROGRAMA PRINCIPAL*************************\n",
        "\n",
        "NPAR=50 #Número de partículas\n",
        "ITE=5000 #Número de iterações\n",
        "PAR=12 #Número de parâmetros a ser otimizados\n",
        "\n",
        "MAX=[0,0,0,0,0,0,1,1,1,1,1,1]\n",
        "MIN=[-300,-300,-300,-300,-300,-300,0,0,0,0,0,0]\n",
        "mCp=[4,2,1.5,3] #[kW/K]\n",
        "tempInicial=[453,393,523,533] #[K]\n",
        "#tempAtual=[453,393,523,533] #[K]\n",
        "tempAlvo=[513,508,403,433] #[K]\n",
        "U=0.2 #[kW/(m2.K)]\n",
        "\n",
        "coefCustoUQ=110 #[$/(kW.ano)]\n",
        "coefCustoUF=12.2 #[$/(kW.ano)]\n",
        "\n",
        "bounds = []\n",
        "for i in range(12):\n",
        "  bounds.append((MAX[i],MIN[i]))\n",
        "\n"
      ],
      "execution_count": 0,
      "outputs": []
    },
    {
      "cell_type": "code",
      "metadata": {
        "id": "e0lgbNqkLj4v",
        "colab_type": "code",
        "outputId": "4af5cc8e-078c-4afe-969b-73505f42b365",
        "colab": {
          "base_uri": "https://localhost:8080/",
          "height": 601
        }
      },
      "source": [
        "#MAX=[0,0,0,0,0,0,1,1,1,1,1,1]\n",
        "#MIN=[-300,-300,-300,-300,-300,-300,0.3,0.3,0.3,0.3,0.3,0.3]\n",
        "Trocas=4\n",
        "\n",
        "D=5\n",
        "\n",
        "cols=Trocas*3 # tres linhas i,j,deltaT\n",
        "MAX=np.zeros((cols))\n",
        "MIN=np.zeros((cols))\n",
        "\n",
        "for k in range(cols):\n",
        "  if(k>(Trocas*2-1)):\n",
        "    MIN[k]=-100\n",
        "  else:\n",
        "    MAX[k]=(Trocas-1)\n",
        "\n",
        "\n",
        "\n",
        "\n",
        "print(MAX)\n",
        "print(MIN)\n",
        "\n",
        "x=np.zeros((D,cols))\n",
        "\n",
        "for i in range(D):\n",
        "  for j in range(cols):\n",
        "    r=np.random.random()\n",
        "    x[i,j]=r*(MAX[j]-MIN[j])+MIN[j]\n",
        "print(x.shape)\n",
        "print(x)\n",
        "\n",
        "Ind_I=np.zeros((Trocas))\n",
        "Ind_J=np.zeros((Trocas))\n",
        "deltaT=np.zeros((Trocas))\n",
        "for i in range(D):\n",
        "  for j in range(Trocas):\n",
        "    Ind_I[j]=round(x[i,j])\n",
        "    Ind_J[j]=round(x[i,j+Trocas])\n",
        "    deltaT[j]=x[i,j+2*Trocas]\n",
        "  print(Ind_I)\n",
        "  print(Ind_J)\n",
        "  print(deltaT)\n",
        "\n",
        "\n"
      ],
      "execution_count": 0,
      "outputs": [
        {
          "output_type": "stream",
          "text": [
            "[3. 3. 3. 3. 3. 3. 3. 3. 0. 0. 0. 0.]\n",
            "[   0.    0.    0.    0.    0.    0.    0.    0. -100. -100. -100. -100.]\n",
            "(5, 12)\n",
            "[[  0.45702015   1.95616532   0.59489472   2.14508698   1.8494067\n",
            "    2.82963545   1.335478     2.77056723 -66.43904245 -90.3046514\n",
            "  -93.58016654  -4.54109335]\n",
            " [  1.53600944   0.43728188   1.28145118   2.54042921   0.17202369\n",
            "    0.36343476   2.68859949   2.66018853 -42.97076483 -18.63134198\n",
            "  -92.01066223 -93.73694909]\n",
            " [  2.38626415   1.0500949    1.49388731   0.5681885    0.1334108\n",
            "    2.92373539   0.94342545   0.45018177 -54.46892169 -14.03995765\n",
            "  -56.34007577 -34.41404067]\n",
            " [  2.01381084   1.66945575   2.36035955   2.95032807   0.94247303\n",
            "    2.06368261   0.09619668   1.43312157 -64.91211944 -49.17057256\n",
            "   -6.60465654 -51.78512965]\n",
            " [  1.85961948   0.40006562   0.19988166   2.02122469   1.13497956\n",
            "    2.36775532   2.35584226   1.16054636 -72.2155127  -78.77750737\n",
            "  -31.76911469 -80.58142307]]\n",
            "[0. 2. 1. 2.]\n",
            "[2. 3. 1. 3.]\n",
            "[-66.43904245 -90.3046514  -93.58016654  -4.54109335]\n",
            "[2. 0. 1. 3.]\n",
            "[0. 0. 3. 3.]\n",
            "[-42.97076483 -18.63134198 -92.01066223 -93.73694909]\n",
            "[2. 1. 1. 1.]\n",
            "[0. 3. 1. 0.]\n",
            "[-54.46892169 -14.03995765 -56.34007577 -34.41404067]\n",
            "[2. 2. 2. 3.]\n",
            "[1. 2. 0. 1.]\n",
            "[-64.91211944 -49.17057256  -6.60465654 -51.78512965]\n",
            "[2. 0. 0. 2.]\n",
            "[1. 2. 2. 1.]\n",
            "[-72.2155127  -78.77750737 -31.76911469 -80.58142307]\n"
          ],
          "name": "stdout"
        }
      ]
    },
    {
      "cell_type": "code",
      "metadata": {
        "id": "z2Wu6L1cJS2z",
        "colab_type": "code",
        "colab": {}
      },
      "source": [
        "for i in range(D):\n",
        "  for j in range(Trocas):\n",
        "    Ind_I[j]=round(x[i,j])\n",
        "    Ind_J[j]=round(x[i,j+Trocas])\n",
        "    deltaT[j]=x[i,j+2*Trocas]"
      ],
      "execution_count": 0,
      "outputs": []
    },
    {
      "cell_type": "code",
      "metadata": {
        "id": "V5XqHTADJoaO",
        "colab_type": "code",
        "outputId": "708dd0a4-f9de-4913-9a3e-a6a5902c0bba",
        "colab": {
          "base_uri": "https://localhost:8080/",
          "height": 70
        }
      },
      "source": [
        "print(Ind_I)\n",
        "print(Ind_J)\n",
        "print(deltaT)"
      ],
      "execution_count": 0,
      "outputs": [
        {
          "output_type": "stream",
          "text": [
            "[2. 0. 0. 2.]\n",
            "[1. 2. 2. 1.]\n",
            "[-72.2155127  -78.77750737 -31.76911469 -80.58142307]\n"
          ],
          "name": "stdout"
        }
      ]
    },
    {
      "cell_type": "code",
      "metadata": {
        "id": "Urw8muuARkrL",
        "colab_type": "code",
        "outputId": "c678d05a-5b46-4653-e0f6-6d48890537ae",
        "colab": {
          "base_uri": "https://localhost:8080/",
          "height": 654
        }
      },
      "source": [
        "Custo=np.zeros((D))\n",
        "\n",
        "for i in range(D):\n",
        "  #Custo[i]=FUN(x[i])\n",
        "  print(x[i])\n",
        "  print(x[i,:])\n",
        "  print('===========')\n",
        "\n",
        "\n",
        "print(Custo)\n"
      ],
      "execution_count": 0,
      "outputs": [
        {
          "output_type": "stream",
          "text": [
            "[  0.45702015   1.95616532   0.59489472   2.14508698   1.8494067\n",
            "   2.82963545   1.335478     2.77056723 -66.43904245 -90.3046514\n",
            " -93.58016654  -4.54109335]\n",
            "[  0.45702015   1.95616532   0.59489472   2.14508698   1.8494067\n",
            "   2.82963545   1.335478     2.77056723 -66.43904245 -90.3046514\n",
            " -93.58016654  -4.54109335]\n",
            "===========\n",
            "[  1.53600944   0.43728188   1.28145118   2.54042921   0.17202369\n",
            "   0.36343476   2.68859949   2.66018853 -42.97076483 -18.63134198\n",
            " -92.01066223 -93.73694909]\n",
            "[  1.53600944   0.43728188   1.28145118   2.54042921   0.17202369\n",
            "   0.36343476   2.68859949   2.66018853 -42.97076483 -18.63134198\n",
            " -92.01066223 -93.73694909]\n",
            "===========\n",
            "[  2.38626415   1.0500949    1.49388731   0.5681885    0.1334108\n",
            "   2.92373539   0.94342545   0.45018177 -54.46892169 -14.03995765\n",
            " -56.34007577 -34.41404067]\n",
            "[  2.38626415   1.0500949    1.49388731   0.5681885    0.1334108\n",
            "   2.92373539   0.94342545   0.45018177 -54.46892169 -14.03995765\n",
            " -56.34007577 -34.41404067]\n",
            "===========\n",
            "[  2.01381084   1.66945575   2.36035955   2.95032807   0.94247303\n",
            "   2.06368261   0.09619668   1.43312157 -64.91211944 -49.17057256\n",
            "  -6.60465654 -51.78512965]\n",
            "[  2.01381084   1.66945575   2.36035955   2.95032807   0.94247303\n",
            "   2.06368261   0.09619668   1.43312157 -64.91211944 -49.17057256\n",
            "  -6.60465654 -51.78512965]\n",
            "===========\n",
            "[  1.85961948   0.40006562   0.19988166   2.02122469   1.13497956\n",
            "   2.36775532   2.35584226   1.16054636 -72.2155127  -78.77750737\n",
            " -31.76911469 -80.58142307]\n",
            "[  1.85961948   0.40006562   0.19988166   2.02122469   1.13497956\n",
            "   2.36775532   2.35584226   1.16054636 -72.2155127  -78.77750737\n",
            " -31.76911469 -80.58142307]\n",
            "===========\n",
            "[0. 0. 0. 0. 0.]\n"
          ],
          "name": "stdout"
        }
      ]
    },
    {
      "cell_type": "code",
      "metadata": {
        "id": "DGY_Kzf4Kxd4",
        "colab_type": "code",
        "outputId": "7d0840fb-5590-44e0-d0d0-5be019135e3b",
        "colab": {
          "base_uri": "https://localhost:8080/",
          "height": 335
        }
      },
      "source": [
        "print(FUN(x))"
      ],
      "execution_count": 0,
      "outputs": [
        {
          "output_type": "error",
          "ename": "TypeError",
          "evalue": "ignored",
          "traceback": [
            "\u001b[0;31m---------------------------------------------------------------------------\u001b[0m",
            "\u001b[0;31mTypeError\u001b[0m                                 Traceback (most recent call last)",
            "\u001b[0;32m<ipython-input-21-ff0ff03531f9>\u001b[0m in \u001b[0;36m<module>\u001b[0;34m()\u001b[0m\n\u001b[0;32m----> 1\u001b[0;31m \u001b[0mprint\u001b[0m\u001b[0;34m(\u001b[0m\u001b[0mFUN\u001b[0m\u001b[0;34m(\u001b[0m\u001b[0mx\u001b[0m\u001b[0;34m)\u001b[0m\u001b[0;34m)\u001b[0m\u001b[0;34m\u001b[0m\u001b[0;34m\u001b[0m\u001b[0m\n\u001b[0m",
            "\u001b[0;32m<ipython-input-8-318d8ea73472>\u001b[0m in \u001b[0;36mFUN\u001b[0;34m(x)\u001b[0m\n\u001b[1;32m     10\u001b[0m   \u001b[0;31m#tempInicial=np.copy(tempAtual)\u001b[0m\u001b[0;34m\u001b[0m\u001b[0;34m\u001b[0m\u001b[0;34m\u001b[0m\u001b[0m\n\u001b[1;32m     11\u001b[0m   \u001b[0mInd_I\u001b[0m\u001b[0;34m,\u001b[0m\u001b[0mInd_J\u001b[0m\u001b[0;34m,\u001b[0m\u001b[0mdeltaT\u001b[0m\u001b[0;34m=\u001b[0m\u001b[0mbuildMatriz\u001b[0m\u001b[0;34m(\u001b[0m\u001b[0mx\u001b[0m\u001b[0;34m,\u001b[0m\u001b[0mcols\u001b[0m\u001b[0;34m)\u001b[0m \u001b[0;31m# transforma x em matriz logica e troca\u001b[0m\u001b[0;34m\u001b[0m\u001b[0;34m\u001b[0m\u001b[0m\n\u001b[0;32m---> 12\u001b[0;31m   \u001b[0mtempAtual\u001b[0m\u001b[0;34m,\u001b[0m\u001b[0mCarga\u001b[0m\u001b[0;34m,\u001b[0m\u001b[0mErro\u001b[0m\u001b[0;34m=\u001b[0m\u001b[0mTemperatura_Carga\u001b[0m\u001b[0;34m(\u001b[0m\u001b[0mmCp\u001b[0m\u001b[0;34m,\u001b[0m\u001b[0mInd_I\u001b[0m\u001b[0;34m,\u001b[0m\u001b[0mInd_J\u001b[0m\u001b[0;34m,\u001b[0m\u001b[0mdeltaT\u001b[0m\u001b[0;34m,\u001b[0m\u001b[0mtempInicial\u001b[0m\u001b[0;34m)\u001b[0m\u001b[0;34m\u001b[0m\u001b[0;34m\u001b[0m\u001b[0m\n\u001b[0m\u001b[1;32m     13\u001b[0m   \u001b[0mareaTrocadores\u001b[0m \u001b[0;34m=\u001b[0m\u001b[0mArea\u001b[0m\u001b[0;34m(\u001b[0m\u001b[0mU\u001b[0m\u001b[0;34m,\u001b[0m\u001b[0mtempAtual\u001b[0m\u001b[0;34m,\u001b[0m\u001b[0mtempInicial\u001b[0m\u001b[0;34m,\u001b[0m\u001b[0mInd_I\u001b[0m\u001b[0;34m,\u001b[0m\u001b[0mInd_J\u001b[0m\u001b[0;34m,\u001b[0m\u001b[0mdeltaT\u001b[0m\u001b[0;34m)\u001b[0m\u001b[0;34m\u001b[0m\u001b[0;34m\u001b[0m\u001b[0m\n\u001b[1;32m     14\u001b[0m   \u001b[0mareaUtilidade\u001b[0m\u001b[0;34m,\u001b[0m \u001b[0mcargaUF\u001b[0m\u001b[0;34m,\u001b[0m\u001b[0mcargaUQ\u001b[0m \u001b[0;34m=\u001b[0m \u001b[0mUtilidades\u001b[0m\u001b[0;34m(\u001b[0m\u001b[0mtempAlvo\u001b[0m\u001b[0;34m,\u001b[0m\u001b[0mtempAtual\u001b[0m\u001b[0;34m,\u001b[0m\u001b[0mmCp\u001b[0m\u001b[0;34m)\u001b[0m\u001b[0;34m\u001b[0m\u001b[0;34m\u001b[0m\u001b[0m\n",
            "\u001b[0;32m<ipython-input-4-df2dce1fe10e>\u001b[0m in \u001b[0;36mTemperatura_Carga\u001b[0;34m(mCp, Ind_I, Ind_J, deltaT, tempInicial)\u001b[0m\n\u001b[1;32m     12\u001b[0m     \u001b[0mi\u001b[0m\u001b[0;34m=\u001b[0m\u001b[0mInd_I\u001b[0m\u001b[0;34m[\u001b[0m\u001b[0mk\u001b[0m\u001b[0;34m]\u001b[0m\u001b[0;34m\u001b[0m\u001b[0;34m\u001b[0m\u001b[0m\n\u001b[1;32m     13\u001b[0m     \u001b[0mj\u001b[0m\u001b[0;34m=\u001b[0m\u001b[0mInd_J\u001b[0m\u001b[0;34m[\u001b[0m\u001b[0mk\u001b[0m\u001b[0;34m]\u001b[0m\u001b[0;34m\u001b[0m\u001b[0;34m\u001b[0m\u001b[0m\n\u001b[0;32m---> 14\u001b[0;31m     \u001b[0mcargaTermica\u001b[0m\u001b[0;34m[\u001b[0m\u001b[0mk\u001b[0m\u001b[0;34m]\u001b[0m\u001b[0;34m=\u001b[0m\u001b[0mmCp\u001b[0m\u001b[0;34m[\u001b[0m\u001b[0mi\u001b[0m\u001b[0;34m]\u001b[0m\u001b[0;34m*\u001b[0m\u001b[0mdeltaT\u001b[0m\u001b[0;34m[\u001b[0m\u001b[0mk\u001b[0m\u001b[0;34m]\u001b[0m\u001b[0;34m\u001b[0m\u001b[0;34m\u001b[0m\u001b[0m\n\u001b[0m\u001b[1;32m     15\u001b[0m     \u001b[0mtempSaidaQ\u001b[0m\u001b[0;34m=\u001b[0m\u001b[0mtempInicial\u001b[0m\u001b[0;34m[\u001b[0m\u001b[0mi\u001b[0m\u001b[0;34m]\u001b[0m\u001b[0;34m+\u001b[0m\u001b[0mdeltaT\u001b[0m\u001b[0;34m[\u001b[0m\u001b[0mk\u001b[0m\u001b[0;34m]\u001b[0m\u001b[0;34m\u001b[0m\u001b[0;34m\u001b[0m\u001b[0m\n\u001b[1;32m     16\u001b[0m     \u001b[0mtempSaidaF\u001b[0m\u001b[0;34m=\u001b[0m\u001b[0;34m-\u001b[0m\u001b[0mcargaTermica\u001b[0m\u001b[0;34m[\u001b[0m\u001b[0mk\u001b[0m\u001b[0;34m]\u001b[0m\u001b[0;34m/\u001b[0m\u001b[0;34m(\u001b[0m\u001b[0mmCp\u001b[0m\u001b[0;34m[\u001b[0m\u001b[0mj\u001b[0m\u001b[0;34m]\u001b[0m\u001b[0;34m)\u001b[0m\u001b[0;34m+\u001b[0m\u001b[0mtempAtual\u001b[0m\u001b[0;34m[\u001b[0m\u001b[0mj\u001b[0m\u001b[0;34m]\u001b[0m\u001b[0;34m\u001b[0m\u001b[0;34m\u001b[0m\u001b[0m\n",
            "\u001b[0;31mTypeError\u001b[0m: list indices must be integers or slices, not numpy.float64"
          ]
        }
      ]
    },
    {
      "cell_type": "code",
      "metadata": {
        "id": "lsttwtFiJnH3",
        "colab_type": "code",
        "colab": {}
      },
      "source": [
        ""
      ],
      "execution_count": 0,
      "outputs": []
    },
    {
      "cell_type": "code",
      "metadata": {
        "id": "fQqq5MjzTjVn",
        "colab_type": "code",
        "colab": {}
      },
      "source": [
        "print(Custo[54])\n",
        "print(Custo[15])"
      ],
      "execution_count": 0,
      "outputs": []
    },
    {
      "cell_type": "code",
      "metadata": {
        "id": "4TPVsrf1Ty1v",
        "colab_type": "code",
        "colab": {}
      },
      "source": [
        "print(x[54])\n",
        "print(x[15])"
      ],
      "execution_count": 0,
      "outputs": []
    },
    {
      "cell_type": "code",
      "metadata": {
        "id": "_4ByEGWbnrdS",
        "colab_type": "code",
        "colab": {}
      },
      "source": [
        "cols=len(mCp)\n",
        "UsoFuncao=[]\n",
        "x=[-99.214722,59.99994,146.225,4.2108538,15.99999,0, 0.9500049,1, 1,0.9103451, 1,0.4786627]\n",
        "matrizDeltaT,matrizBinaria=buildMatriz(x,cols) # transforma x em matriz logica e troca\n",
        "tempAtual,Carga,Erro=Temperatura_Carga(mCp,matrizDeltaT,matrizBinaria,tempInicial)\n",
        "areaTrocadores =Area(U,tempAtual,tempInicial,Carga,matrizDeltaT)\n",
        "areaUtilidade, cargaUF,cargaUQ = Utilidades(tempAlvo,tempAtual,mCp)\n",
        "print('estou aqui');print(areaUtilidade);print(areaTrocadores)\n",
        "custoTotal=CustoProcesso(areaTrocadores,areaUtilidade,cargaUF,cargaUQ)\n",
        "print('Custo total');print(custoTotal);\n",
        "cost=CustoProcesso(areaTrocadores,areaUtilidade,cargaUF,cargaUQ)\n",
        "print('Custo processo');print(cost);\n",
        "print('cont_uso');print(UsoFuncao)"
      ],
      "execution_count": 0,
      "outputs": []
    },
    {
      "cell_type": "code",
      "metadata": {
        "id": "5qNdVcQ0HmQm",
        "colab_type": "code",
        "colab": {}
      },
      "source": [
        "UsoFuncao=[]\n",
        "fchoice=FUN\n",
        "result = differential_evolution(fchoice, bounds, maxiter=ITE, popsize=NPAR)\n",
        "print('temperatura atual=',tempAtual)\n",
        "print(result.x, result.fun)\n",
        "print(tempAtual)\n",
        "GBEST=result.x\n",
        "BEST=result.fun\n",
        "matrizTrocaBest,matrizBinaria=MATBEST(GBEST,mCp,tempAtual)\n",
        "matrizGrafico=MATGRAF(matrizTrocaBest,mCp,tempAtual)\n",
        "\n",
        "print('Melhor solução para %d iterações com %d partículas \\n'%(ITE,NPAR));print(GBEST)\n",
        "print('Valor da função f(gbest)=%f \\n'%BEST)\n",
        "print('matriz grafico');print(matrizGrafico)\n",
        "print('cont_uso');print(UsoFuncao)"
      ],
      "execution_count": 0,
      "outputs": []
    },
    {
      "cell_type": "code",
      "metadata": {
        "id": "FFLGL1pzftiq",
        "colab_type": "code",
        "colab": {}
      },
      "source": [
        "cols=len(mCp)\n",
        "matrizDeltaT,matrizBinaria=buildMatriz(GBEST,cols) # transforma x em matriz logica e troca\n",
        "tempAtual,cargaTermica,erro=Temperatura_Carga(mCp,matrizDeltaT,matrizBinaria,tempInicial)\n",
        "areaTrocadores =Area(U,tempAtual,tempInicial,cargaTermica,matrizDeltaT)\n",
        "\n",
        "print('temperatura inicial');print(tempInicial)\n",
        "print('temperatura alvo');print(tempAlvo)\n",
        "print('temperatura atual');print(tempAtual)\n",
        "print('Area trocadores');print(areaTrocadores)"
      ],
      "execution_count": 0,
      "outputs": []
    },
    {
      "cell_type": "code",
      "metadata": {
        "id": "-pLfJUMDh1vx",
        "colab_type": "code",
        "colab": {}
      },
      "source": [
        "print(cols)\n",
        "print(GBEST)"
      ],
      "execution_count": 0,
      "outputs": []
    },
    {
      "cell_type": "code",
      "metadata": {
        "id": "p_h7HnO3zySn",
        "colab_type": "code",
        "colab": {}
      },
      "source": [
        "matrizDeltaT,matrizBinaria=buildMatriz(GBEST,cols) # transforma x em matriz logica e troca\n",
        "print('Matriz de Trocas Térmicas \\n')\n",
        "print(matrizDeltaT)\n",
        "print('Matriz Binária \\n')\n",
        "print(matrizBinaria)"
      ],
      "execution_count": 0,
      "outputs": []
    }
  ]
}