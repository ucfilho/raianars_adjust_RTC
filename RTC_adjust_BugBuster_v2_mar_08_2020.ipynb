{
  "nbformat": 4,
  "nbformat_minor": 0,
  "metadata": {
    "colab": {
      "name": "RTC_adjust_BugBuster_v2_mar_08_2020.ipynb",
      "provenance": [],
      "collapsed_sections": [],
      "include_colab_link": true
    },
    "kernelspec": {
      "name": "python3",
      "display_name": "Python 3"
    }
  },
  "cells": [
    {
      "cell_type": "markdown",
      "metadata": {
        "id": "view-in-github",
        "colab_type": "text"
      },
      "source": [
        "<a href=\"https://colab.research.google.com/github/ucfilho/raianars_adjust_RTC/blob/master/RTC_adjust_BugBuster_v2_mar_08_2020.ipynb\" target=\"_parent\"><img src=\"https://colab.research.google.com/assets/colab-badge.svg\" alt=\"Open In Colab\"/></a>"
      ]
    },
    {
      "cell_type": "code",
      "metadata": {
        "id": "wGzR2VpcZHYA",
        "colab_type": "code",
        "colab": {}
      },
      "source": [
        "import pandas as pd\n",
        "from scipy.optimize import differential_evolution\n",
        "import numpy as np"
      ],
      "execution_count": 0,
      "outputs": []
    },
    {
      "cell_type": "code",
      "metadata": {
        "id": "2htdoQZEvKVl",
        "colab_type": "code",
        "colab": {}
      },
      "source": [
        "# Funcoes utilizadas neste codigo\n",
        "# Area(U,tempAtual,tempInicial,...): constroi matriz de areas trocadores \n",
        "#                                    entra duas correntes sendo chamada no loop\n",
        "# buildMatriz(x): constroi a matriz deltaT e binaria (logica de trocas)\n",
        "#\n",
        "# Temperatura(matrizDeltaT,...): constroi as temperaturas e cargas termicas"
      ],
      "execution_count": 0,
      "outputs": []
    },
    {
      "cell_type": "code",
      "metadata": {
        "id": "QH4J60cSP2OX",
        "colab_type": "code",
        "colab": {}
      },
      "source": [
        "def buildMatriz(x):\n",
        "  global Trocas,D, tempInicial, tempAtual \n",
        "  cols=len(tempInicial) \n",
        "  Ind_I=np.zeros((D,Trocas)).astype(np.int64)\n",
        "  Ind_J=np.zeros((D,Trocas)).astype(np.int64)\n",
        "  Tin=np.zeros((D,Trocas))\n",
        "  Tout=np.zeros((D,Trocas))\n",
        "  deltaT=np.zeros((D,Trocas))\n",
        "  for i in range(D):\n",
        "    for j in range(Trocas):\n",
        "      Ind_I[i,j]=round(x[i,j])\n",
        "      Ind_J[i,j]=round(x[i,j+Trocas])\n",
        "      deltaT[i,j]=x[i,j+2*Trocas] \n",
        "    for jj in range(cols):\n",
        "      Tin[i,jj]=tempInicial[jj]\n",
        "      Tout[i,jj]=tempAtual[jj]\n",
        "  return Ind_I,Ind_J,deltaT, Tin, Tout"
      ],
      "execution_count": 0,
      "outputs": []
    },
    {
      "cell_type": "code",
      "metadata": {
        "id": "Ha_XxG-tT7yB",
        "colab_type": "code",
        "colab": {}
      },
      "source": [
        "#def Temperatura_Carga(mCp,matrizDeltaT,matrizBinaria,tempInicial):\n",
        "def Temperatura_Carga(mCp,Ind_I,Ind_J,deltaT,Tin,Tout):\n",
        "#def Temperatura_Carga(mCp,Ind_I,Ind_J,deltaT,tempInicial,tempAtual):\n",
        "  global Trocas,D\n",
        "  # cols=len(mCp)\n",
        "  # i represent hot stream  and j represent cold stream \n",
        "  # k represent sequential heat exchanges\n",
        "  cargaTermica=np.zeros((D,Trocas))\n",
        "  contador=0\n",
        "  cont_uso=0\n",
        "  erro=np.zeros((D)) # valor erro se torna erro=1 quando ha algum erro e vai penalizar\n",
        "  for ki in range(D):\n",
        "    for kj in range(Trocas):\n",
        "      k=kj\n",
        "      i=Ind_I[ki,kj]\n",
        "      j=Ind_J[ki,kj]\n",
        "      cargaTermica[ki,kj]=mCp[i]*deltaT[ki,kj]\n",
        "      tempSaidaQ=Tin[ki,i]+deltaT[ki,kj]\n",
        "      tempSaidaF=-cargaTermica[ki,kj]/(mCp[j])+Tout[ki,j]\n",
        "      flag=0 # flag : indica que nao entra no teste logico\n",
        "      # usei flag no lugar q ifs pq a identacao ficou melhor assim\n",
        "      if(Tin[ki,i] > Tin[ki,j]): #Tquente maior Tfria: vaores atuais\n",
        "        if(tempSaidaQ > tempSaidaF): #Tquente maior Tfria: saidas\n",
        "          # if(contador < cols):\n",
        "          flag=1\n",
        "            \n",
        "      if(flag>0):\n",
        "        Tout[ki,i]=tempSaidaQ\n",
        "        Tout[ki,j]=tempSaidaF\n",
        "      else:\n",
        "        erro[ki]=1\n",
        "        #erro[ki]=0\n",
        "\n",
        "\n",
        "  return Tout,cargaTermica,erro"
      ],
      "execution_count": 0,
      "outputs": []
    },
    {
      "cell_type": "code",
      "metadata": {
        "id": "_fKh1jXRcAOr",
        "colab_type": "code",
        "colab": {}
      },
      "source": [
        "def Area(U,Tin,Tout,Ind_I,Ind_J,deltaT):\n",
        "\n",
        "  global Trocas,mCp,D\n",
        "  \n",
        "  Area=[]\n",
        "  print('Tout');print(Tout.shape)\n",
        "\n",
        "  for ki in range(D):\n",
        "    Area_Particula=[]\n",
        "    for kj in range(Trocas):\n",
        "      i=Ind_I[ki,kj]\n",
        "      Carga=mCp[i]*deltaT[ki,kj]\n",
        "      tempSaidaF=Tout[ki,i]\n",
        "      tempSaidaQ=Tout[ki,i]\n",
        "      deltaT1=Tin[ki,i]-tempSaidaF\n",
        "      deltaT2=tempSaidaQ-Tin[ki,i]\n",
        "      try:\n",
        "        A=(deltaT1-deltaT2)\n",
        "        B=np.log((deltaT1/deltaT2))\n",
        "        deltaTMediaLog=A/B\n",
        "      except:\n",
        "        deltaTMediaLog=1e99\n",
        "  \n",
        "      if(deltaTMediaLog==1e99):\n",
        "        AreaCalc=1e99\n",
        "      else:\n",
        "        AreaCalc=abs(Carga/(U*deltaTMediaLog))\n",
        "      \n",
        "      #print(Tout)\n",
        "      #print(Tin)\n",
        "      #print(\"Tout[ki,i]==Tin[ki,i] %.2f %.2f\"%(Tout[ki,i],Tin[ki,i]))\n",
        "      #print(\"Tout[ki,j]==Tin[ki,j] %.2f %.2f\"%(Tout[ki,j],Tin[ki,j]))\n",
        "      \n",
        "      if(Tout[ki,i]==Tin[ki,i]):\n",
        "            AreaCalc=0\n",
        "\n",
        "      if(Tout[ki,i]==Tin[ki,i]):\n",
        "        AreaCalc=0\n",
        "      Area_Particula.append(AreaCalc)\n",
        "      \n",
        "    Area.append(Area_Particula)\n",
        "\n",
        "  return Area"
      ],
      "execution_count": 0,
      "outputs": []
    },
    {
      "cell_type": "code",
      "metadata": {
        "id": "oJ7p1UbEHs4c",
        "colab_type": "code",
        "colab": {}
      },
      "source": [
        "def Utilidades(tempAlvo,Tout,mCp):\n",
        "\n",
        "  cols=len(mCp)\n",
        "  cargaUQ=0\n",
        "  cargaUF=0\n",
        "  \n",
        "  '''\n",
        "  caso I cita TUQin=553 e TQout=552, TUFin=303 TUFout=353\n",
        "  '''\n",
        "  \n",
        "  TUQin=553\n",
        "  TUQout=552\n",
        "  TUFin=303 \n",
        "  TUFout=353\n",
        "\n",
        "  \n",
        "  Areas=[]\n",
        "  cargaUQtodas=[]\n",
        "  cargaUFtodas=[]\n",
        "\n",
        "  for ki in range(D):\n",
        "    areaTrocador=[]\n",
        "\n",
        "    for j in range(cols):\n",
        "      delta=tempAlvo[j]-Tout[ki,j]\n",
        "      if(delta>0):#usa UQ\n",
        "        cargaUQ=cargaUQ+mCp[j]*delta\n",
        "        deltaT1=(TUQin-tempAlvo[j])\n",
        "        deltaT2=(TUQout-Tout[ki,j])\n",
        "\n",
        "        try:\n",
        "          A=deltaT1-deltaT2\n",
        "          B=np.log(deltaT1/deltaT2)\n",
        "          deltaTMediaLog=A/B\n",
        "        except:\n",
        "          deltaTMediaLog=1e99\n",
        "\n",
        "        if(deltaTMediaLog==1e99):\n",
        "          areaTrocador.append(1e99)\n",
        "        else:\n",
        "          areaTrocador.append((abs(mCp[j]*(delta)/(U*deltaTMediaLog))))\n",
        "\n",
        "      elif(delta==0):#nao usa UF e UQ\n",
        "        deltaTMediaLog=0\n",
        "        areaTrocador.append(0) \n",
        "\n",
        "      else:#usa UF\n",
        "        deltaT1=(Tout[ki,j]-TUFout)\n",
        "        deltaT2=(tempAlvo[j]-TUFin)     \n",
        "        cargaUF=cargaUF+mCp[j]*(-delta)\n",
        "\n",
        "        #UF -> água resfriada -> entra a 303K e sai a 353K\n",
        "        try:\n",
        "          A=deltaT1-deltaT2\n",
        "          B=np.log(deltaT1/deltaT2)\n",
        "          deltaTMediaLog=A/B\n",
        "        except:\n",
        "          deltaTMediaLog=1e99\n",
        "        \n",
        "        if(deltaTMediaLog==1e99):\n",
        "          areaTrocador.append(1e99)\n",
        "        else:\n",
        "          areaTrocador.append((abs(mCp[j]*(-delta)/(U*deltaTMediaLog))))\n",
        "\n",
        "\n",
        "\n",
        "    cargaUQtodas.append(cargaUQ)\n",
        "    cargaUFtodas.append(cargaUF)\n",
        "\n",
        "    Areas.append(areaTrocador)\n",
        "  \n",
        "  # print(Areas)\n",
        "  print('----carga todas-------')\n",
        "  print(cargaUQtodas)\n",
        "  print(cargaUFtodas)\n",
        "  return Areas, cargaUQtodas,cargaUQtodas \n",
        "  # areaTrocador contem a soma das areas\n",
        "  # Trocadores a area associada a cada corrente\n",
        "  # cargaUF e cargaUQ kW gasto"
      ],
      "execution_count": 0,
      "outputs": []
    },
    {
      "cell_type": "code",
      "metadata": {
        "id": "_vAVl672mXZb",
        "colab_type": "code",
        "colab": {}
      },
      "source": [
        "def CustoProcesso(Area,Utilidades,cargaUFtodas,cargaUQtodas):\n",
        "  global coefCustoUQ,coefCustoUF,D\n",
        "\n",
        "  cost=np.zeros((D))\n",
        "\n",
        "  print('cargaUFtodas-custo rotina')\n",
        "  print(cargaUFtodas)\n",
        "  print('cargaUQtodas-custo rotina')\n",
        "  print(cargaUQtodas)\n",
        "  for i in range(D):\n",
        "    cargaUQ=cargaUFtodas[i]\n",
        "    cargaUF=cargaUFtodas[i]\n",
        "    areaTrocadores=Area[i]\n",
        "    areaUtilidades=Utilidades[i]\n",
        "    costTrocadores=0\n",
        "    for it in areaTrocadores:\n",
        "      for wii in areaUtilidades:\n",
        "        if(it<1e99):\n",
        "          if(wii<1e99):\n",
        "            costTrocadores=costTrocadores+300*(it**0.5+wii**0.5)\n",
        "          else:\n",
        "            costTrocadores=1e99\n",
        "            break\n",
        "          \n",
        "    costUQ=coefCustoUQ*cargaUQ\n",
        "    costUF=coefCustoUF*cargaUF\n",
        "    print('costUQ %.2f costUF %.2f costTrocadores %.2f'%(costUQ,costUF,costTrocadores))\n",
        "    if(costTrocadores==1e99):\n",
        "      cost[i]=1e99\n",
        "    else:\n",
        "      cost[i]=costUQ+costUF+costTrocadores\n",
        "      \n",
        "  return cost"
      ],
      "execution_count": 0,
      "outputs": []
    },
    {
      "cell_type": "code",
      "metadata": {
        "id": "lmPfZ7arakM1",
        "colab_type": "code",
        "colab": {}
      },
      "source": [
        "#FUN calcula o TAC para um determinado arranjo\n",
        "#  cada calculo é feito em uma funcao a parte Fun usa todas funcoes \n",
        "\n",
        "def FUN(x):\n",
        "\n",
        "  global mCp,tempAtual,tempAlvo,tempInicial,U,coefCustoUQ,coefCustoUF\n",
        "  global D\n",
        "  \n",
        "  funr=np.zeros((D))\n",
        "  cols=len(mCp)\n",
        "  Ind_I,Ind_J,deltaT, Tin, Tout=buildMatriz(x) # transforma x em matriz logica e troca\n",
        "  Tout,Carga,Erro=Temperatura_Carga(mCp,Ind_I,Ind_J,deltaT,Tin,Tout)\n",
        "  areaTrocadores =Area(U,Tin,Tout,Ind_I,Ind_J,deltaT)\n",
        "  areaUtilidade, cargaUF,cargaUQ = Utilidades(tempAlvo,Tout,mCp)\n",
        "  cost=CustoProcesso(areaTrocadores,areaUtilidade,cargaUF,cargaUQ)\n",
        "  funr=cost\n",
        "\n",
        "\n",
        "  for k in range(D):\n",
        "    if(Erro[k]>0):\n",
        "      funr[k]=1e99\n",
        "\n",
        "  funr = np.where(np.isnan(cost), 1e99, cost)\n",
        "\n",
        "  return funr,Erro"
      ],
      "execution_count": 0,
      "outputs": []
    },
    {
      "cell_type": "code",
      "metadata": {
        "id": "Dt6anZvATxzg",
        "colab_type": "code",
        "colab": {}
      },
      "source": [
        "#********************PROGRAMA PRINCIPAL*************************\n",
        "D=25\n",
        "Trocas=4\n",
        "mCp=[4,2,1.5,3] #[kW/K]\n",
        "tempInicial=[453,393,523,533] #[K]\n",
        "tempAtual=np.copy(tempInicial) \n",
        "#tempAtual=[453,393,523,533] #[K]\n",
        "tempAlvo=[513,508,403,433] #[K]\n",
        "U=0.2 #[kW/(m2.K)]\n",
        "\n",
        "coefCustoUQ=110 #[$/(kW.ano)]\n",
        "coefCustoUF=12.2 #[$/(kW.ano)]\n",
        "\n",
        "\n",
        "\n"
      ],
      "execution_count": 0,
      "outputs": []
    },
    {
      "cell_type": "code",
      "metadata": {
        "id": "6L1ofiNr_XvB",
        "colab_type": "code",
        "colab": {}
      },
      "source": [
        "cols=12\n",
        "x=np.zeros((D,cols))\n",
        "#MAX=np.array([3,2,3,2,0,1,1,1,0,0,0,0])\n",
        "#MIN=np.array([3,2,3,2,0,1,1,1,-100,-100,-100,-100])\n",
        "MAX=np.array([3,3,3,3,1,1,1,1,0,0,0,0])\n",
        "#MIN=np.array([2,2,2,2,0,0,0,0,-100,-100,-100,-100])\n",
        "MIN=np.array([2,2,2,2,0,0,0,0,-20,-20,-20,-20])\n",
        "for i in range(D):\n",
        "  for j in range(cols):\n",
        "    r=np.random.random()\n",
        "    x[i,j]=r*(MAX[j]-MIN[j])+MIN[j]"
      ],
      "execution_count": 0,
      "outputs": []
    },
    {
      "cell_type": "code",
      "metadata": {
        "id": "_xc7nSoy3z3A",
        "colab_type": "code",
        "colab": {}
      },
      "source": [
        ""
      ],
      "execution_count": 0,
      "outputs": []
    },
    {
      "cell_type": "code",
      "metadata": {
        "id": "wGYdi890_xWh",
        "colab_type": "code",
        "colab": {}
      },
      "source": [
        "#print(x)\n",
        "#print(x.shape)"
      ],
      "execution_count": 0,
      "outputs": []
    },
    {
      "cell_type": "code",
      "metadata": {
        "id": "wnFpOji2Emmg",
        "colab_type": "code",
        "colab": {}
      },
      "source": [
        "# First step: it is working fine...\n",
        "Ind_I,Ind_J,deltaT, Tin, Tout=buildMatriz(x) # transforma x em matriz logica e troca\n",
        "\n"
      ],
      "execution_count": 0,
      "outputs": []
    },
    {
      "cell_type": "code",
      "metadata": {
        "id": "DfFCl9nbEpVl",
        "colab_type": "code",
        "outputId": "eb1f0b68-f942-4661-cd64-92c64fbabe5b",
        "colab": {
          "base_uri": "https://localhost:8080/",
          "height": 55
        }
      },
      "source": [
        "'''\n",
        "# print first step...\n",
        "print('==========')\n",
        "print(Ind_I)\n",
        "print('==========')\n",
        "print(Ind_J)\n",
        "print('==========')\n",
        "print(deltaT)\n",
        "print('==========')\n",
        "'''"
      ],
      "execution_count": 13,
      "outputs": [
        {
          "output_type": "execute_result",
          "data": {
            "text/plain": [
              "\"\\n# print first step...\\nprint('==========')\\nprint(Ind_I)\\nprint('==========')\\nprint(Ind_J)\\nprint('==========')\\nprint(deltaT)\\nprint('==========')\\n\""
            ]
          },
          "metadata": {
            "tags": []
          },
          "execution_count": 13
        }
      ]
    },
    {
      "cell_type": "code",
      "metadata": {
        "id": "Z6BwPfh25MdQ",
        "colab_type": "code",
        "colab": {
          "base_uri": "https://localhost:8080/",
          "height": 55
        },
        "outputId": "2d77b3e1-c6b3-43ec-ed4e-e74b2299c32a"
      },
      "source": [
        "\n",
        "'''\n",
        "# print first step...\n",
        "print('==========')\n",
        "print(Tin)\n",
        "print('==========')\n",
        "print(Tout)\n",
        "'''"
      ],
      "execution_count": 14,
      "outputs": [
        {
          "output_type": "execute_result",
          "data": {
            "text/plain": [
              "\"\\n# print first step...\\nprint('==========')\\nprint(Tin)\\nprint('==========')\\nprint(Tout)\\n\""
            ]
          },
          "metadata": {
            "tags": []
          },
          "execution_count": 14
        }
      ]
    },
    {
      "cell_type": "code",
      "metadata": {
        "id": "WxGm74Qs8vfz",
        "colab_type": "code",
        "colab": {}
      },
      "source": [
        "# second step\n",
        "Tout,Carga,Erro=Temperatura_Carga(mCp,Ind_I,Ind_J,deltaT,Tin,Tout)"
      ],
      "execution_count": 0,
      "outputs": []
    },
    {
      "cell_type": "code",
      "metadata": {
        "id": "6AggjTZE9qkd",
        "colab_type": "code",
        "colab": {
          "base_uri": "https://localhost:8080/",
          "height": 52
        },
        "outputId": "ee7ffcfb-e45d-44a8-a14c-ea5ec3283297"
      },
      "source": [
        "'''\n",
        "print('==========')\n",
        "print(Tin)\n",
        "print('==========')\n",
        "print(Tout)\n",
        "print('==========')\n",
        "print(Carga)\n",
        "print('==========')\n",
        "'''\n",
        "print(Erro)"
      ],
      "execution_count": 16,
      "outputs": [
        {
          "output_type": "stream",
          "text": [
            "[0. 0. 0. 0. 0. 0. 0. 0. 0. 0. 0. 0. 0. 0. 0. 0. 0. 0. 0. 0. 0. 0. 0. 0.\n",
            " 0.]\n"
          ],
          "name": "stdout"
        }
      ]
    },
    {
      "cell_type": "code",
      "metadata": {
        "id": "cITYm56A-kUB",
        "colab_type": "code",
        "colab": {
          "base_uri": "https://localhost:8080/",
          "height": 55
        },
        "outputId": "6bb7a76f-ca1d-4211-e6f5-dacf85cfe77a"
      },
      "source": [
        "'''\n",
        "print('==========')\n",
        "print(Tin)\n",
        "print('==========')\n",
        "print(Tout)\n",
        "print('==========')\n",
        "'''"
      ],
      "execution_count": 17,
      "outputs": [
        {
          "output_type": "execute_result",
          "data": {
            "text/plain": [
              "\"\\nprint('==========')\\nprint(Tin)\\nprint('==========')\\nprint(Tout)\\nprint('==========')\\n\""
            ]
          },
          "metadata": {
            "tags": []
          },
          "execution_count": 17
        }
      ]
    },
    {
      "cell_type": "code",
      "metadata": {
        "id": "fPMj-qTpV69-",
        "colab_type": "code",
        "colab": {
          "base_uri": "https://localhost:8080/",
          "height": 108
        },
        "outputId": "7dd02900-cb27-4ff3-96bd-cc37e6efe93a"
      },
      "source": [
        "# third step: it is not working????\n",
        "areaTrocadores =Area(U,Tin,Tout,Ind_I,Ind_J,deltaT)\n",
        "'''\n",
        "print(' =============')\n",
        "for it in areaTrocadores:\n",
        "  print(it)\n",
        "'''"
      ],
      "execution_count": 18,
      "outputs": [
        {
          "output_type": "stream",
          "text": [
            "Tout\n",
            "(25, 4)\n"
          ],
          "name": "stdout"
        },
        {
          "output_type": "stream",
          "text": [
            "/usr/local/lib/python3.6/dist-packages/ipykernel_launcher.py:19: RuntimeWarning: invalid value encountered in log\n"
          ],
          "name": "stderr"
        },
        {
          "output_type": "execute_result",
          "data": {
            "text/plain": [
              "\"\\nprint(' =============')\\nfor it in areaTrocadores:\\n  print(it)\\n\""
            ]
          },
          "metadata": {
            "tags": []
          },
          "execution_count": 18
        }
      ]
    },
    {
      "cell_type": "code",
      "metadata": {
        "id": "iKSvQ0pSeLi2",
        "colab_type": "code",
        "colab": {
          "base_uri": "https://localhost:8080/",
          "height": 108
        },
        "outputId": "b0220c9d-6d62-4093-a348-f03becf5a543"
      },
      "source": [
        "# fourth step: it is working\n",
        "areaTrocadores =Area(U,Tin,Tout,Ind_I,Ind_J,deltaT)\n",
        "'''\n",
        "print(' =============')\n",
        "print(areaTrocadores)\n",
        "'''"
      ],
      "execution_count": 19,
      "outputs": [
        {
          "output_type": "stream",
          "text": [
            "Tout\n",
            "(25, 4)\n"
          ],
          "name": "stdout"
        },
        {
          "output_type": "stream",
          "text": [
            "/usr/local/lib/python3.6/dist-packages/ipykernel_launcher.py:19: RuntimeWarning: invalid value encountered in log\n"
          ],
          "name": "stderr"
        },
        {
          "output_type": "execute_result",
          "data": {
            "text/plain": [
              "\"\\nprint(' =============')\\nprint(areaTrocadores)\\n\""
            ]
          },
          "metadata": {
            "tags": []
          },
          "execution_count": 19
        }
      ]
    },
    {
      "cell_type": "code",
      "metadata": {
        "id": "iVqiZ0KugkQj",
        "colab_type": "code",
        "colab": {
          "base_uri": "https://localhost:8080/",
          "height": 108
        },
        "outputId": "737b72f2-053c-426d-c18c-fb01d14922e1"
      },
      "source": [
        "# fiveth step\n",
        "areaUtilidade, cargaUF,cargaUQ = Utilidades(tempAlvo,Tout,mCp)\n",
        "'''\n",
        "for it in areaUtilidade:\n",
        "  print(it)\n",
        "print(cargaUF)\n",
        "print(cargaUQ)\n",
        "'''"
      ],
      "execution_count": 20,
      "outputs": [
        {
          "output_type": "stream",
          "text": [
            "----carga todas-------\n",
            "[363.53341953841004, 741.6090783954181, 1098.2217803118724, 1477.6680540811308, 1875.5328970275873, 2228.3102497192685, 2601.2565585012853, 2949.4906059645, 3347.449793242186, 3734.0243451492634, 4139.358948308709, 4516.47234788741, 4887.680301108041, 5257.634531646981, 5611.897574371581, 5982.96540033287, 6356.66229615807, 6733.061154030112, 7135.913686266744, 7471.6007413514035, 7882.720622978055, 8232.4026416831, 8605.481587505823, 9000.202444683082, 9323.596016080515]\n",
            "[468.85622902710276, 913.8787358921489, 1340.3231176350382, 1781.9334740550273, 2245.7280361571457, 2680.1050534209508, 3114.8037326343906, 3551.1662262849977, 3991.919451175782, 4426.390577988297, 4867.823080689449, 5322.590279909986, 5744.433181129014, 6176.469278286473, 6629.895186682603, 7089.524539930874, 7515.578373878101, 7949.091902484824, 8412.128362995045, 8811.709457141895, 9261.276835555173, 9655.06790527777, 10101.394494941422, 10550.433223874848, 10992.893764284066]\n"
          ],
          "name": "stdout"
        },
        {
          "output_type": "execute_result",
          "data": {
            "text/plain": [
              "'\\nfor it in areaUtilidade:\\n  print(it)\\nprint(cargaUF)\\nprint(cargaUQ)\\n'"
            ]
          },
          "metadata": {
            "tags": []
          },
          "execution_count": 20
        }
      ]
    },
    {
      "cell_type": "code",
      "metadata": {
        "id": "oKAKXVRFiML7",
        "colab_type": "code",
        "colab": {}
      },
      "source": [
        ""
      ],
      "execution_count": 0,
      "outputs": []
    },
    {
      "cell_type": "code",
      "metadata": {
        "id": "xIlAP6sKEs-R",
        "colab_type": "code",
        "outputId": "f399e00e-028b-4f3f-89c7-a249a13008dc",
        "colab": {
          "base_uri": "https://localhost:8080/",
          "height": 815
        }
      },
      "source": [
        "Custo, Erro=FUN(x)\n",
        "''''''\n",
        "print(Custo)\n",
        "print(Erro)\n"
      ],
      "execution_count": 21,
      "outputs": [
        {
          "output_type": "stream",
          "text": [
            "Tout\n",
            "(25, 4)\n",
            "----carga todas-------\n",
            "[363.53341953841004, 741.6090783954181, 1098.2217803118724, 1477.6680540811308, 1875.5328970275873, 2228.3102497192685, 2601.2565585012853, 2949.4906059645, 3347.449793242186, 3734.0243451492634, 4139.358948308709, 4516.47234788741, 4887.680301108041, 5257.634531646981, 5611.897574371581, 5982.96540033287, 6356.66229615807, 6733.061154030112, 7135.913686266744, 7471.6007413514035, 7882.720622978055, 8232.4026416831, 8605.481587505823, 9000.202444683082, 9323.596016080515]\n",
            "[468.85622902710276, 913.8787358921489, 1340.3231176350382, 1781.9334740550273, 2245.7280361571457, 2680.1050534209508, 3114.8037326343906, 3551.1662262849977, 3991.919451175782, 4426.390577988297, 4867.823080689449, 5322.590279909986, 5744.433181129014, 6176.469278286473, 6629.895186682603, 7089.524539930874, 7515.578373878101, 7949.091902484824, 8412.128362995045, 8811.709457141895, 9261.276835555173, 9655.06790527777, 10101.394494941422, 10550.433223874848, 10992.893764284066]\n",
            "cargaUFtodas-custo rotina\n",
            "[363.53341953841004, 741.6090783954181, 1098.2217803118724, 1477.6680540811308, 1875.5328970275873, 2228.3102497192685, 2601.2565585012853, 2949.4906059645, 3347.449793242186, 3734.0243451492634, 4139.358948308709, 4516.47234788741, 4887.680301108041, 5257.634531646981, 5611.897574371581, 5982.96540033287, 6356.66229615807, 6733.061154030112, 7135.913686266744, 7471.6007413514035, 7882.720622978055, 8232.4026416831, 8605.481587505823, 9000.202444683082, 9323.596016080515]\n",
            "cargaUQtodas-custo rotina\n",
            "[363.53341953841004, 741.6090783954181, 1098.2217803118724, 1477.6680540811308, 1875.5328970275873, 2228.3102497192685, 2601.2565585012853, 2949.4906059645, 3347.449793242186, 3734.0243451492634, 4139.358948308709, 4516.47234788741, 4887.680301108041, 5257.634531646981, 5611.897574371581, 5982.96540033287, 6356.66229615807, 6733.061154030112, 7135.913686266744, 7471.6007413514035, 7882.720622978055, 8232.4026416831, 8605.481587505823, 9000.202444683082, 9323.596016080515]\n",
            "costUQ 39988.68 costUF 4435.11 costTrocadores 0.00\n",
            "costUQ 81577.00 costUF 9047.63 costTrocadores 0.00\n",
            "costUQ 120804.40 costUF 13398.31 costTrocadores 0.00\n",
            "costUQ 162543.49 costUF 18027.55 costTrocadores 0.00\n",
            "costUQ 206308.62 costUF 22881.50 costTrocadores 0.00\n",
            "costUQ 245114.13 costUF 27185.39 costTrocadores 0.00\n",
            "costUQ 286138.22 costUF 31735.33 costTrocadores 0.00\n",
            "costUQ 324443.97 costUF 35983.79 costTrocadores 0.00\n",
            "costUQ 368219.48 costUF 40838.89 costTrocadores 0.00\n",
            "costUQ 410742.68 costUF 45555.10 costTrocadores 0.00\n",
            "costUQ 455329.48 costUF 50500.18 costTrocadores 0.00\n",
            "costUQ 496811.96 costUF 55100.96 costTrocadores 0.00\n",
            "costUQ 537644.83 costUF 59629.70 costTrocadores 0.00\n",
            "costUQ 578339.80 costUF 64143.14 costTrocadores 0.00\n",
            "costUQ 617308.73 costUF 68465.15 costTrocadores 0.00\n",
            "costUQ 658126.19 costUF 72992.18 costTrocadores 0.00\n",
            "costUQ 699232.85 costUF 77551.28 costTrocadores 0.00\n",
            "costUQ 740636.73 costUF 82143.35 costTrocadores 0.00\n",
            "costUQ 784950.51 costUF 87058.15 costTrocadores 0.00\n",
            "costUQ 821876.08 costUF 91153.53 costTrocadores 0.00\n",
            "costUQ 867099.27 costUF 96169.19 costTrocadores 0.00\n",
            "costUQ 905564.29 costUF 100435.31 costTrocadores 0.00\n",
            "costUQ 946602.97 costUF 104986.88 costTrocadores 0.00\n",
            "costUQ 990022.27 costUF 109802.47 costTrocadores 0.00\n",
            "costUQ 1025595.56 costUF 113747.87 costTrocadores 0.00\n",
            "[  44423.78386759   90624.62937992  134202.70155411  180571.03620871\n",
            "  229190.12001677  272299.51251569  317873.55144886  360427.75204886\n",
            "  409058.3647342   456297.77497724  505829.66348332  551912.92091184\n",
            "  597274.5327954   642482.93976726  685773.88358821  731118.37192068\n",
            "  776784.13259052  822780.07302248  872008.6524618   913029.61059314\n",
            "  963268.46012792 1005999.60281367 1051589.84999321 1099824.73874027\n",
            " 1139343.43316504]\n",
            "[0. 0. 0. 0. 0. 0. 0. 0. 0. 0. 0. 0. 0. 0. 0. 0. 0. 0. 0. 0. 0. 0. 0. 0.\n",
            " 0.]\n"
          ],
          "name": "stdout"
        },
        {
          "output_type": "stream",
          "text": [
            "/usr/local/lib/python3.6/dist-packages/ipykernel_launcher.py:19: RuntimeWarning: invalid value encountered in log\n"
          ],
          "name": "stderr"
        }
      ]
    },
    {
      "cell_type": "code",
      "metadata": {
        "id": "IxfqXr3wvOfp",
        "colab_type": "code",
        "colab": {
          "base_uri": "https://localhost:8080/",
          "height": 55
        },
        "outputId": "94dfdf1c-776d-42d9-e71a-d9d7e4fa88a5"
      },
      "source": [
        "'''\n",
        "[1179863.51077034 1181562.29317795 1180331.49642757 1181460.67704922\n",
        " 1181095.7955166  1180257.42122825 1180111.61408429 1182266.47563206\n",
        " 1180710.37174756 1182890.62261093 1181817.56790337 1180547.66398535\n",
        " 1182338.81611602 1182913.35693227 1180353.18466131 1180648.20461183\n",
        " 1179862.73888151 1181911.64223794 1179179.79482066 1180910.83199421\n",
        " 1180822.39103782 1180981.81021803 1180531.21335749 1180458.18878147\n",
        " 1182030.28999255]\n",
        "'''"
      ],
      "execution_count": 22,
      "outputs": [
        {
          "output_type": "execute_result",
          "data": {
            "text/plain": [
              "'\\n[1179863.51077034 1181562.29317795 1180331.49642757 1181460.67704922\\n 1181095.7955166  1180257.42122825 1180111.61408429 1182266.47563206\\n 1180710.37174756 1182890.62261093 1181817.56790337 1180547.66398535\\n 1182338.81611602 1182913.35693227 1180353.18466131 1180648.20461183\\n 1179862.73888151 1181911.64223794 1179179.79482066 1180910.83199421\\n 1180822.39103782 1180981.81021803 1180531.21335749 1180458.18878147\\n 1182030.28999255]\\n'"
            ]
          },
          "metadata": {
            "tags": []
          },
          "execution_count": 22
        }
      ]
    },
    {
      "cell_type": "code",
      "metadata": {
        "id": "cZeWZKKbDw_4",
        "colab_type": "code",
        "outputId": "91eae056-0a42-40d3-d1e2-ca88de4655ef",
        "colab": {
          "base_uri": "https://localhost:8080/",
          "height": 35
        }
      },
      "source": [
        "print(tempAtual)"
      ],
      "execution_count": 23,
      "outputs": [
        {
          "output_type": "stream",
          "text": [
            "[453 393 523 533]\n"
          ],
          "name": "stdout"
        }
      ]
    },
    {
      "cell_type": "code",
      "metadata": {
        "id": "AE5bnwvC66GF",
        "colab_type": "code",
        "outputId": "db8a0993-975b-4b51-cb19-5595184c1b91",
        "colab": {
          "base_uri": "https://localhost:8080/",
          "height": 302
        }
      },
      "source": [
        "# caso I: parecido, teste \n",
        "#Ind_x=[4,3,4,3]\n",
        "#Ind_y=[1,2,2,2]\n",
        "#deltaT=[-21,-75,-21,-27]\n",
        "D=1\n",
        "#xtest=np.array([3,2,3,2,0,1,1,1,-21,-75,-21,-27]).reshape(1,12)\n",
        "xtest=np.array([3,2,3,2,0,1,1,1,-78,-75,-21,-27]).reshape(1,12)\n",
        "Ind_I,Ind_J,deltaT, Tin, Tout=buildMatriz(x)\n",
        "print(Ind_I)\n",
        "print(Ind_J)\n",
        "Custo, Erro=FUN(xtest)\n",
        "print(Custo)\n",
        "print(Erro)"
      ],
      "execution_count": 24,
      "outputs": [
        {
          "output_type": "stream",
          "text": [
            "[[3 3 2 3]]\n",
            "[[0 1 0 0]]\n",
            "Tout\n",
            "(1, 4)\n",
            "----carga todas-------\n",
            "[366.5]\n",
            "[376.5]\n",
            "cargaUFtodas-custo rotina\n",
            "[366.5]\n",
            "cargaUQtodas-custo rotina\n",
            "[366.5]\n",
            "costUQ 40315.00 costUF 4471.30 costTrocadores 0.00\n",
            "[1.e+99]\n",
            "[1.]\n"
          ],
          "name": "stdout"
        },
        {
          "output_type": "stream",
          "text": [
            "/usr/local/lib/python3.6/dist-packages/ipykernel_launcher.py:19: RuntimeWarning: invalid value encountered in log\n"
          ],
          "name": "stderr"
        }
      ]
    },
    {
      "cell_type": "code",
      "metadata": {
        "id": "qZYtUEm68B7L",
        "colab_type": "code",
        "outputId": "59f8684e-82cc-4ecf-c98b-70107ea3fb7b",
        "colab": {
          "base_uri": "https://localhost:8080/",
          "height": 302
        }
      },
      "source": [
        "#xtest=np.array([3,2,3,2,0,1,1,1,-75,-21,-27,-78]).reshape(1,12)\n",
        "xtest=np.array([3,2,3,2,0,1,1,1,-78,-27,-21,-75]).reshape(1,12)\n",
        "Ind_I,Ind_J,deltaT, Tin, Tout=buildMatriz(x)\n",
        "print(Ind_I)\n",
        "print(Ind_J)\n",
        "Custo, Erro=FUN(xtest)\n",
        "print(Custo)\n",
        "print(Erro)"
      ],
      "execution_count": 25,
      "outputs": [
        {
          "output_type": "stream",
          "text": [
            "[[3 3 2 3]]\n",
            "[[0 1 0 0]]\n",
            "Tout\n",
            "(1, 4)\n",
            "----carga todas-------\n",
            "[366.5]\n",
            "[376.5]\n",
            "cargaUFtodas-custo rotina\n",
            "[366.5]\n",
            "cargaUQtodas-custo rotina\n",
            "[366.5]\n",
            "costUQ 40315.00 costUF 4471.30 costTrocadores 0.00\n",
            "[1.e+99]\n",
            "[1.]\n"
          ],
          "name": "stdout"
        },
        {
          "output_type": "stream",
          "text": [
            "/usr/local/lib/python3.6/dist-packages/ipykernel_launcher.py:19: RuntimeWarning: invalid value encountered in log\n"
          ],
          "name": "stderr"
        }
      ]
    }
  ]
}