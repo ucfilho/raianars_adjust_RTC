{
  "nbformat": 4,
  "nbformat_minor": 0,
  "metadata": {
    "colab": {
      "name": "RTC_adjust_BugBuster_mar_08_2020.ipynb",
      "provenance": [],
      "collapsed_sections": [],
      "include_colab_link": true
    },
    "kernelspec": {
      "name": "python3",
      "display_name": "Python 3"
    }
  },
  "cells": [
    {
      "cell_type": "markdown",
      "metadata": {
        "id": "view-in-github",
        "colab_type": "text"
      },
      "source": [
        "<a href=\"https://colab.research.google.com/github/ucfilho/raianars_adjust_RTC/blob/master/RTC_adjust_BugBuster_mar_08_2020.ipynb\" target=\"_parent\"><img src=\"https://colab.research.google.com/assets/colab-badge.svg\" alt=\"Open In Colab\"/></a>"
      ]
    },
    {
      "cell_type": "code",
      "metadata": {
        "id": "wGzR2VpcZHYA",
        "colab_type": "code",
        "colab": {}
      },
      "source": [
        "import pandas as pd\n",
        "from scipy.optimize import differential_evolution\n",
        "import numpy as np"
      ],
      "execution_count": 0,
      "outputs": []
    },
    {
      "cell_type": "code",
      "metadata": {
        "id": "2htdoQZEvKVl",
        "colab_type": "code",
        "colab": {}
      },
      "source": [
        "# Funcoes utilizadas neste codigo\n",
        "# Area(U,tempAtual,tempInicial,...): constroi matriz de areas trocadores \n",
        "#                                    entra duas correntes sendo chamada no loop\n",
        "# buildMatriz(x): constroi a matriz deltaT e binaria (logica de trocas)\n",
        "#\n",
        "# Temperatura(matrizDeltaT,...): constroi as temperaturas e cargas termicas"
      ],
      "execution_count": 0,
      "outputs": []
    },
    {
      "cell_type": "code",
      "metadata": {
        "id": "QH4J60cSP2OX",
        "colab_type": "code",
        "colab": {}
      },
      "source": [
        "def buildMatriz(x):\n",
        "  global Trocas,D, tempInicial, tempAtual \n",
        "  cols=len(tempInicial) \n",
        "  Ind_I=np.zeros((D,Trocas)).astype(np.int64)\n",
        "  Ind_J=np.zeros((D,Trocas)).astype(np.int64)\n",
        "  Tin=np.zeros((D,Trocas))\n",
        "  Tout=np.zeros((D,Trocas))\n",
        "  deltaT=np.zeros((D,Trocas))\n",
        "  for i in range(D):\n",
        "    for j in range(Trocas):\n",
        "      Ind_I[i,j]=round(x[i,j])\n",
        "      Ind_J[i,j]=round(x[i,j+Trocas])\n",
        "      deltaT[i,j]=x[i,j+2*Trocas] \n",
        "    for jj in range(cols):\n",
        "      Tin[i,jj]=tempInicial[jj]\n",
        "      Tout[i,jj]=tempAtual[jj]\n",
        "  return Ind_I,Ind_J,deltaT, Tin, Tout"
      ],
      "execution_count": 0,
      "outputs": []
    },
    {
      "cell_type": "code",
      "metadata": {
        "id": "Ha_XxG-tT7yB",
        "colab_type": "code",
        "colab": {}
      },
      "source": [
        "#def Temperatura_Carga(mCp,matrizDeltaT,matrizBinaria,tempInicial):\n",
        "def Temperatura_Carga(mCp,Ind_I,Ind_J,deltaT,Tin,Tout):\n",
        "#def Temperatura_Carga(mCp,Ind_I,Ind_J,deltaT,tempInicial,tempAtual):\n",
        "  global Trocas,D\n",
        "  # cols=len(mCp)\n",
        "  # i represent hot stream  and j represent cold stream \n",
        "  # k represent sequential heat exchanges\n",
        "  cargaTermica=np.zeros((D,Trocas))\n",
        "  contador=0\n",
        "  cont_uso=0\n",
        "  erro=np.zeros((D)) # valor erro se torna erro=1 quando ha algum erro e vai penalizar\n",
        "  for ki in range(D):\n",
        "    for kj in range(Trocas):\n",
        "      k=kj\n",
        "      i=Ind_I[ki,kj]\n",
        "      j=Ind_J[ki,kj]\n",
        "      '''\n",
        "      print('=================')\n",
        "      print(i,j)\n",
        "      print('mCp[i]',mCp[i])\n",
        "      print('deltaT[ki,kj]',deltaT[ki,kj])\n",
        "      '''\n",
        "      cargaTermica[ki,kj]=mCp[i]*deltaT[ki,kj]\n",
        "      tempSaidaQ=Tin[ki,i]+deltaT[ki,kj]\n",
        "      tempSaidaF=-cargaTermica[ki,kj]/(mCp[j])+Tout[ki,j]\n",
        "      flag=0 # flag : indica que nao entra no teste logico\n",
        "      # usei flag no lugar q ifs pq a identacao ficou melhor assim\n",
        "      if(Tin[ki,i] > Tin[ki,j]): #Tquente maior Tfria: vaores atuais\n",
        "        if(tempSaidaQ > tempSaidaF): #Tquente maior Tfria: saidas\n",
        "          # if(contador < cols):\n",
        "          flag=1\n",
        "            \n",
        "      if(flag>0):\n",
        "        Tout[ki,i]=tempSaidaQ\n",
        "        Tout[ki,j]=tempSaidaF\n",
        "      else:\n",
        "        erro[ki]=1\n",
        "        #erro[ki]=0\n",
        "\n",
        "\n",
        "  return Tout,cargaTermica,erro"
      ],
      "execution_count": 0,
      "outputs": []
    },
    {
      "cell_type": "code",
      "metadata": {
        "id": "_fKh1jXRcAOr",
        "colab_type": "code",
        "colab": {}
      },
      "source": [
        "def Area(U,Tin,Tout,Ind_I,Ind_J,deltaT):\n",
        "\n",
        "  global Trocas,mCp,D\n",
        "  \n",
        "  Area=[]\n",
        "\n",
        "  for ki in range(D):\n",
        "    Area_Particula=[]\n",
        "    for kj in range(Trocas):\n",
        "      i=Ind_I[ki,kj]\n",
        "      j=Ind_J[ki,kj]\n",
        "      '''\n",
        "      print('================')\n",
        "      print(i,j)\n",
        "      print('mCp[i]',mCp[i])\n",
        "      print('deltaT[ki,kj]',deltaT[ki,kj])\n",
        "      print('ki',ki)\n",
        "      print(Tout)\n",
        "      print('Tout[ki,j]',Tout[ki,j])\n",
        "      '''\n",
        "      Carga=mCp[i]*deltaT[ki,kj]\n",
        "      tempSaidaF=Tout[ki,j]\n",
        "      tempSaidaQ=Tout[ki,i]\n",
        "      deltaT1=Tin[ki,i]-tempSaidaF\n",
        "      deltaT2=tempSaidaQ-Tin[ki,j]\n",
        "      try:\n",
        "        A=(deltaT1-deltaT2)\n",
        "        B=np.log((deltaT1/deltaT2))\n",
        "        deltaTMediaLog=A/B\n",
        "      except:\n",
        "        deltaTMediaLog=1e99\n",
        "  \n",
        "      if(deltaTMediaLog==1e99):\n",
        "        AreaCalc=1e99\n",
        "      else:\n",
        "        AreaCalc=abs(Carga/(U*deltaTMediaLog))\n",
        "      \n",
        "      #print(Tout)\n",
        "      #print(Tin)\n",
        "      #print(\"Tout[ki,i]==Tin[ki,i] %.2f %.2f\"%(Tout[ki,i],Tin[ki,i]))\n",
        "      #print(\"Tout[ki,j]==Tin[ki,j] %.2f %.2f\"%(Tout[ki,j],Tin[ki,j]))\n",
        "      \n",
        "      if(Tout[ki,i]==Tin[ki,i]):\n",
        "            AreaCalc=0\n",
        "\n",
        "      if(Tout[ki,j]==Tin[ki,j]):\n",
        "        AreaCalc=0\n",
        "      '''   '''   \n",
        "      Area_Particula.append(AreaCalc)\n",
        "      \n",
        "    Area.append(Area_Particula)\n",
        "\n",
        "  return Area"
      ],
      "execution_count": 0,
      "outputs": []
    },
    {
      "cell_type": "code",
      "metadata": {
        "id": "oJ7p1UbEHs4c",
        "colab_type": "code",
        "colab": {}
      },
      "source": [
        "def Utilidades(tempAlvo,Tout,mCp):\n",
        "\n",
        "  cols=len(mCp)\n",
        "  cargaUQ=0\n",
        "  cargaUF=0\n",
        "  \n",
        "  '''\n",
        "  caso I cita TUQin=553 e TQout=552, TUFin=303 TUFout=353\n",
        "  '''\n",
        "  \n",
        "  TUQin=553\n",
        "  TUQout=552\n",
        "  TUFin=303 \n",
        "  TUFout=353\n",
        "\n",
        "  \n",
        "  Areas=[]\n",
        "  cargaUQtodas=[]\n",
        "  cargaUFtodas=[]\n",
        "\n",
        "  for ki in range(D):\n",
        "    areaTrocador=[]\n",
        "\n",
        "    for j in range(cols):\n",
        "      delta=tempAlvo[j]-Tout[ki,j]\n",
        "      if(delta>0):#usa UQ\n",
        "        cargaUQ=cargaUQ+mCp[j]*delta\n",
        "        deltaT1=(TUQin-tempAlvo[j])\n",
        "        deltaT2=(TUQout-Tout[ki,j])\n",
        "\n",
        "        try:\n",
        "          A=deltaT1-deltaT2\n",
        "          B=np.log(deltaT1/deltaT2)\n",
        "          deltaTMediaLog=A/B\n",
        "        except:\n",
        "          deltaTMediaLog=1e99\n",
        "\n",
        "        if(deltaTMediaLog==1e99):\n",
        "          areaTrocador.append(1e99)\n",
        "        else:\n",
        "          areaTrocador.append((abs(mCp[j]*(delta)/(U*deltaTMediaLog))))\n",
        "\n",
        "      elif(delta==0):#nao usa UF e UQ\n",
        "        deltaTMediaLog=0\n",
        "        areaTrocador.append(0) \n",
        "\n",
        "      else:#usa UF\n",
        "        deltaT1=(Tout[ki,j]-TUFout)\n",
        "        deltaT2=(tempAlvo[j]-TUFin)     \n",
        "        cargaUF=cargaUF+mCp[j]*(-delta)\n",
        "\n",
        "        #UF -> água resfriada -> entra a 303K e sai a 353K\n",
        "        try:\n",
        "          A=deltaT1-deltaT2\n",
        "          B=np.log(deltaT1/deltaT2)\n",
        "          deltaTMediaLog=A/B\n",
        "        except:\n",
        "          deltaTMediaLog=1e99\n",
        "        \n",
        "        if(deltaTMediaLog==1e99):\n",
        "          areaTrocador.append(1e99)\n",
        "        else:\n",
        "          areaTrocador.append((abs(mCp[j]*(-delta)/(U*deltaTMediaLog))))\n",
        "\n",
        "\n",
        "\n",
        "    cargaUQtodas.append(cargaUQ)\n",
        "    cargaUFtodas.append(cargaUF)\n",
        "\n",
        "    Areas.append(areaTrocador)\n",
        "  \n",
        "  # print(Areas)\n",
        "  print('----carga todas-------')\n",
        "  print(cargaUQtodas)\n",
        "  print(cargaUFtodas)\n",
        "  return Areas, cargaUQtodas,cargaUQtodas \n",
        "  # areaTrocador contem a soma das areas\n",
        "  # Trocadores a area associada a cada corrente\n",
        "  # cargaUF e cargaUQ kW gasto"
      ],
      "execution_count": 0,
      "outputs": []
    },
    {
      "cell_type": "code",
      "metadata": {
        "id": "_vAVl672mXZb",
        "colab_type": "code",
        "colab": {}
      },
      "source": [
        "def CustoProcesso(Area,Utilidades,cargaUFtodas,cargaUQtodas):\n",
        "  global coefCustoUQ,coefCustoUF,D\n",
        "\n",
        "  cost=np.zeros((D))\n",
        "\n",
        "  print('cargaUFtodas-custo rotina')\n",
        "  print(cargaUFtodas)\n",
        "  print('cargaUQtodas-custo rotina')\n",
        "  print(cargaUQtodas)\n",
        "  for i in range(D):\n",
        "    cargaUQ=cargaUFtodas[i]\n",
        "    cargaUF=cargaUQtodas[i]\n",
        "    print('=====xxx====xxxx=====')\n",
        "    print(cargaUF)\n",
        "    print('=====xxx====xxxx=====')\n",
        "    print(cargaUQ)\n",
        "    areaTrocadores=Area[i]\n",
        "    areaUtilidades=Utilidades[i]\n",
        "    print('=================================')\n",
        "    print(areaTrocadores)\n",
        "    print(areaUtilidades)\n",
        "    print('=================================')\n",
        "    print('=================================')\n",
        "    costTrocadores=0\n",
        "    for it in areaTrocadores:\n",
        "      for wii in areaUtilidades:\n",
        "        if(it<1e99):\n",
        "          if(wii<1e99):\n",
        "            costTrocadores=costTrocadores+300*(it**0.5+wii**0.5)\n",
        "          else:\n",
        "            costTrocadores=1e99\n",
        "            break\n",
        "          \n",
        "    costUQ=coefCustoUQ*cargaUQ\n",
        "    costUF=coefCustoUF*cargaUF\n",
        "    print('costUQ %.2f costUF %.2f costTrocadores %.2f'%(costUQ,costUF,costTrocadores))\n",
        "    if(costTrocadores==1e99):\n",
        "      cost[i]=1e99\n",
        "    else:\n",
        "      cost[i]=costUQ+costUF+costTrocadores\n",
        "      \n",
        "  return cost"
      ],
      "execution_count": 0,
      "outputs": []
    },
    {
      "cell_type": "code",
      "metadata": {
        "id": "lmPfZ7arakM1",
        "colab_type": "code",
        "colab": {}
      },
      "source": [
        "#FUN calcula o TAC para um determinado arranjo\n",
        "#  cada calculo é feito em uma funcao a parte Fun usa todas funcoes \n",
        "\n",
        "def FUN(x):\n",
        "\n",
        "  global mCp,tempAtual,tempAlvo,tempInicial,U,coefCustoUQ,coefCustoUF\n",
        "  global D\n",
        "  \n",
        "  funr=np.zeros((D))\n",
        "  cols=len(mCp)\n",
        "  Ind_I,Ind_J,deltaT, Tin, Tout=buildMatriz(x) # transforma x em matriz logica e troca\n",
        "  Tout,Carga,Erro=Temperatura_Carga(mCp,Ind_I,Ind_J,deltaT,Tin,Tout)\n",
        "  areaTrocadores =Area(U,Tin,Tout,Ind_I,Ind_J,deltaT)\n",
        "  areaUtilidade, cargaUF,cargaUQ = Utilidades(tempAlvo,Tout,mCp)\n",
        "  cost=CustoProcesso(areaTrocadores,areaUtilidade,cargaUF,cargaUQ)\n",
        "  funr=cost\n",
        " \n",
        "  #print(Erro)\n",
        "  #print(funr)\n",
        "\n",
        "  for k in range(D):\n",
        "    if(Erro[k]>0):\n",
        "      funr[k]=1e99\n",
        "\n",
        "  funr = np.where(np.isnan(cost), 1e99, cost)\n",
        "\n",
        "  return funr,Erro"
      ],
      "execution_count": 0,
      "outputs": []
    },
    {
      "cell_type": "code",
      "metadata": {
        "id": "Dt6anZvATxzg",
        "colab_type": "code",
        "colab": {}
      },
      "source": [
        "#********************PROGRAMA PRINCIPAL*************************\n",
        "D=25\n",
        "Trocas=4\n",
        "mCp=[4,2,1.5,3] #[kW/K]\n",
        "tempInicial=[453,393,523,533] #[K]\n",
        "tempAtual=np.copy(tempInicial) \n",
        "#tempAtual=[453,393,523,533] #[K]\n",
        "tempAlvo=[513,508,403,433] #[K]\n",
        "U=0.2 #[kW/(m2.K)]\n",
        "\n",
        "coefCustoUQ=110 #[$/(kW.ano)]\n",
        "coefCustoUF=12.2 #[$/(kW.ano)]\n",
        "\n",
        "\n",
        "\n"
      ],
      "execution_count": 0,
      "outputs": []
    },
    {
      "cell_type": "code",
      "metadata": {
        "id": "6L1ofiNr_XvB",
        "colab_type": "code",
        "colab": {}
      },
      "source": [
        "cols=12\n",
        "x=np.zeros((D,cols))\n",
        "#MAX=np.array([3,2,3,2,0,1,1,1,0,0,0,0])\n",
        "#MIN=np.array([3,2,3,2,0,1,1,1,-100,-100,-100,-100])\n",
        "MAX=np.array([3,3,3,3,1,1,1,1,0,0,0,0])\n",
        "#MIN=np.array([2,2,2,2,0,0,0,0,-100,-100,-100,-100])\n",
        "MIN=np.array([2,2,2,2,0,0,0,0,-20,-20,-20,-20])\n",
        "for i in range(D):\n",
        "  for j in range(cols):\n",
        "    r=np.random.random()\n",
        "    x[i,j]=r*(MAX[j]-MIN[j])+MIN[j]"
      ],
      "execution_count": 0,
      "outputs": []
    },
    {
      "cell_type": "code",
      "metadata": {
        "id": "_xc7nSoy3z3A",
        "colab_type": "code",
        "colab": {}
      },
      "source": [
        ""
      ],
      "execution_count": 0,
      "outputs": []
    },
    {
      "cell_type": "code",
      "metadata": {
        "id": "wGYdi890_xWh",
        "colab_type": "code",
        "colab": {}
      },
      "source": [
        "#print(x)\n",
        "#print(x.shape)"
      ],
      "execution_count": 0,
      "outputs": []
    },
    {
      "cell_type": "code",
      "metadata": {
        "id": "wnFpOji2Emmg",
        "colab_type": "code",
        "colab": {}
      },
      "source": [
        "# First step: it is working fine...\n",
        "Ind_I,Ind_J,deltaT, Tin, Tout=buildMatriz(x) # transforma x em matriz logica e troca\n",
        "\n"
      ],
      "execution_count": 0,
      "outputs": []
    },
    {
      "cell_type": "code",
      "metadata": {
        "id": "DfFCl9nbEpVl",
        "colab_type": "code",
        "outputId": "296ac159-d487-4231-943f-e365ed251e32",
        "colab": {
          "base_uri": "https://localhost:8080/",
          "height": 55
        }
      },
      "source": [
        "'''\n",
        "# print first step...\n",
        "print('==========')\n",
        "print(Ind_I)\n",
        "print('==========')\n",
        "print(Ind_J)\n",
        "print('==========')\n",
        "print(deltaT)\n",
        "print('==========')\n",
        "'''"
      ],
      "execution_count": 13,
      "outputs": [
        {
          "output_type": "execute_result",
          "data": {
            "text/plain": [
              "\"\\n# print first step...\\nprint('==========')\\nprint(Ind_I)\\nprint('==========')\\nprint(Ind_J)\\nprint('==========')\\nprint(deltaT)\\nprint('==========')\\n\""
            ]
          },
          "metadata": {
            "tags": []
          },
          "execution_count": 13
        }
      ]
    },
    {
      "cell_type": "code",
      "metadata": {
        "id": "Z6BwPfh25MdQ",
        "colab_type": "code",
        "colab": {
          "base_uri": "https://localhost:8080/",
          "height": 55
        },
        "outputId": "2b4a2c36-4bc4-479a-f89a-1d4789aa3495"
      },
      "source": [
        "\n",
        "'''\n",
        "# print first step...\n",
        "print('==========')\n",
        "print(Tin)\n",
        "print('==========')\n",
        "print(Tout)\n",
        "'''"
      ],
      "execution_count": 14,
      "outputs": [
        {
          "output_type": "execute_result",
          "data": {
            "text/plain": [
              "\"\\n# print first step...\\nprint('==========')\\nprint(Tin)\\nprint('==========')\\nprint(Tout)\\n\""
            ]
          },
          "metadata": {
            "tags": []
          },
          "execution_count": 14
        }
      ]
    },
    {
      "cell_type": "code",
      "metadata": {
        "id": "WxGm74Qs8vfz",
        "colab_type": "code",
        "colab": {}
      },
      "source": [
        "# second step\n",
        "Tout,Carga,Erro=Temperatura_Carga(mCp,Ind_I,Ind_J,deltaT,Tin,Tout)"
      ],
      "execution_count": 0,
      "outputs": []
    },
    {
      "cell_type": "code",
      "metadata": {
        "id": "6AggjTZE9qkd",
        "colab_type": "code",
        "colab": {
          "base_uri": "https://localhost:8080/",
          "height": 52
        },
        "outputId": "8186199b-ab40-4083-b124-6e775ab68dd3"
      },
      "source": [
        "'''\n",
        "print('==========')\n",
        "print(Tin)\n",
        "print('==========')\n",
        "print(Tout)\n",
        "print('==========')\n",
        "print(Carga)\n",
        "print('==========')\n",
        "'''\n",
        "print(Erro)"
      ],
      "execution_count": 16,
      "outputs": [
        {
          "output_type": "stream",
          "text": [
            "[0. 0. 0. 0. 0. 0. 0. 0. 0. 0. 0. 0. 0. 0. 0. 0. 0. 0. 0. 0. 0. 0. 0. 0.\n",
            " 0.]\n"
          ],
          "name": "stdout"
        }
      ]
    },
    {
      "cell_type": "code",
      "metadata": {
        "id": "cITYm56A-kUB",
        "colab_type": "code",
        "colab": {
          "base_uri": "https://localhost:8080/",
          "height": 55
        },
        "outputId": "faa9c863-72d9-4af2-bdab-caf743434fe4"
      },
      "source": [
        "'''\n",
        "print('==========')\n",
        "print(Tin)\n",
        "print('==========')\n",
        "print(Tout)\n",
        "print('==========')\n",
        "'''"
      ],
      "execution_count": 17,
      "outputs": [
        {
          "output_type": "execute_result",
          "data": {
            "text/plain": [
              "\"\\nprint('==========')\\nprint(Tin)\\nprint('==========')\\nprint(Tout)\\nprint('==========')\\n\""
            ]
          },
          "metadata": {
            "tags": []
          },
          "execution_count": 17
        }
      ]
    },
    {
      "cell_type": "code",
      "metadata": {
        "id": "fPMj-qTpV69-",
        "colab_type": "code",
        "colab": {
          "base_uri": "https://localhost:8080/",
          "height": 35
        },
        "outputId": "21e1a6ab-281f-4d54-a8f9-4929a43dbdaf"
      },
      "source": [
        "# third step: it is not working????\n",
        "areaTrocadores =Area(U,Tin,Tout,Ind_I,Ind_J,deltaT)\n",
        "'''\n",
        "print(' =============')\n",
        "for it in areaTrocadores:\n",
        "  print(it)\n",
        "'''"
      ],
      "execution_count": 18,
      "outputs": [
        {
          "output_type": "execute_result",
          "data": {
            "text/plain": [
              "\"\\nprint(' =============')\\nfor it in areaTrocadores:\\n  print(it)\\n\""
            ]
          },
          "metadata": {
            "tags": []
          },
          "execution_count": 18
        }
      ]
    },
    {
      "cell_type": "code",
      "metadata": {
        "id": "iKSvQ0pSeLi2",
        "colab_type": "code",
        "colab": {
          "base_uri": "https://localhost:8080/",
          "height": 35
        },
        "outputId": "e4b86d48-e5a0-420e-aded-047300181fb8"
      },
      "source": [
        "# fourth step: it is working\n",
        "areaTrocadores =Area(U,Tin,Tout,Ind_I,Ind_J,deltaT)\n",
        "'''\n",
        "print(' =============')\n",
        "print(areaTrocadores)\n",
        "'''"
      ],
      "execution_count": 19,
      "outputs": [
        {
          "output_type": "execute_result",
          "data": {
            "text/plain": [
              "\"\\nprint(' =============')\\nprint(areaTrocadores)\\n\""
            ]
          },
          "metadata": {
            "tags": []
          },
          "execution_count": 19
        }
      ]
    },
    {
      "cell_type": "code",
      "metadata": {
        "id": "iVqiZ0KugkQj",
        "colab_type": "code",
        "colab": {
          "base_uri": "https://localhost:8080/",
          "height": 108
        },
        "outputId": "715b1137-d0d0-473f-d983-3c20cf7d52bf"
      },
      "source": [
        "# fiveth step\n",
        "areaUtilidade, cargaUF,cargaUQ = Utilidades(tempAlvo,Tout,mCp)\n",
        "'''\n",
        "for it in areaUtilidade:\n",
        "  print(it)\n",
        "print(cargaUF)\n",
        "print(cargaUQ)\n",
        "'''"
      ],
      "execution_count": 20,
      "outputs": [
        {
          "output_type": "stream",
          "text": [
            "----carga todas-------\n",
            "[379.32261828524634, 748.1868954185959, 1138.846981597224, 1535.128685592762, 1945.7519704772144, 2324.698706318241, 2749.049704601778, 3125.373351720159, 3453.5873755928324, 3847.793276425501, 4260.93884157072, 4643.174024468315, 4993.721262276459, 5382.1832696714855, 5739.622717445779, 6107.102502853663, 6505.571961868876, 6887.87627324464, 7244.99758327377, 7620.006146412711, 8015.388796550419, 8417.40824713981, 8848.385351333478, 9266.819669039083, 9616.543122244693]\n",
            "[433.29909535645606, 881.7756509480148, 1323.6910331228478, 1765.5354077290083, 2216.1079400391855, 2633.872225767903, 3076.5897421316754, 3493.785219323183, 3942.981525137967, 4352.115187743421, 4823.911483761725, 5233.007268878795, 5662.460410053228, 6078.252909040695, 6472.37173652654, 6903.086152955394, 7354.4194573261575, 7796.4709513286125, 8228.724979572029, 8662.193546150264, 9101.717552120468, 9539.578584981076, 9991.088374946572, 10426.989224482977, 10868.557639299479]\n"
          ],
          "name": "stdout"
        },
        {
          "output_type": "execute_result",
          "data": {
            "text/plain": [
              "'\\nfor it in areaUtilidade:\\n  print(it)\\nprint(cargaUF)\\nprint(cargaUQ)\\n'"
            ]
          },
          "metadata": {
            "tags": []
          },
          "execution_count": 20
        }
      ]
    },
    {
      "cell_type": "code",
      "metadata": {
        "id": "oKAKXVRFiML7",
        "colab_type": "code",
        "colab": {}
      },
      "source": [
        ""
      ],
      "execution_count": 0,
      "outputs": []
    },
    {
      "cell_type": "code",
      "metadata": {
        "id": "xIlAP6sKEs-R",
        "colab_type": "code",
        "outputId": "552dd546-c47d-4ccc-d1a1-465944ad8ae4",
        "colab": {
          "base_uri": "https://localhost:8080/",
          "height": 1000
        }
      },
      "source": [
        "Custo, Erro=FUN(x)\n",
        "''''''\n",
        "print(Custo)\n",
        "print(Erro)\n"
      ],
      "execution_count": 21,
      "outputs": [
        {
          "output_type": "stream",
          "text": [
            "----carga todas-------\n",
            "[379.32261828524634, 748.1868954185959, 1138.846981597224, 1535.128685592762, 1945.7519704772144, 2324.698706318241, 2749.049704601778, 3125.373351720159, 3453.5873755928324, 3847.793276425501, 4260.93884157072, 4643.174024468315, 4993.721262276459, 5382.1832696714855, 5739.622717445779, 6107.102502853663, 6505.571961868876, 6887.87627324464, 7244.99758327377, 7620.006146412711, 8015.388796550419, 8417.40824713981, 8848.385351333478, 9266.819669039083, 9616.543122244693]\n",
            "[433.29909535645606, 881.7756509480148, 1323.6910331228478, 1765.5354077290083, 2216.1079400391855, 2633.872225767903, 3076.5897421316754, 3493.785219323183, 3942.981525137967, 4352.115187743421, 4823.911483761725, 5233.007268878795, 5662.460410053228, 6078.252909040695, 6472.37173652654, 6903.086152955394, 7354.4194573261575, 7796.4709513286125, 8228.724979572029, 8662.193546150264, 9101.717552120468, 9539.578584981076, 9991.088374946572, 10426.989224482977, 10868.557639299479]\n",
            "=====xxx====xxxx=====\n",
            "379.32261828524634\n",
            "=====xxx====xxxx=====\n",
            "379.32261828524634\n",
            "=================================\n",
            "[0.9726869720660862, 1.1048515372900083, 1.350317878772987, 0.8980773811086611]\n",
            "[18.432008054657363, 9.400552174220584, 6.174560309142701, 9.287895534677569]\n",
            "=================================\n",
            "=================================\n",
            "costUQ 41725.49 costUF 4627.74 costTrocadores 20446.59\n",
            "=====xxx====xxxx=====\n",
            "748.1868954185959\n",
            "=====xxx====xxxx=====\n",
            "748.1868954185959\n",
            "=================================\n",
            "[1.0838443082316598, 4.414729114262035, 2.370086906116443, 0.2810396759200737]\n",
            "[13.099197297006661, 12.490019451438341, 6.241078836978009, 9.58454912017696]\n",
            "=================================\n",
            "=================================\n",
            "costUQ 82300.56 costUF 9127.88 costTrocadores 21551.23\n",
            "=====xxx====xxxx=====\n",
            "1138.846981597224\n",
            "=====xxx====xxxx=====\n",
            "1138.846981597224\n",
            "=================================\n",
            "[1.1800691464855795, 0.9848087509494099, 1.107962153214748, 1.9985105339630522]\n",
            "[15.640358701967642, 11.841370812051826, 6.2777090855752276, 9.396636020655746]\n",
            "=================================\n",
            "=================================\n",
            "costUQ 125273.17 costUF 13893.93 costTrocadores 21014.18\n",
            "=====xxx====xxxx=====\n",
            "1535.128685592762\n",
            "=====xxx====xxxx=====\n",
            "1535.128685592762\n",
            "=================================\n",
            "[0.8935525992796578, 0.11391568580135578, 0.5770645159665072, 1.6555442297856806]\n",
            "[18.348278377127304, 10.182146439429737, 6.822363227942191, 8.854577259232505]\n",
            "=================================\n",
            "=================================\n",
            "costUQ 168864.16 costUF 18728.57 costTrocadores 19669.42\n",
            "=====xxx====xxxx=====\n",
            "1945.7519704772144\n",
            "=====xxx====xxxx=====\n",
            "1945.7519704772144\n",
            "=================================\n",
            "[0.704858747032531, 1.8897031152739048, 0.427891770383445, 0.989619385211593]\n",
            "[16.52581215208817, 11.985288617874287, 6.260666740593575, 9.61544855901848]\n",
            "=================================\n",
            "=================================\n",
            "costUQ 214032.72 costUF 23738.17 costTrocadores 20392.01\n",
            "=====xxx====xxxx=====\n",
            "2324.698706318241\n",
            "=====xxx====xxxx=====\n",
            "2324.698706318241\n",
            "=================================\n",
            "[0.37071375037403037, 0.7994357555229424, 0.9779965551524338, 3.3156022116151593]\n",
            "[15.812102440383198, 11.325815283214096, 6.384926548423204, 8.707261974230187]\n",
            "=================================\n",
            "=================================\n",
            "costUQ 255716.86 costUF 28361.32 costTrocadores 20558.72\n",
            "=====xxx====xxxx=====\n",
            "2749.049704601778\n",
            "=====xxx====xxxx=====\n",
            "2749.049704601778\n",
            "=================================\n",
            "[0.3367461909678734, 0.48009522445941316, 0.19942710142991274, 1.3392328079799498]\n",
            "[17.85571542869643, 11.599554624732681, 6.08573651498387, 9.590669438547176]\n",
            "=================================\n",
            "=================================\n",
            "costUQ 302395.47 costUF 33538.41 costTrocadores 19286.68\n",
            "=====xxx====xxxx=====\n",
            "3125.373351720159\n",
            "=====xxx====xxxx=====\n",
            "3125.373351720159\n",
            "=================================\n",
            "[4.049882287289925, 0.9319177661144148, 0.7577538928697793, 0.47138496591919243]\n",
            "[15.142336898270496, 11.641323307187742, 6.557498636521673, 8.517245908293823]\n",
            "=================================\n",
            "=================================\n",
            "costUQ 343791.07 costUF 38129.55 costTrocadores 20780.76\n",
            "=====xxx====xxxx=====\n",
            "3453.5873755928324\n",
            "=====xxx====xxxx=====\n",
            "3453.5873755928324\n",
            "=================================\n",
            "[0.4684411377270688, 4.446858198229272, 4.468097237712722, 0.7636435230039004]\n",
            "[11.917019884616716, 11.721248439746642, 6.5578334202344815, 9.301567356917808]\n",
            "=================================\n",
            "=================================\n",
            "costUQ 379894.61 costUF 42133.77 costTrocadores 21920.70\n",
            "=====xxx====xxxx=====\n",
            "3847.793276425501\n",
            "=====xxx====xxxx=====\n",
            "3847.793276425501\n",
            "=================================\n",
            "[0.254190719891198, 0.12232404851769661, 0.5413044317163993, 2.637135596358477]\n",
            "[18.183785736805458, 10.229764847971119, 6.544116685734484, 8.326198112904441]\n",
            "=================================\n",
            "=================================\n",
            "costUQ 423257.26 costUF 46943.08 costTrocadores 19343.87\n",
            "=====xxx====xxxx=====\n",
            "4260.93884157072\n",
            "=====xxx====xxxx=====\n",
            "4260.93884157072\n",
            "=================================\n",
            "[0.07646552660683943, 1.8722591621633868, 0.35071568619090865, 0.222646171521702]\n",
            "[17.964383195969525, 11.122082997733637, 6.711268774119787, 9.682230112016748]\n",
            "=================================\n",
            "=================================\n",
            "costUQ 468703.27 costUF 51983.45 costTrocadores 19181.47\n",
            "=====xxx====xxxx=====\n",
            "4643.174024468315\n",
            "=====xxx====xxxx=====\n",
            "4643.174024468315\n",
            "=================================\n",
            "[0.2814481421394894, 0.798308228960741, 3.3283858322268647, 1.2004002306181845]\n",
            "[15.504499069665693, 11.631674298912223, 6.158780051037735, 8.713325393751589]\n",
            "=================================\n",
            "=================================\n",
            "costUQ 510749.14 costUF 56646.72 costTrocadores 20550.76\n",
            "=====xxx====xxxx=====\n",
            "4993.721262276459\n",
            "=====xxx====xxxx=====\n",
            "4993.721262276459\n",
            "=================================\n",
            "[3.3525591444202174, 2.8769697852236, 2.0507062934981093, 0.8662645521011221]\n",
            "[12.876392208278558, 12.00023296288738, 6.135927695419583, 9.23174474151698]\n",
            "=================================\n",
            "=================================\n",
            "costUQ 549309.34 costUF 60923.40 costTrocadores 22149.47\n",
            "=====xxx====xxxx=====\n",
            "5382.1832696714855\n",
            "=====xxx====xxxx=====\n",
            "5382.1832696714855\n",
            "=================================\n",
            "[0.3376303633831897, 0.12621793106465057, 0.7022351230916926, 2.685933579729479]\n",
            "[18.11365214999074, 10.052996429357027, 6.714785577396506, 8.314884777106263]\n",
            "=================================\n",
            "=================================\n",
            "costUQ 592040.16 costUF 65662.64 costTrocadores 19577.65\n",
            "=====xxx====xxxx=====\n",
            "5739.622717445779\n",
            "=====xxx====xxxx=====\n",
            "5739.622717445779\n",
            "=================================\n",
            "[0.0013448992557581582, 2.890234262398297, 5.050981879374601, 3.1417105122873794]\n",
            "[11.807088402658543, 12.733140081731566, 6.108454523014802, 8.384950132175774]\n",
            "=================================\n",
            "=================================\n",
            "costUQ 631358.50 costUF 70023.40 costTrocadores 21754.05\n",
            "=====xxx====xxxx=====\n",
            "6107.102502853663\n",
            "=====xxx====xxxx=====\n",
            "6107.102502853663\n",
            "=================================\n",
            "[0.7059665090507804, 0.9058198311651653, 2.6442294707550023, 2.138621740440775]\n",
            "[14.925669870650644, 11.458582740336613, 6.3237735489228815, 9.085045111862835]\n",
            "=================================\n",
            "=================================\n",
            "costUQ 671781.28 costUF 74506.65 costTrocadores 21189.31\n",
            "=====xxx====xxxx=====\n",
            "6505.571961868876\n",
            "=====xxx====xxxx=====\n",
            "6505.571961868876\n",
            "=================================\n",
            "[0.1784185063442493, 1.879679369848838, 2.103385951959649, 2.783137846782065]\n",
            "[14.484254183421639, 12.733140081731566, 6.116710688640844, 9.762672013038838]\n",
            "=================================\n",
            "=================================\n",
            "costUQ 715612.92 costUF 79367.98 costTrocadores 21460.66\n",
            "=====xxx====xxxx=====\n",
            "6887.87627324464\n",
            "=====xxx====xxxx=====\n",
            "6887.87627324464\n",
            "=================================\n",
            "[1.366774031696055, 0.02538401715400023, 1.2278300627359813, 2.8467722600433123]\n",
            "[15.400648259073192, 11.696187732305408, 6.822363227942191, 8.859676355826746]\n",
            "=================================\n",
            "=================================\n",
            "costUQ 757666.39 costUF 84032.09 costTrocadores 20467.86\n",
            "=====xxx====xxxx=====\n",
            "7244.99758327377\n",
            "=====xxx====xxxx=====\n",
            "7244.99758327377\n",
            "=================================\n",
            "[1.821200815803124, 1.6542300107224612, 2.1948548103418255, 0.9725870964700599]\n",
            "[15.765374836203403, 10.539821172336707, 6.226364718246617, 9.214636432218555]\n",
            "=================================\n",
            "=================================\n",
            "costUQ 796949.73 costUF 88388.97 costTrocadores 21421.55\n",
            "=====xxx====xxxx=====\n",
            "7620.006146412711\n",
            "=====xxx====xxxx=====\n",
            "7620.006146412711\n",
            "=================================\n",
            "[1.3273926116565695, 0.7832149352870111, 1.007958495810713, 2.436259981910556]\n",
            "[16.989132396824008, 10.3763917592037, 6.1391104212491925, 9.3246128988417]\n",
            "=================================\n",
            "=================================\n",
            "costUQ 838200.68 costUF 92964.07 costTrocadores 20971.58\n",
            "=====xxx====xxxx=====\n",
            "8015.388796550419\n",
            "=====xxx====xxxx=====\n",
            "8015.388796550419\n",
            "=================================\n",
            "[1.1047900578720256, 0.6768807884343027, 1.1751403714177309, 0.6572303221959516]\n",
            "[17.992811756187805, 10.425672662102576, 6.481224032688035, 9.144950196327628]\n",
            "=================================\n",
            "=================================\n",
            "costUQ 881692.77 costUF 97787.74 costTrocadores 20170.94\n",
            "=====xxx====xxxx=====\n",
            "8417.40824713981\n",
            "=====xxx====xxxx=====\n",
            "8417.40824713981\n",
            "=================================\n",
            "[0.6296984817885494, 1.7832098581424594, 1.7012373383078274, 1.6328637637609278]\n",
            "[14.699798975180915, 12.733140081731566, 6.385618362226044, 9.197811530512064]\n",
            "=================================\n",
            "=================================\n",
            "costUQ 925914.91 costUF 102692.38 costTrocadores 21207.85\n",
            "=====xxx====xxxx=====\n",
            "8848.385351333478\n",
            "=====xxx====xxxx=====\n",
            "8848.385351333478\n",
            "=================================\n",
            "[0.30957885439460714, 0.13284473380336884, 0.125447279713044, 1.0127478630432252]\n",
            "[18.432008054657363, 11.432931354243372, 6.752267250114272, 9.162549209464423]\n",
            "=================================\n",
            "=================================\n",
            "costUQ 973322.39 costUF 107950.30 costTrocadores 18697.69\n",
            "=====xxx====xxxx=====\n",
            "9266.819669039083\n",
            "=====xxx====xxxx=====\n",
            "9266.819669039083\n",
            "=================================\n",
            "[0.03611632025196907, 0.05670986109372362, 0.25618922535490235, 3.2078741775969855]\n",
            "[16.101079181385316, 12.492027686734096, 6.800778988087715, 8.730378162538086]\n",
            "=================================\n",
            "=================================\n",
            "costUQ 1019350.16 costUF 113055.20 costTrocadores 19001.95\n",
            "=====xxx====xxxx=====\n",
            "9616.543122244693\n",
            "=====xxx====xxxx=====\n",
            "9616.543122244693\n",
            "=================================\n",
            "[2.321928987204049, 4.539550831147576, 1.2932904691108726, 0.9277509849099627]\n",
            "[12.76484670050956, 12.028996756252258, 6.293652926518792, 9.373521416230167]\n",
            "=================================\n",
            "=================================\n",
            "costUQ 1057819.74 costUF 117321.83 costTrocadores 22039.50\n",
            "[  66799.81269078  112979.66514406  160181.28210568  207262.14910686\n",
            "  258162.89615228  304636.90292489  355220.55675314  402701.38788394\n",
            "  443949.07477074  489544.20579891  539868.19296501  587946.6272529\n",
            "  632382.20408461  677280.45002313  723135.94178351  767477.23280909\n",
            "  816441.55756361  862166.33928071  906760.25634519  952136.33178582\n",
            "  999651.44907307 1049815.13557351 1099970.38434194 1151407.31497332\n",
            " 1197181.07022365]\n",
            "[0. 0. 0. 0. 0. 0. 0. 0. 0. 0. 0. 0. 0. 0. 0. 0. 0. 0. 0. 0. 0. 0. 0. 0.\n",
            " 0.]\n"
          ],
          "name": "stdout"
        }
      ]
    },
    {
      "cell_type": "code",
      "metadata": {
        "id": "IxfqXr3wvOfp",
        "colab_type": "code",
        "colab": {
          "base_uri": "https://localhost:8080/",
          "height": 55
        },
        "outputId": "500a2cf7-1149-43a8-a20b-e1ee101e6a56"
      },
      "source": [
        "'''\n",
        "[1179863.51077034 1181562.29317795 1180331.49642757 1181460.67704922\n",
        " 1181095.7955166  1180257.42122825 1180111.61408429 1182266.47563206\n",
        " 1180710.37174756 1182890.62261093 1181817.56790337 1180547.66398535\n",
        " 1182338.81611602 1182913.35693227 1180353.18466131 1180648.20461183\n",
        " 1179862.73888151 1181911.64223794 1179179.79482066 1180910.83199421\n",
        " 1180822.39103782 1180981.81021803 1180531.21335749 1180458.18878147\n",
        " 1182030.28999255]\n",
        "'''"
      ],
      "execution_count": 22,
      "outputs": [
        {
          "output_type": "execute_result",
          "data": {
            "text/plain": [
              "'\\n[1179863.51077034 1181562.29317795 1180331.49642757 1181460.67704922\\n 1181095.7955166  1180257.42122825 1180111.61408429 1182266.47563206\\n 1180710.37174756 1182890.62261093 1181817.56790337 1180547.66398535\\n 1182338.81611602 1182913.35693227 1180353.18466131 1180648.20461183\\n 1179862.73888151 1181911.64223794 1179179.79482066 1180910.83199421\\n 1180822.39103782 1180981.81021803 1180531.21335749 1180458.18878147\\n 1182030.28999255]\\n'"
            ]
          },
          "metadata": {
            "tags": []
          },
          "execution_count": 22
        }
      ]
    },
    {
      "cell_type": "code",
      "metadata": {
        "id": "cZeWZKKbDw_4",
        "colab_type": "code",
        "outputId": "1442698d-a5e1-4e7f-a6b4-552fdbb31e2c",
        "colab": {
          "base_uri": "https://localhost:8080/",
          "height": 35
        }
      },
      "source": [
        "print(tempAtual)"
      ],
      "execution_count": 23,
      "outputs": [
        {
          "output_type": "stream",
          "text": [
            "[453 393 523 533]\n"
          ],
          "name": "stdout"
        }
      ]
    },
    {
      "cell_type": "code",
      "metadata": {
        "id": "AE5bnwvC66GF",
        "colab_type": "code",
        "outputId": "4972e591-dcfc-4c13-9830-2a2dd2b31b74",
        "colab": {
          "base_uri": "https://localhost:8080/",
          "height": 318
        }
      },
      "source": [
        "# caso I: parecido, teste \n",
        "#Ind_x=[4,3,4,3]\n",
        "#Ind_y=[1,2,2,2]\n",
        "#deltaT=[-21,-75,-21,-27]\n",
        "D=1\n",
        "#xtest=np.array([3,2,3,2,0,1,1,1,-21,-75,-21,-27]).reshape(1,12)\n",
        "xtest=np.array([3,2,3,2,0,1,1,1,-78,-75,-21,-27]).reshape(1,12)\n",
        "Ind_I,Ind_J,deltaT, Tin, Tout=buildMatriz(x)\n",
        "print(Ind_I)\n",
        "print(Ind_J)\n",
        "Custo, Erro=FUN(xtest)\n",
        "print(Custo)\n",
        "print(Erro)"
      ],
      "execution_count": 24,
      "outputs": [
        {
          "output_type": "stream",
          "text": [
            "[[2 3 2 3]]\n",
            "[[1 1 1 1]]\n",
            "----carga todas-------\n",
            "[366.5]\n",
            "[376.5]\n",
            "=====xxx====xxxx=====\n",
            "366.5\n",
            "=====xxx====xxxx=====\n",
            "366.5\n",
            "=================================\n",
            "[0, 6.245912700213025, 3.0624125576880914, 2.248528572076689]\n",
            "[18.432008054657363, 8.824518763596991, 5.801812206502129, 8.22838468417618]\n",
            "=================================\n",
            "=================================\n",
            "costUQ 40315.00 costUF 4471.30 costTrocadores 21947.69\n",
            "[1.e+99]\n",
            "[1.]\n"
          ],
          "name": "stdout"
        }
      ]
    },
    {
      "cell_type": "code",
      "metadata": {
        "id": "qZYtUEm68B7L",
        "colab_type": "code",
        "outputId": "a125d51f-0b55-43dc-8661-7be61329df8a",
        "colab": {
          "base_uri": "https://localhost:8080/",
          "height": 318
        }
      },
      "source": [
        "#xtest=np.array([3,2,3,2,0,1,1,1,-75,-21,-27,-78]).reshape(1,12)\n",
        "xtest=np.array([3,2,3,2,0,1,1,1,-78,-27,-21,-75]).reshape(1,12)\n",
        "Ind_I,Ind_J,deltaT, Tin, Tout=buildMatriz(x)\n",
        "print(Ind_I)\n",
        "print(Ind_J)\n",
        "Custo, Erro=FUN(xtest)\n",
        "print(Custo)\n",
        "print(Erro)"
      ],
      "execution_count": 25,
      "outputs": [
        {
          "output_type": "stream",
          "text": [
            "[[2 3 2 3]]\n",
            "[[1 1 1 1]]\n",
            "----carga todas-------\n",
            "[366.5]\n",
            "[376.5]\n",
            "=====xxx====xxxx=====\n",
            "366.5\n",
            "=====xxx====xxxx=====\n",
            "366.5\n",
            "=================================\n",
            "[0, 2.248528572076689, 3.0624125576880914, 6.245912700213025]\n",
            "[18.432008054657363, 8.824518763596991, 5.801812206502129, 8.22838468417618]\n",
            "=================================\n",
            "=================================\n",
            "costUQ 40315.00 costUF 4471.30 costTrocadores 21947.69\n",
            "[1.e+99]\n",
            "[1.]\n"
          ],
          "name": "stdout"
        }
      ]
    }
  ]
}