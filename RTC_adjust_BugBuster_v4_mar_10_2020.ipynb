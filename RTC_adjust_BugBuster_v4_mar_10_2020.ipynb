{
  "nbformat": 4,
  "nbformat_minor": 0,
  "metadata": {
    "colab": {
      "name": "RTC_adjust_BugBuster_v4_mar_10_2020.ipynb",
      "provenance": [],
      "collapsed_sections": [],
      "include_colab_link": true
    },
    "kernelspec": {
      "name": "python3",
      "display_name": "Python 3"
    }
  },
  "cells": [
    {
      "cell_type": "markdown",
      "metadata": {
        "id": "view-in-github",
        "colab_type": "text"
      },
      "source": [
        "<a href=\"https://colab.research.google.com/github/ucfilho/raianars_adjust_RTC/blob/master/RTC_adjust_BugBuster_v4_mar_10_2020.ipynb\" target=\"_parent\"><img src=\"https://colab.research.google.com/assets/colab-badge.svg\" alt=\"Open In Colab\"/></a>"
      ]
    },
    {
      "cell_type": "code",
      "metadata": {
        "id": "wGzR2VpcZHYA",
        "colab_type": "code",
        "colab": {}
      },
      "source": [
        "import pandas as pd\n",
        "from scipy.optimize import differential_evolution\n",
        "import numpy as np\n",
        "import matplotlib.pyplot as plt"
      ],
      "execution_count": 0,
      "outputs": []
    },
    {
      "cell_type": "code",
      "metadata": {
        "id": "2htdoQZEvKVl",
        "colab_type": "code",
        "colab": {}
      },
      "source": [
        "# Funcoes utilizadas neste codigo\n",
        "# Area(U,tempAtual,tempInicial,...): constroi matriz de areas trocadores \n",
        "#                                    entra duas correntes sendo chamada no loop\n",
        "# buildMatriz(x): constroi a matriz deltaT e binaria (logica de trocas)\n",
        "#\n",
        "# Temperatura(matrizDeltaT,...): constroi as temperaturas e cargas termicas"
      ],
      "execution_count": 0,
      "outputs": []
    },
    {
      "cell_type": "code",
      "metadata": {
        "id": "QH4J60cSP2OX",
        "colab_type": "code",
        "colab": {}
      },
      "source": [
        "def buildMatriz(x):\n",
        "  global Trocas,D, tempInicial, tempAtual \n",
        "  cols=len(tempInicial) \n",
        "  Ind_I=np.zeros((D,Trocas)).astype(np.int64)\n",
        "  Ind_J=np.zeros((D,Trocas)).astype(np.int64)\n",
        "  Tin=np.zeros((D,Trocas))\n",
        "  Tout=np.zeros((D,Trocas))\n",
        "  deltaT=np.zeros((D,Trocas))\n",
        "  for i in range(D):\n",
        "    for j in range(Trocas):\n",
        "      Ind_I[i,j]=round(x[i,j])\n",
        "      Ind_J[i,j]=round(x[i,j+Trocas])\n",
        "      deltaT[i,j]=x[i,j+2*Trocas] \n",
        "    for jj in range(cols):\n",
        "      Tin[i,jj]=tempInicial[jj]\n",
        "      Tout[i,jj]=tempAtual[jj]\n",
        "  return Ind_I,Ind_J,deltaT, Tin, Tout"
      ],
      "execution_count": 0,
      "outputs": []
    },
    {
      "cell_type": "code",
      "metadata": {
        "id": "Ha_XxG-tT7yB",
        "colab_type": "code",
        "colab": {}
      },
      "source": [
        "def Temperatura_Carga(mCp,Ind_I,Ind_J,deltaT,Tin,Tout):\n",
        "  global Trocas,D\n",
        "  # cols=len(mCp)\n",
        "  # i represent hot stream  and j represent cold stream \n",
        "  # k represent sequential heat exchanges\n",
        "  cargaTermica=np.zeros((D,Trocas))\n",
        "  contador=0\n",
        "  cont_uso=0\n",
        "  erro=np.zeros((D)) # valor erro se torna erro=1 quando ha algum erro e vai penalizar\n",
        "  for ki in range(D):\n",
        "    for kj in range(Trocas):\n",
        "      k=kj\n",
        "      i=Ind_I[ki,kj]\n",
        "      j=Ind_J[ki,kj]\n",
        "      cargaTermica[ki,kj]=mCp[i]*deltaT[ki,kj]\n",
        "      tempSaidaQ=Tin[ki,i]+deltaT[ki,kj]\n",
        "      tempSaidaF=-cargaTermica[ki,kj]/(mCp[j])+Tout[ki,j]\n",
        "      flag=0 # flag : indica que nao entra no teste logico\n",
        "      # usei flag no lugar q ifs pq a identacao ficou melhor assim\n",
        "      if(Tin[ki,i] > Tin[ki,j]): #Tquente maior Tfria: vaores atuais\n",
        "        if(tempSaidaQ > tempSaidaF): #Tquente maior Tfria: saidas\n",
        "          # if(contador < cols):\n",
        "          flag=1\n",
        "            \n",
        "      if(flag>0):\n",
        "        Tout[ki,i]=tempSaidaQ\n",
        "        Tout[ki,j]=tempSaidaF\n",
        "      else:\n",
        "        erro[ki]=1\n",
        "        #erro[ki]=0\n",
        "\n",
        "\n",
        "  return Tout,cargaTermica,erro"
      ],
      "execution_count": 0,
      "outputs": []
    },
    {
      "cell_type": "code",
      "metadata": {
        "id": "UJGjsc_haGya",
        "colab_type": "code",
        "colab": {}
      },
      "source": [
        "def Area(U,Tin,Tout,Ind_I,Ind_J,deltaT):\n",
        "\n",
        "  global Trocas,mCp,D\n",
        "  \n",
        "  Area=[]\n",
        "\n",
        "  for ki in range(D):\n",
        "    Area_Particula=[]\n",
        "    for kj in range(Trocas):\n",
        "      i=Ind_I[ki,kj]\n",
        "      j=Ind_J[ki,kj]\n",
        "      Carga=mCp[i]*deltaT[ki,kj]\n",
        "      tempSaidaF=Tout[ki,j]\n",
        "      tempSaidaQ=Tout[ki,i]\n",
        "      deltaT1=Tin[ki,i]-tempSaidaF\n",
        "      deltaT2=tempSaidaQ-Tin[ki,j]\n",
        "      try:\n",
        "        A=(deltaT1-deltaT2)\n",
        "        B=np.log((deltaT1/deltaT2))\n",
        "        deltaTMediaLog=A/B\n",
        "      except:\n",
        "        deltaTMediaLog=1e99\n",
        "  \n",
        "      if(deltaTMediaLog==1e99):\n",
        "        AreaCalc=1e99\n",
        "      else:\n",
        "        AreaCalc=abs(Carga/(U*deltaTMediaLog))\n",
        "      \n",
        "      if(Tout[ki,i]==Tin[ki,i]):\n",
        "            AreaCalc=0\n",
        "\n",
        "      if(Tout[ki,j]==Tin[ki,j]):\n",
        "        AreaCalc=0\n",
        "\n",
        "      Area_Particula.append(AreaCalc)\n",
        "      \n",
        "    Area.append(Area_Particula)\n",
        "\n",
        "  return Area"
      ],
      "execution_count": 0,
      "outputs": []
    },
    {
      "cell_type": "code",
      "metadata": {
        "id": "oJ7p1UbEHs4c",
        "colab_type": "code",
        "colab": {}
      },
      "source": [
        "def Utilidades(tempAlvo,Tout,mCp):\n",
        "\n",
        "  cols=len(mCp)\n",
        "  cargaUQ=0\n",
        "  cargaUF=0\n",
        "  \n",
        "  '''\n",
        "  caso I cita TUQin=553 e TQout=552, TUFin=303 TUFout=353\n",
        "  '''\n",
        "  \n",
        "  TUQin=553\n",
        "  TUQout=552\n",
        "  TUFin=303 \n",
        "  TUFout=353\n",
        "\n",
        "  \n",
        "  Areas=[]\n",
        "  cargaUQtodas=[]\n",
        "  cargaUFtodas=[]\n",
        "\n",
        "  for ki in range(D):\n",
        "    areaTrocador=[]\n",
        "\n",
        "    for j in range(cols):\n",
        "      delta=tempAlvo[j]-Tout[ki,j]\n",
        "      if(delta>0):#usa UQ\n",
        "        cargaUQ=cargaUQ+mCp[j]*delta\n",
        "        deltaT1=(TUQin-tempAlvo[j])\n",
        "        deltaT2=(TUQout-Tout[ki,j])\n",
        "\n",
        "        try:\n",
        "          A=deltaT1-deltaT2\n",
        "          B=np.log(deltaT1/deltaT2)\n",
        "          deltaTMediaLog=A/B\n",
        "        except:\n",
        "          deltaTMediaLog=1e99\n",
        "\n",
        "        if(deltaTMediaLog==1e99):\n",
        "          areaTrocador.append(1e99)\n",
        "        else:\n",
        "          areaTrocador.append((abs(mCp[j]*(delta)/(U*deltaTMediaLog))))\n",
        "\n",
        "      elif(delta==0):#nao usa UF e UQ\n",
        "        deltaTMediaLog=0\n",
        "        areaTrocador.append(0) \n",
        "\n",
        "      else:#usa UF\n",
        "        deltaT1=(Tout[ki,j]-TUFout)\n",
        "        deltaT2=(tempAlvo[j]-TUFin)     \n",
        "        cargaUF=cargaUF+mCp[j]*(-delta)\n",
        "\n",
        "        #UF -> água resfriada -> entra a 303K e sai a 353K\n",
        "        try:\n",
        "          A=deltaT1-deltaT2\n",
        "          B=np.log(deltaT1/deltaT2)\n",
        "          deltaTMediaLog=A/B\n",
        "        except:\n",
        "          deltaTMediaLog=1e99\n",
        "        \n",
        "        if(deltaTMediaLog==1e99):\n",
        "          areaTrocador.append(1e99)\n",
        "        else:\n",
        "          areaTrocador.append((abs(mCp[j]*(-delta)/(U*deltaTMediaLog))))\n",
        "\n",
        "    cargaUQtodas.append(cargaUQ)\n",
        "    cargaUFtodas.append(cargaUF)\n",
        "\n",
        "    Areas.append(areaTrocador)\n",
        "\n",
        "  return Areas, cargaUQtodas,cargaUQtodas \n"
      ],
      "execution_count": 0,
      "outputs": []
    },
    {
      "cell_type": "code",
      "metadata": {
        "id": "_vAVl672mXZb",
        "colab_type": "code",
        "colab": {}
      },
      "source": [
        "def CustoProcesso(Area,Utilidades,cargaUFtodas,cargaUQtodas):\n",
        "  global coefCustoUQ,coefCustoUF,D\n",
        "\n",
        "  cost=np.zeros((D))\n",
        "  print('==============')\n",
        "  print(cargaUFtodas)\n",
        "  print(cargaUQtodas)\n",
        "\n",
        "  for i in range(D):\n",
        "    cargaUQ=cargaUQtodas[i]\n",
        "    cargaUF=cargaUFtodas[i]\n",
        "    areaTrocadores=Area[i]\n",
        "    #print('areaTrocadores');print(areaTrocadores)\n",
        "    areaUtilidades=Utilidades[i]\n",
        "    costTrocadores=0\n",
        "    for it in areaTrocadores:\n",
        "      for wii in areaUtilidades:\n",
        "        #print('wii=%.3f it=%.3f'%(wii,it))\n",
        "        if(it<1e99):\n",
        "          if(wii<1e99):\n",
        "            costTrocadores=costTrocadores+300*(it**0.5+wii**0.5)\n",
        "            #print('costTrocadores=',costTrocadores)\n",
        "          else:\n",
        "            costTrocadores=1e99\n",
        "            break\n",
        "          \n",
        "    costUQ=coefCustoUQ*cargaUQ\n",
        "    costUF=coefCustoUF*cargaUF\n",
        "    \n",
        "    if(costTrocadores==1e99):\n",
        "      cost[i]=1e99\n",
        "    else:\n",
        "      cost[i]=costUQ+costUF+costTrocadores\n",
        "      print('costUF');print(costUF)\n",
        "      print('costUQ');print(costUQ);\n",
        "      print('costTrocadores');print(costTrocadores)\n",
        "      \n",
        "  return cost"
      ],
      "execution_count": 0,
      "outputs": []
    },
    {
      "cell_type": "code",
      "metadata": {
        "id": "lmPfZ7arakM1",
        "colab_type": "code",
        "colab": {}
      },
      "source": [
        "#FUN calcula o TAC para um determinado arranjo\n",
        "#  cada calculo é feito em uma funcao a parte Fun usa todas funcoes \n",
        "\n",
        "def FUN(x):\n",
        "\n",
        "  global mCp,tempAtual,tempAlvo,tempInicial,U,coefCustoUQ,coefCustoUF\n",
        "  global D\n",
        "  \n",
        "  funr=np.zeros((D))\n",
        "  cols=len(mCp)\n",
        "  Ind_I,Ind_J,deltaT, Tin, Tout=buildMatriz(x) # transforma x em matriz logica e troca\n",
        "  Tout,Carga,Erro=Temperatura_Carga(mCp,Ind_I,Ind_J,deltaT,Tin,Tout)\n",
        "  areaTrocadores =Area(U,Tin,Tout,Ind_I,Ind_J,deltaT)\n",
        "  # print('areas=');print(areaTrocadores)\n",
        "  areaUtilidade, cargaUF,cargaUQ = Utilidades(tempAlvo,Tout,mCp)\n",
        "  cost=CustoProcesso(areaTrocadores,areaUtilidade,cargaUF,cargaUQ)\n",
        "  funr=cost\n",
        "\n",
        "\n",
        "  for k in range(D):\n",
        "    if(Erro[k]>0):\n",
        "      funr[k]=1e99\n",
        "\n",
        "  funr = np.where(np.isnan(cost), 1e99, cost)\n",
        "\n",
        "  return funr,Erro"
      ],
      "execution_count": 0,
      "outputs": []
    },
    {
      "cell_type": "code",
      "metadata": {
        "id": "Dt6anZvATxzg",
        "colab_type": "code",
        "colab": {}
      },
      "source": [
        "#********************PROGRAMA PRINCIPAL*************************\n",
        "D=25\n",
        "Trocas=4\n",
        "mCp=[4,2,1.5,3] #[kW/K]\n",
        "tempInicial=[453,393,523,533] #[K]\n",
        "tempAtual=np.copy(tempInicial) \n",
        "#tempAtual=[453,393,523,533] #[K]\n",
        "tempAlvo=[513,508,403,433] #[K]\n",
        "U=0.2 #[kW/(m2.K)]\n",
        "\n",
        "coefCustoUQ=110 #[$/(kW.ano)]\n",
        "coefCustoUF=12.2 #[$/(kW.ano)]\n",
        "\n",
        "\n",
        "\n"
      ],
      "execution_count": 0,
      "outputs": []
    },
    {
      "cell_type": "code",
      "metadata": {
        "id": "6L1ofiNr_XvB",
        "colab_type": "code",
        "colab": {}
      },
      "source": [
        "cols=12\n",
        "x=np.zeros((D,cols))\n",
        "#MAX=np.array([3,2,3,2,0,1,1,1,0,0,0,0])\n",
        "#MIN=np.array([3,2,3,2,0,1,1,1,-100,-100,-100,-100])\n",
        "MAX=np.array([3,3,3,3,1,1,1,1,0,0,0,0])\n",
        "#MIN=np.array([2,2,2,2,0,0,0,0,-100,-100,-100,-100])\n",
        "MIN=np.array([2,2,2,2,0,0,0,0,-20,-20,-20,-20])\n",
        "for i in range(D):\n",
        "  for j in range(cols):\n",
        "    r=np.random.random()\n",
        "    x[i,j]=r*(MAX[j]-MIN[j])+MIN[j]"
      ],
      "execution_count": 0,
      "outputs": []
    },
    {
      "cell_type": "code",
      "metadata": {
        "id": "wnFpOji2Emmg",
        "colab_type": "code",
        "colab": {}
      },
      "source": [
        "# First step: it is working fine...\n",
        "Ind_I,Ind_J,deltaT, Tin, Tout=buildMatriz(x) # transforma x em matriz logica e troca\n",
        "\n"
      ],
      "execution_count": 0,
      "outputs": []
    },
    {
      "cell_type": "code",
      "metadata": {
        "id": "WxGm74Qs8vfz",
        "colab_type": "code",
        "colab": {}
      },
      "source": [
        "# second step\n",
        "Tout,Carga,Erro=Temperatura_Carga(mCp,Ind_I,Ind_J,deltaT,Tin,Tout)"
      ],
      "execution_count": 0,
      "outputs": []
    },
    {
      "cell_type": "code",
      "metadata": {
        "id": "6AggjTZE9qkd",
        "colab_type": "code",
        "colab": {}
      },
      "source": [
        "#print(Erro)"
      ],
      "execution_count": 0,
      "outputs": []
    },
    {
      "cell_type": "code",
      "metadata": {
        "id": "fPMj-qTpV69-",
        "colab_type": "code",
        "colab": {}
      },
      "source": [
        "# third step: it is not working????\n",
        "areaTrocadores =Area(U,Tin,Tout,Ind_I,Ind_J,deltaT)\n"
      ],
      "execution_count": 0,
      "outputs": []
    },
    {
      "cell_type": "code",
      "metadata": {
        "id": "iKSvQ0pSeLi2",
        "colab_type": "code",
        "colab": {}
      },
      "source": [
        "# fourth step: it is working\n",
        "areaTrocadores =Area(U,Tin,Tout,Ind_I,Ind_J,deltaT)\n"
      ],
      "execution_count": 0,
      "outputs": []
    },
    {
      "cell_type": "code",
      "metadata": {
        "id": "iVqiZ0KugkQj",
        "colab_type": "code",
        "outputId": "8c24c90a-559c-46ec-e4f0-f1f2bdff0328",
        "colab": {
          "base_uri": "https://localhost:8080/",
          "height": 1000
        }
      },
      "source": [
        "# fiveth step\n",
        "areaUtilidade, cargaUF,cargaUQ = Utilidades(tempAlvo,Tout,mCp)\n",
        "areaTrocadores =Area(U,Tin,Tout,Ind_I,Ind_J,deltaT)\n",
        "areaUtilidade, cargaUF,cargaUQ = Utilidades(tempAlvo,Tout,mCp)\n",
        "cost=CustoProcesso(areaTrocadores,areaUtilidade,cargaUF,cargaUQ)"
      ],
      "execution_count": 16,
      "outputs": [
        {
          "output_type": "stream",
          "text": [
            "==============\n",
            "[413.37989063853195, 796.1925578479339, 1189.6216533694403, 1571.5165726880214, 1999.2664136788744, 2284.7328019441075, 2696.4055648141184, 3046.4599906580343, 3496.5826088348977, 3856.649816436994, 4269.491581329593, 4656.931399390483, 5058.38410410617, 5396.987249467634, 5780.149584835253, 6191.839452051367, 6549.735365088795, 6890.8225143724885, 7202.602364331614, 7581.603046977474, 7990.456881790806, 8344.219551468448, 8707.683395035063, 9061.442348314125, 9473.384029143557]\n",
            "[413.37989063853195, 796.1925578479339, 1189.6216533694403, 1571.5165726880214, 1999.2664136788744, 2284.7328019441075, 2696.4055648141184, 3046.4599906580343, 3496.5826088348977, 3856.649816436994, 4269.491581329593, 4656.931399390483, 5058.38410410617, 5396.987249467634, 5780.149584835253, 6191.839452051367, 6549.735365088795, 6890.8225143724885, 7202.602364331614, 7581.603046977474, 7990.456881790806, 8344.219551468448, 8707.683395035063, 9061.442348314125, 9473.384029143557]\n",
            "costUF\n",
            "5043.23466579009\n",
            "costUQ\n",
            "45471.78797023851\n",
            "costTrocadores\n",
            "19944.188648382824\n",
            "costUF\n",
            "9713.549205744794\n",
            "costUQ\n",
            "87581.18136327273\n",
            "costTrocadores\n",
            "21055.42266065818\n",
            "costUF\n",
            "14513.384171107171\n",
            "costUQ\n",
            "130858.38187063843\n",
            "costTrocadores\n",
            "20370.188739353853\n",
            "costUF\n",
            "19172.50218679386\n",
            "costUQ\n",
            "172866.82299568236\n",
            "costTrocadores\n",
            "20813.780363845617\n",
            "costUF\n",
            "24391.050246882267\n",
            "costUQ\n",
            "219919.3055046762\n",
            "costTrocadores\n",
            "18737.15126410513\n",
            "costUF\n",
            "27873.74018371811\n",
            "costUQ\n",
            "251320.6082138518\n",
            "costTrocadores\n",
            "22758.78708213732\n",
            "costUF\n",
            "32896.147890732245\n",
            "costUQ\n",
            "296604.61212955305\n",
            "costTrocadores\n",
            "20137.173709643444\n",
            "costUF\n",
            "37166.811886028016\n",
            "costUQ\n",
            "335110.59897238377\n",
            "costTrocadores\n",
            "22126.947261445326\n",
            "costUF\n",
            "42658.30782778575\n",
            "costUQ\n",
            "384624.0869718387\n",
            "costTrocadores\n",
            "18437.894927243975\n",
            "costUF\n",
            "47051.12776053132\n",
            "costUQ\n",
            "424231.47980806936\n",
            "costTrocadores\n",
            "21418.743856226545\n",
            "costUF\n",
            "52087.79729222103\n",
            "costUQ\n",
            "469644.0739462552\n",
            "costTrocadores\n",
            "19890.51002478643\n",
            "costUF\n",
            "56814.56307256389\n",
            "costUQ\n",
            "512262.4539329532\n",
            "costTrocadores\n",
            "20360.86305217751\n",
            "costUF\n",
            "61712.286070095266\n",
            "costUQ\n",
            "556422.2514516787\n",
            "costTrocadores\n",
            "19871.59611372943\n",
            "costUF\n",
            "65843.24444350513\n",
            "costUQ\n",
            "593668.5974414397\n",
            "costTrocadores\n",
            "21394.142437352886\n",
            "costUF\n",
            "70517.82493499009\n",
            "costUQ\n",
            "635816.4543318779\n",
            "costTrocadores\n",
            "20386.364617807216\n",
            "costUF\n",
            "75540.44131502666\n",
            "costUQ\n",
            "681102.3397256504\n",
            "costTrocadores\n",
            "20442.096082981483\n",
            "costUF\n",
            "79906.7714540833\n",
            "costUQ\n",
            "720470.8901597675\n",
            "costTrocadores\n",
            "21203.710001682968\n",
            "costUF\n",
            "84068.03467534436\n",
            "costUQ\n",
            "757990.4765809737\n",
            "costTrocadores\n",
            "21712.207896680542\n",
            "costUF\n",
            "87871.74884484569\n",
            "costUQ\n",
            "792286.2600764775\n",
            "costTrocadores\n",
            "22492.63167598045\n",
            "costUF\n",
            "92495.55717312518\n",
            "costUQ\n",
            "833976.3351675222\n",
            "costTrocadores\n",
            "20506.761271280608\n",
            "costUF\n",
            "97483.57395784782\n",
            "costUQ\n",
            "878950.2569969887\n",
            "costTrocadores\n",
            "19596.527276975565\n",
            "costUF\n",
            "101799.47852791507\n",
            "costUQ\n",
            "917864.1506615293\n",
            "costTrocadores\n",
            "21778.932847138\n",
            "costUF\n",
            "106233.73741942777\n",
            "costUQ\n",
            "957845.173453857\n",
            "costTrocadores\n",
            "20656.561828698854\n",
            "costUF\n",
            "110549.59664943232\n",
            "costUQ\n",
            "996758.6583145538\n",
            "costTrocadores\n",
            "21132.540338447536\n",
            "costUF\n",
            "115575.28515555139\n",
            "costUQ\n",
            "1042072.2432057913\n",
            "costTrocadores\n",
            "19451.56460403444\n"
          ],
          "name": "stdout"
        }
      ]
    },
    {
      "cell_type": "code",
      "metadata": {
        "id": "oKAKXVRFiML7",
        "colab_type": "code",
        "colab": {}
      },
      "source": [
        ""
      ],
      "execution_count": 0,
      "outputs": []
    },
    {
      "cell_type": "code",
      "metadata": {
        "id": "xIlAP6sKEs-R",
        "colab_type": "code",
        "outputId": "06ad79ee-9283-4cc6-d57c-55b783fa931f",
        "colab": {
          "base_uri": "https://localhost:8080/",
          "height": 1000
        }
      },
      "source": [
        "Custo, Erro = FUN(x)\n",
        "\n",
        "#Custo = FUN(x)\n",
        "''''''\n",
        "print(Custo)\n",
        "#print(Erro)\n"
      ],
      "execution_count": 17,
      "outputs": [
        {
          "output_type": "stream",
          "text": [
            "==============\n",
            "[413.37989063853195, 796.1925578479339, 1189.6216533694403, 1571.5165726880214, 1999.2664136788744, 2284.7328019441075, 2696.4055648141184, 3046.4599906580343, 3496.5826088348977, 3856.649816436994, 4269.491581329593, 4656.931399390483, 5058.38410410617, 5396.987249467634, 5780.149584835253, 6191.839452051367, 6549.735365088795, 6890.8225143724885, 7202.602364331614, 7581.603046977474, 7990.456881790806, 8344.219551468448, 8707.683395035063, 9061.442348314125, 9473.384029143557]\n",
            "[413.37989063853195, 796.1925578479339, 1189.6216533694403, 1571.5165726880214, 1999.2664136788744, 2284.7328019441075, 2696.4055648141184, 3046.4599906580343, 3496.5826088348977, 3856.649816436994, 4269.491581329593, 4656.931399390483, 5058.38410410617, 5396.987249467634, 5780.149584835253, 6191.839452051367, 6549.735365088795, 6890.8225143724885, 7202.602364331614, 7581.603046977474, 7990.456881790806, 8344.219551468448, 8707.683395035063, 9061.442348314125, 9473.384029143557]\n",
            "costUF\n",
            "5043.23466579009\n",
            "costUQ\n",
            "45471.78797023851\n",
            "costTrocadores\n",
            "19944.188648382824\n",
            "costUF\n",
            "9713.549205744794\n",
            "costUQ\n",
            "87581.18136327273\n",
            "costTrocadores\n",
            "21055.42266065818\n",
            "costUF\n",
            "14513.384171107171\n",
            "costUQ\n",
            "130858.38187063843\n",
            "costTrocadores\n",
            "20370.188739353853\n",
            "costUF\n",
            "19172.50218679386\n",
            "costUQ\n",
            "172866.82299568236\n",
            "costTrocadores\n",
            "20813.780363845617\n",
            "costUF\n",
            "24391.050246882267\n",
            "costUQ\n",
            "219919.3055046762\n",
            "costTrocadores\n",
            "18737.15126410513\n",
            "costUF\n",
            "27873.74018371811\n",
            "costUQ\n",
            "251320.6082138518\n",
            "costTrocadores\n",
            "22758.78708213732\n",
            "costUF\n",
            "32896.147890732245\n",
            "costUQ\n",
            "296604.61212955305\n",
            "costTrocadores\n",
            "20137.173709643444\n",
            "costUF\n",
            "37166.811886028016\n",
            "costUQ\n",
            "335110.59897238377\n",
            "costTrocadores\n",
            "22126.947261445326\n",
            "costUF\n",
            "42658.30782778575\n",
            "costUQ\n",
            "384624.0869718387\n",
            "costTrocadores\n",
            "18437.894927243975\n",
            "costUF\n",
            "47051.12776053132\n",
            "costUQ\n",
            "424231.47980806936\n",
            "costTrocadores\n",
            "21418.743856226545\n",
            "costUF\n",
            "52087.79729222103\n",
            "costUQ\n",
            "469644.0739462552\n",
            "costTrocadores\n",
            "19890.51002478643\n",
            "costUF\n",
            "56814.56307256389\n",
            "costUQ\n",
            "512262.4539329532\n",
            "costTrocadores\n",
            "20360.86305217751\n",
            "costUF\n",
            "61712.286070095266\n",
            "costUQ\n",
            "556422.2514516787\n",
            "costTrocadores\n",
            "19871.59611372943\n",
            "costUF\n",
            "65843.24444350513\n",
            "costUQ\n",
            "593668.5974414397\n",
            "costTrocadores\n",
            "21394.142437352886\n",
            "costUF\n",
            "70517.82493499009\n",
            "costUQ\n",
            "635816.4543318779\n",
            "costTrocadores\n",
            "20386.364617807216\n",
            "costUF\n",
            "75540.44131502666\n",
            "costUQ\n",
            "681102.3397256504\n",
            "costTrocadores\n",
            "20442.096082981483\n",
            "costUF\n",
            "79906.7714540833\n",
            "costUQ\n",
            "720470.8901597675\n",
            "costTrocadores\n",
            "21203.710001682968\n",
            "costUF\n",
            "84068.03467534436\n",
            "costUQ\n",
            "757990.4765809737\n",
            "costTrocadores\n",
            "21712.207896680542\n",
            "costUF\n",
            "87871.74884484569\n",
            "costUQ\n",
            "792286.2600764775\n",
            "costTrocadores\n",
            "22492.63167598045\n",
            "costUF\n",
            "92495.55717312518\n",
            "costUQ\n",
            "833976.3351675222\n",
            "costTrocadores\n",
            "20506.761271280608\n",
            "costUF\n",
            "97483.57395784782\n",
            "costUQ\n",
            "878950.2569969887\n",
            "costTrocadores\n",
            "19596.527276975565\n",
            "costUF\n",
            "101799.47852791507\n",
            "costUQ\n",
            "917864.1506615293\n",
            "costTrocadores\n",
            "21778.932847138\n",
            "costUF\n",
            "106233.73741942777\n",
            "costUQ\n",
            "957845.173453857\n",
            "costTrocadores\n",
            "20656.561828698854\n",
            "costUF\n",
            "110549.59664943232\n",
            "costUQ\n",
            "996758.6583145538\n",
            "costTrocadores\n",
            "21132.540338447536\n",
            "costUF\n",
            "115575.28515555139\n",
            "costUQ\n",
            "1042072.2432057913\n",
            "costTrocadores\n",
            "19451.56460403444\n",
            "[  70459.21128441  118350.15322968  165741.9547811   212853.10554632\n",
            "  263047.50701566  301953.13547971  349637.93372993  394404.35811986\n",
            "  445720.28972687  492701.35142483  541622.38126326  589437.88005769\n",
            "  638006.1336355   680905.9843223   726720.64388468  777084.87712366\n",
            "  821581.37161553  863770.719153    902650.6405973   946978.65361193\n",
            "  996030.35823181 1041442.56203658 1084735.47270198 1128440.79530243\n",
            " 1177099.09296538]\n"
          ],
          "name": "stdout"
        }
      ]
    },
    {
      "cell_type": "code",
      "metadata": {
        "id": "xWhfHueSnReI",
        "colab_type": "code",
        "colab": {
          "base_uri": "https://localhost:8080/",
          "height": 282
        },
        "outputId": "ca84365e-ec57-4030-e16f-fa31c7c67b82"
      },
      "source": [
        "x=range(len(Custo))\n",
        "plt.plot(x,Custo)"
      ],
      "execution_count": 18,
      "outputs": [
        {
          "output_type": "execute_result",
          "data": {
            "text/plain": [
              "[<matplotlib.lines.Line2D at 0x7f517175b390>]"
            ]
          },
          "metadata": {
            "tags": []
          },
          "execution_count": 18
        },
        {
          "output_type": "display_data",
          "data": {
            "image/png": "[encoded data removed]",
            "text/plain": [
              "<Figure size 432x288 with 1 Axes>"
            ]
          },
          "metadata": {
            "tags": []
          }
        }
      ]
    },
    {
      "cell_type": "code",
      "metadata": {
        "id": "IxfqXr3wvOfp",
        "colab_type": "code",
        "outputId": "5605559b-9773-48d0-a21d-ed919d04ad26",
        "colab": {
          "base_uri": "https://localhost:8080/",
          "height": 55
        }
      },
      "source": [
        "'''\n",
        "[1179863.51077034 1181562.29317795 1180331.49642757 1181460.67704922\n",
        " 1181095.7955166  1180257.42122825 1180111.61408429 1182266.47563206\n",
        " 1180710.37174756 1182890.62261093 1181817.56790337 1180547.66398535\n",
        " 1182338.81611602 1182913.35693227 1180353.18466131 1180648.20461183\n",
        " 1179862.73888151 1181911.64223794 1179179.79482066 1180910.83199421\n",
        " 1180822.39103782 1180981.81021803 1180531.21335749 1180458.18878147\n",
        " 1182030.28999255]\n",
        "'''"
      ],
      "execution_count": 19,
      "outputs": [
        {
          "output_type": "execute_result",
          "data": {
            "text/plain": [
              "'\\n[1179863.51077034 1181562.29317795 1180331.49642757 1181460.67704922\\n 1181095.7955166  1180257.42122825 1180111.61408429 1182266.47563206\\n 1180710.37174756 1182890.62261093 1181817.56790337 1180547.66398535\\n 1182338.81611602 1182913.35693227 1180353.18466131 1180648.20461183\\n 1179862.73888151 1181911.64223794 1179179.79482066 1180910.83199421\\n 1180822.39103782 1180981.81021803 1180531.21335749 1180458.18878147\\n 1182030.28999255]\\n'"
            ]
          },
          "metadata": {
            "tags": []
          },
          "execution_count": 19
        }
      ]
    },
    {
      "cell_type": "code",
      "metadata": {
        "id": "cZeWZKKbDw_4",
        "colab_type": "code",
        "outputId": "5ecec844-1600-4f54-c8ee-af4bc934a6bb",
        "colab": {
          "base_uri": "https://localhost:8080/",
          "height": 35
        }
      },
      "source": [
        "print(tempAtual)"
      ],
      "execution_count": 20,
      "outputs": [
        {
          "output_type": "stream",
          "text": [
            "[453 393 523 533]\n"
          ],
          "name": "stdout"
        }
      ]
    },
    {
      "cell_type": "code",
      "metadata": {
        "id": "AE5bnwvC66GF",
        "colab_type": "code",
        "outputId": "969e6917-d7bf-4fcf-eda9-1e604740cd33",
        "colab": {
          "base_uri": "https://localhost:8080/",
          "height": 362
        }
      },
      "source": [
        "# caso I: parecido, teste \n",
        "#Ind_x=[4,3,4,3]\n",
        "#Ind_y=[1,2,2,2]\n",
        "#deltaT=[-21,-75,-21,-27]\n",
        "D=1\n",
        "#xtest=np.array([3,2,3,2,0,1,1,1,-21,-75,-21,-27]).reshape(1,12)\n",
        "xtest=np.array([3,2,3,2,0,1,1,1,-78,-75,-21,-27]).reshape(1,12)\n",
        "Ind_I,Ind_J,deltaT, Tin, Tout=buildMatriz(x)\n",
        "print(Ind_I)\n",
        "print(Ind_J)\n",
        "Custo, Erro=FUN(xtest)\n",
        "print(Custo)\n",
        "print(Erro)"
      ],
      "execution_count": 21,
      "outputs": [
        {
          "output_type": "error",
          "ename": "TypeError",
          "evalue": "ignored",
          "traceback": [
            "\u001b[0;31m---------------------------------------------------------------------------\u001b[0m",
            "\u001b[0;31mTypeError\u001b[0m                                 Traceback (most recent call last)",
            "\u001b[0;32m<ipython-input-21-c5c20a118d31>\u001b[0m in \u001b[0;36m<module>\u001b[0;34m()\u001b[0m\n\u001b[1;32m      2\u001b[0m \u001b[0;31m#xtest=np.array([3,2,3,2,0,1,1,1,-21,-75,-21,-27]).reshape(1,12)\u001b[0m\u001b[0;34m\u001b[0m\u001b[0;34m\u001b[0m\u001b[0;34m\u001b[0m\u001b[0m\n\u001b[1;32m      3\u001b[0m \u001b[0mxtest\u001b[0m\u001b[0;34m=\u001b[0m\u001b[0mnp\u001b[0m\u001b[0;34m.\u001b[0m\u001b[0marray\u001b[0m\u001b[0;34m(\u001b[0m\u001b[0;34m[\u001b[0m\u001b[0;36m3\u001b[0m\u001b[0;34m,\u001b[0m\u001b[0;36m2\u001b[0m\u001b[0;34m,\u001b[0m\u001b[0;36m3\u001b[0m\u001b[0;34m,\u001b[0m\u001b[0;36m2\u001b[0m\u001b[0;34m,\u001b[0m\u001b[0;36m0\u001b[0m\u001b[0;34m,\u001b[0m\u001b[0;36m1\u001b[0m\u001b[0;34m,\u001b[0m\u001b[0;36m1\u001b[0m\u001b[0;34m,\u001b[0m\u001b[0;36m1\u001b[0m\u001b[0;34m,\u001b[0m\u001b[0;34m-\u001b[0m\u001b[0;36m78\u001b[0m\u001b[0;34m,\u001b[0m\u001b[0;34m-\u001b[0m\u001b[0;36m75\u001b[0m\u001b[0;34m,\u001b[0m\u001b[0;34m-\u001b[0m\u001b[0;36m21\u001b[0m\u001b[0;34m,\u001b[0m\u001b[0;34m-\u001b[0m\u001b[0;36m27\u001b[0m\u001b[0;34m]\u001b[0m\u001b[0;34m)\u001b[0m\u001b[0;34m.\u001b[0m\u001b[0mreshape\u001b[0m\u001b[0;34m(\u001b[0m\u001b[0;36m1\u001b[0m\u001b[0;34m,\u001b[0m\u001b[0;36m12\u001b[0m\u001b[0;34m)\u001b[0m\u001b[0;34m\u001b[0m\u001b[0;34m\u001b[0m\u001b[0m\n\u001b[0;32m----> 4\u001b[0;31m \u001b[0mInd_I\u001b[0m\u001b[0;34m,\u001b[0m\u001b[0mInd_J\u001b[0m\u001b[0;34m,\u001b[0m\u001b[0mdeltaT\u001b[0m\u001b[0;34m,\u001b[0m \u001b[0mTin\u001b[0m\u001b[0;34m,\u001b[0m \u001b[0mTout\u001b[0m\u001b[0;34m=\u001b[0m\u001b[0mbuildMatriz\u001b[0m\u001b[0;34m(\u001b[0m\u001b[0mx\u001b[0m\u001b[0;34m)\u001b[0m\u001b[0;34m\u001b[0m\u001b[0;34m\u001b[0m\u001b[0m\n\u001b[0m\u001b[1;32m      5\u001b[0m \u001b[0mprint\u001b[0m\u001b[0;34m(\u001b[0m\u001b[0mInd_I\u001b[0m\u001b[0;34m)\u001b[0m\u001b[0;34m\u001b[0m\u001b[0;34m\u001b[0m\u001b[0m\n\u001b[1;32m      6\u001b[0m \u001b[0mprint\u001b[0m\u001b[0;34m(\u001b[0m\u001b[0mInd_J\u001b[0m\u001b[0;34m)\u001b[0m\u001b[0;34m\u001b[0m\u001b[0;34m\u001b[0m\u001b[0m\n",
            "\u001b[0;32m<ipython-input-3-5adb96cb06e4>\u001b[0m in \u001b[0;36mbuildMatriz\u001b[0;34m(x)\u001b[0m\n\u001b[1;32m      9\u001b[0m   \u001b[0;32mfor\u001b[0m \u001b[0mi\u001b[0m \u001b[0;32min\u001b[0m \u001b[0mrange\u001b[0m\u001b[0;34m(\u001b[0m\u001b[0mD\u001b[0m\u001b[0;34m)\u001b[0m\u001b[0;34m:\u001b[0m\u001b[0;34m\u001b[0m\u001b[0;34m\u001b[0m\u001b[0m\n\u001b[1;32m     10\u001b[0m     \u001b[0;32mfor\u001b[0m \u001b[0mj\u001b[0m \u001b[0;32min\u001b[0m \u001b[0mrange\u001b[0m\u001b[0;34m(\u001b[0m\u001b[0mTrocas\u001b[0m\u001b[0;34m)\u001b[0m\u001b[0;34m:\u001b[0m\u001b[0;34m\u001b[0m\u001b[0;34m\u001b[0m\u001b[0m\n\u001b[0;32m---> 11\u001b[0;31m       \u001b[0mInd_I\u001b[0m\u001b[0;34m[\u001b[0m\u001b[0mi\u001b[0m\u001b[0;34m,\u001b[0m\u001b[0mj\u001b[0m\u001b[0;34m]\u001b[0m\u001b[0;34m=\u001b[0m\u001b[0mround\u001b[0m\u001b[0;34m(\u001b[0m\u001b[0mx\u001b[0m\u001b[0;34m[\u001b[0m\u001b[0mi\u001b[0m\u001b[0;34m,\u001b[0m\u001b[0mj\u001b[0m\u001b[0;34m]\u001b[0m\u001b[0;34m)\u001b[0m\u001b[0;34m\u001b[0m\u001b[0;34m\u001b[0m\u001b[0m\n\u001b[0m\u001b[1;32m     12\u001b[0m       \u001b[0mInd_J\u001b[0m\u001b[0;34m[\u001b[0m\u001b[0mi\u001b[0m\u001b[0;34m,\u001b[0m\u001b[0mj\u001b[0m\u001b[0;34m]\u001b[0m\u001b[0;34m=\u001b[0m\u001b[0mround\u001b[0m\u001b[0;34m(\u001b[0m\u001b[0mx\u001b[0m\u001b[0;34m[\u001b[0m\u001b[0mi\u001b[0m\u001b[0;34m,\u001b[0m\u001b[0mj\u001b[0m\u001b[0;34m+\u001b[0m\u001b[0mTrocas\u001b[0m\u001b[0;34m]\u001b[0m\u001b[0;34m)\u001b[0m\u001b[0;34m\u001b[0m\u001b[0;34m\u001b[0m\u001b[0m\n\u001b[1;32m     13\u001b[0m       \u001b[0mdeltaT\u001b[0m\u001b[0;34m[\u001b[0m\u001b[0mi\u001b[0m\u001b[0;34m,\u001b[0m\u001b[0mj\u001b[0m\u001b[0;34m]\u001b[0m\u001b[0;34m=\u001b[0m\u001b[0mx\u001b[0m\u001b[0;34m[\u001b[0m\u001b[0mi\u001b[0m\u001b[0;34m,\u001b[0m\u001b[0mj\u001b[0m\u001b[0;34m+\u001b[0m\u001b[0;36m2\u001b[0m\u001b[0;34m*\u001b[0m\u001b[0mTrocas\u001b[0m\u001b[0;34m]\u001b[0m\u001b[0;34m\u001b[0m\u001b[0;34m\u001b[0m\u001b[0m\n",
            "\u001b[0;31mTypeError\u001b[0m: range indices must be integers or slices, not tuple"
          ]
        }
      ]
    },
    {
      "cell_type": "code",
      "metadata": {
        "id": "qZYtUEm68B7L",
        "colab_type": "code",
        "colab": {}
      },
      "source": [
        "#xtest=np.array([3,2,3,2,0,1,1,1,-75,-21,-27,-78]).reshape(1,12)\n",
        "xtest=np.array([3,2,3,2,0,1,1,1,-78,-27,-21,-75]).reshape(1,12)\n",
        "Ind_I,Ind_J,deltaT, Tin, Tout=buildMatriz(x)\n",
        "print(Ind_I)\n",
        "print(Ind_J)\n",
        "Custo, Erro=FUN(xtest)\n",
        "print(Custo)\n",
        "print(Erro)"
      ],
      "execution_count": 0,
      "outputs": []
    }
  ]
}