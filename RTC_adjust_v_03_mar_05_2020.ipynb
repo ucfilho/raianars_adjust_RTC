{
  "nbformat": 4,
  "nbformat_minor": 0,
  "metadata": {
    "colab": {
      "name": "RTC_adjust_v_03_mar_05_2020.ipynb",
      "provenance": [],
      "collapsed_sections": [],
      "include_colab_link": true
    },
    "kernelspec": {
      "name": "python3",
      "display_name": "Python 3"
    }
  },
  "cells": [
    {
      "cell_type": "markdown",
      "metadata": {
        "id": "view-in-github",
        "colab_type": "text"
      },
      "source": [
        "<a href=\"https://colab.research.google.com/github/ucfilho/raianars_adjust_RTC/blob/master/RTC_adjust_v_03_mar_05_2020.ipynb\" target=\"_parent\"><img src=\"https://colab.research.google.com/assets/colab-badge.svg\" alt=\"Open In Colab\"/></a>"
      ]
    },
    {
      "cell_type": "code",
      "metadata": {
        "id": "wGzR2VpcZHYA",
        "colab_type": "code",
        "colab": {}
      },
      "source": [
        "import pandas as pd\n",
        "from scipy.optimize import differential_evolution\n",
        "import numpy as np"
      ],
      "execution_count": 0,
      "outputs": []
    },
    {
      "cell_type": "code",
      "metadata": {
        "id": "2htdoQZEvKVl",
        "colab_type": "code",
        "colab": {}
      },
      "source": [
        "# Funcoes utilizadas neste codigo\n",
        "# Area(U,tempAtual,tempInicial,...): constroi matriz de areas trocadores \n",
        "#                                    entra duas correntes sendo chamada no loop\n",
        "# buildMatriz(x,cols): constroi a matriz deltaT e binaria (logica de trocas)\n",
        "#\n",
        "# Temperatura(matrizDeltaT,...): constroi as temperaturas e cargas termicas"
      ],
      "execution_count": 0,
      "outputs": []
    },
    {
      "cell_type": "code",
      "metadata": {
        "id": "QH4J60cSP2OX",
        "colab_type": "code",
        "colab": {}
      },
      "source": [
        "def buildMatriz(x):\n",
        "  global Trocas,D  \n",
        "  Ind_I=np.zeros((Trocas))\n",
        "  Ind_J=np.zeros((Trocas))\n",
        "  deltaT=np.zeros((Trocas))\n",
        "  for i in range(D):\n",
        "    for j in range(Trocas):\n",
        "      Ind_I[j]=round(x[i,j])\n",
        "      Ind_J[j]=round(x[i,j+Trocas])\n",
        "      deltaT[j]=x[i,j+2*Trocas] \n",
        "  return Ind_I,Ind_J,deltaT"
      ],
      "execution_count": 0,
      "outputs": []
    },
    {
      "cell_type": "code",
      "metadata": {
        "id": "Ha_XxG-tT7yB",
        "colab_type": "code",
        "colab": {}
      },
      "source": [
        "#def Temperatura_Carga(mCp,matrizDeltaT,matrizBinaria,tempInicial):\n",
        "def Temperatura_Carga(mCp,Ind_I,Ind_J,deltaT,tempInicial):\n",
        "  global Trocas\n",
        "  # cols=len(mCp)\n",
        "  # i represent hot stream  and j represent cold stream \n",
        "  # k represent sequential heat exchanges\n",
        "  cargaTermica=np.zeros((Trocas))\n",
        "  contador=0\n",
        "  cont_uso=0\n",
        "  tempAtual=np.copy(tempInicial)\n",
        "  erro=0 # valor erro se torna erro=1 quando ha algum erro e vai penalizar\n",
        "  for k in range(Trocas):\n",
        "    i=int(round(Ind_I[k]))\n",
        "    j=int(round(Ind_J[k]))\n",
        "    #print(mCp[i],deltaT[k])\n",
        "    #print('==============')\n",
        "    #print(deltaT)\n",
        "    #print(mCp)\n",
        "    #print(i)\n",
        "    #print(j)\n",
        "    cargaTermica[k]=mCp[i]*deltaT[k]\n",
        "    tempSaidaQ=tempInicial[i]+deltaT[k]\n",
        "    tempSaidaF=-cargaTermica[k]/(mCp[j])+tempAtual[j]\n",
        "    flag=0 # flag : indica que nao entra no teste logico\n",
        "    # usei flag no lugar q ifs pq a identacao ficou melhor assim\n",
        "    if(tempAtual[i] > tempAtual[j]): #Tquente maior Tfria: vaores atuais\n",
        "      if(tempSaidaQ > tempSaidaF): #Tquente maior Tfria: saidas\n",
        "        if(contador < cols):\n",
        "          flag=1\n",
        "          \n",
        "    if(flag>0):\n",
        "      tempAtual[i]=tempSaidaQ\n",
        "      tempAtual[j]=tempSaidaF\n",
        "    else:\n",
        "      erro=1\n",
        "\n",
        "\n",
        "  return tempAtual,cargaTermica,erro"
      ],
      "execution_count": 0,
      "outputs": []
    },
    {
      "cell_type": "code",
      "metadata": {
        "id": "_fKh1jXRcAOr",
        "colab_type": "code",
        "colab": {}
      },
      "source": [
        "def Area(U,tempAtual,tempInicial,Ind_I,Ind_J,deltaT):\n",
        "  global Trocas,mCp\n",
        "  \n",
        "  Area=[]\n",
        "\n",
        "  for k in range(Trocas):\n",
        "    i=int(Ind_I[k])\n",
        "    j=int(Ind_J[k])\n",
        "    Carga=mCp[k]*deltaT[k]\n",
        "    tempSaidaF=tempAtual[j]\n",
        "    tempSaidaQ=tempAtual[i]\n",
        "    deltaT1=tempInicial[i]-tempSaidaF\n",
        "    deltaT2=tempSaidaQ-tempInicial[j]\n",
        "    try:\n",
        "      A=(deltaT1-deltaT2)\n",
        "      B=np.log((deltaT1/deltaT2))\n",
        "      deltaTMediaLog=A/B\n",
        "    except:\n",
        "      deltaTMediaLog=1e99\n",
        " \n",
        "    if(deltaTMediaLog==1e99):\n",
        "      AreaCalc=1e99\n",
        "    else:\n",
        "      AreaCalc=abs(Carga/(U*deltaTMediaLog))\n",
        "\n",
        "    if(tempAtual[i]==tempInicial[i]):\n",
        "          AreaCalc=0\n",
        "\n",
        "    if(tempAtual[j]==tempInicial[j]):\n",
        "      AreaCalc=0\n",
        "          \n",
        "    Area.append(AreaCalc)\n",
        "\n",
        "  return Area"
      ],
      "execution_count": 0,
      "outputs": []
    },
    {
      "cell_type": "code",
      "metadata": {
        "id": "oJ7p1UbEHs4c",
        "colab_type": "code",
        "colab": {}
      },
      "source": [
        "def Utilidades(tempAlvo,tempAtual,mCp):\n",
        "\n",
        "  cols=len(mCp)\n",
        "  cargaUQ=0\n",
        "  cargaUF=0\n",
        "  \n",
        "  '''\n",
        "  caso I cita TUQin=553 e TQout=552, TUFin=303 TUFout=353\n",
        "  '''\n",
        "  \n",
        "  TUQin=553\n",
        "  TUQout=552\n",
        "  TUFin=303 \n",
        "  TUFout=353\n",
        "  areaTrocador=[]\n",
        "\n",
        "  for j in range(cols): \n",
        "    delta=tempAlvo[j]-tempAtual[j]\n",
        "    if(delta>0):#usa UQ\n",
        "      cargaUQ=cargaUQ+mCp[j]*delta\n",
        "      deltaT1=(TUQin-tempAlvo[j])\n",
        "      deltaT2=(TUQout-tempAtual[j])\n",
        "\n",
        "      try:\n",
        "        A=deltaT1-deltaT2\n",
        "        B=np.log(deltaT1/deltaT2)\n",
        "        deltaTMediaLog=A/B\n",
        "      except:\n",
        "        deltaTMediaLog=1e99\n",
        "\n",
        "      if(deltaTMediaLog==1e99):\n",
        "        areaTrocador.append(1e99)\n",
        "      else:\n",
        "        areaTrocador.append((abs(mCp[j]*(delta)/(U*deltaTMediaLog))))\n",
        "\n",
        "    elif(delta==0):#nao usa UF e UQ\n",
        "      deltaTMediaLog=0\n",
        "      areaTrocador.append(0) \n",
        "\n",
        "    else:#usa UF\n",
        "      deltaT1=(tempAtual[j]-TUFout)\n",
        "      deltaT2=(tempAlvo[j]-TUFin)     \n",
        "      cargaUF=cargaUF+mCp[j]*(-delta)\n",
        "\n",
        "      #UF -> água resfriada -> entra a 303K e sai a 353K\n",
        "      try:\n",
        "        A=deltaT1-deltaT2\n",
        "        B=np.log(deltaT1/deltaT2)\n",
        "        deltaTMediaLog=A/B\n",
        "      except:\n",
        "        deltaTMediaLog=1e99\n",
        "      \n",
        "      if(deltaTMediaLog==1e99):\n",
        "        areaTrocador.append(1e99)\n",
        "      else:\n",
        "        areaTrocador.append((abs(mCp[j]*(-delta)/(U*deltaTMediaLog))))\n",
        "\n",
        "  return areaTrocador, cargaUF,cargaUQ \n",
        "  # areaTrocador contem a soma das areas\n",
        "  # Trocadores a area associada a cada corrente\n",
        "  # cargaUF e cargaUQ kW gasto"
      ],
      "execution_count": 0,
      "outputs": []
    },
    {
      "cell_type": "code",
      "metadata": {
        "id": "_vAVl672mXZb",
        "colab_type": "code",
        "colab": {}
      },
      "source": [
        "def CustoProcesso(areaTrocadores,areaUtilidades,cargaUF,cargaUQ):\n",
        "  global coefCustoUQ,coefCustoUF\n",
        "  costTrocadores=0\n",
        "  for it in areaTrocadores:\n",
        "    for wii in areaUtilidades:\n",
        "      if(it<1e99):\n",
        "        if(wii<1e99):\n",
        "          costTrocadores=costTrocadores+300*(it**0.5+wii**0.5)\n",
        "        else:\n",
        "          costTrocadores=1e99\n",
        "          break\n",
        "        \n",
        "  costUQ=coefCustoUQ*cargaUQ\n",
        "  costUF=coefCustoUF*cargaUF\n",
        "\n",
        "  if(costTrocadores==1e99):\n",
        "    cost=1e99\n",
        "  else:\n",
        "    cost=costUQ+costUF+costTrocadores\n",
        "  return cost"
      ],
      "execution_count": 0,
      "outputs": []
    },
    {
      "cell_type": "code",
      "metadata": {
        "id": "lmPfZ7arakM1",
        "colab_type": "code",
        "colab": {}
      },
      "source": [
        "#FUN calcula o TAC para um determinado arranjo\n",
        "#  cada calculo é feito em uma funcao a parte Fun usa todas funcoes \n",
        "\n",
        "def FUN(x):\n",
        "\n",
        "  # global mCp,tempAtual,tempAlvo,U,coefCustoUQ,coefCustoUF\n",
        "  global mCp,tempAtual,tempAlvo,tempInicial,U,coefCustoUQ,coefCustoUF\n",
        "  \n",
        "\n",
        "\n",
        "  cols=len(mCp)\n",
        "  #tempInicial=np.copy(tempAtual) \n",
        "  Ind_I,Ind_J,deltaT=buildMatriz(x) # transforma x em matriz logica e troca\n",
        "\n",
        "  tempAtual,Carga,Erro=Temperatura_Carga(mCp,Ind_I,Ind_J,deltaT,tempInicial)\n",
        "  areaTrocadores =Area(U,tempAtual,tempInicial,Ind_I,Ind_J,deltaT)\n",
        "  areaUtilidade, cargaUF,cargaUQ = Utilidades(tempAlvo,tempAtual,mCp)\n",
        "  cost=CustoProcesso(areaTrocadores,areaUtilidade,cargaUF,cargaUQ)\n",
        "  funr = np.where(np.isnan(cost), 1e99, cost)\n",
        "\n",
        "  if(Erro>0):\n",
        "    funr=1e99\n",
        "\n",
        "\n",
        "  return funr"
      ],
      "execution_count": 0,
      "outputs": []
    },
    {
      "cell_type": "code",
      "metadata": {
        "id": "Dt6anZvATxzg",
        "colab_type": "code",
        "colab": {}
      },
      "source": [
        "#********************PROGRAMA PRINCIPAL*************************\n",
        "\n",
        "NPAR=50 #Número de partículas\n",
        "ITE=5000 #Número de iterações\n",
        "PAR=12 #Número de parâmetros a ser otimizados\n",
        "\n",
        "MAX=[0,0,0,0,0,0,1,1,1,1,1,1]\n",
        "MIN=[-300,-300,-300,-300,-300,-300,0,0,0,0,0,0]\n",
        "mCp=[4,2,1.5,3] #[kW/K]\n",
        "tempInicial=[453,393,523,533] #[K]\n",
        "#tempAtual=[453,393,523,533] #[K]\n",
        "tempAlvo=[513,508,403,433] #[K]\n",
        "U=0.2 #[kW/(m2.K)]\n",
        "\n",
        "coefCustoUQ=110 #[$/(kW.ano)]\n",
        "coefCustoUF=12.2 #[$/(kW.ano)]\n",
        "\n",
        "bounds = []\n",
        "for i in range(12):\n",
        "  bounds.append((MAX[i],MIN[i]))\n",
        "\n"
      ],
      "execution_count": 0,
      "outputs": []
    },
    {
      "cell_type": "code",
      "metadata": {
        "id": "e0lgbNqkLj4v",
        "colab_type": "code",
        "colab": {}
      },
      "source": [
        "#MAX=[0,0,0,0,0,0,1,1,1,1,1,1]\n",
        "#MIN=[-300,-300,-300,-300,-300,-300,0.3,0.3,0.3,0.3,0.3,0.3]\n",
        "Trocas=4\n",
        "\n",
        "D=5\n",
        "\n",
        "cols=Trocas*3 # tres linhas i,j,deltaT\n",
        "MAX=np.zeros((cols))\n",
        "MIN=np.zeros((cols))\n",
        "\n",
        "for k in range(cols):\n",
        "  if(k>(Trocas*2-1)):\n",
        "    MIN[k]=-100\n",
        "  else:\n",
        "    MAX[k]=(Trocas-1)\n",
        "\n",
        "x=np.zeros((D,cols))\n",
        "\n",
        "for i in range(D):\n",
        "  for j in range(cols):\n",
        "    r=np.random.random()\n",
        "    x[i,j]=r*(MAX[j]-MIN[j])+MIN[j]\n",
        "\n",
        "Ind_I=np.zeros((Trocas))\n",
        "Ind_J=np.zeros((Trocas))\n",
        "deltaT=np.zeros((Trocas))\n",
        "for i in range(D):\n",
        "  for j in range(Trocas):\n",
        "    Ind_I[j]=round(x[i,j])\n",
        "    Ind_J[j]=round(x[i,j+Trocas])\n",
        "    deltaT[j]=x[i,j+2*Trocas]\n",
        "\n",
        "\n",
        "\n"
      ],
      "execution_count": 0,
      "outputs": []
    },
    {
      "cell_type": "code",
      "metadata": {
        "id": "Urw8muuARkrL",
        "colab_type": "code",
        "outputId": "90d06060-e7f2-4aa3-8b8e-adc71ee1acb6",
        "colab": {
          "base_uri": "https://localhost:8080/",
          "height": 302
        }
      },
      "source": [
        "\n",
        "Custo=FUN(x)\n",
        "print(Custo)\n"
      ],
      "execution_count": 13,
      "outputs": [
        {
          "output_type": "stream",
          "text": [
            "------------\n",
            "0\n",
            "3\n",
            "------------\n",
            "0\n",
            "0\n",
            "------------\n",
            "2\n",
            "1\n",
            "------------\n",
            "3\n",
            "2\n",
            "1e+99\n"
          ],
          "name": "stdout"
        },
        {
          "output_type": "stream",
          "text": [
            "/usr/local/lib/python3.6/dist-packages/ipykernel_launcher.py:20: RuntimeWarning: invalid value encountered in true_divide\n",
            "/usr/local/lib/python3.6/dist-packages/ipykernel_launcher.py:19: RuntimeWarning: invalid value encountered in long_scalars\n"
          ],
          "name": "stderr"
        }
      ]
    },
    {
      "cell_type": "code",
      "metadata": {
        "id": "DGY_Kzf4Kxd4",
        "colab_type": "code",
        "colab": {
          "base_uri": "https://localhost:8080/",
          "height": 302
        },
        "outputId": "579b7dc6-7a42-495c-8c2f-34c31cda125b"
      },
      "source": [
        "print(FUN(x))"
      ],
      "execution_count": 14,
      "outputs": [
        {
          "output_type": "stream",
          "text": [
            "------------\n",
            "0\n",
            "3\n",
            "------------\n",
            "0\n",
            "0\n",
            "------------\n",
            "2\n",
            "1\n",
            "------------\n",
            "3\n",
            "2\n",
            "1e+99\n"
          ],
          "name": "stdout"
        },
        {
          "output_type": "stream",
          "text": [
            "/usr/local/lib/python3.6/dist-packages/ipykernel_launcher.py:20: RuntimeWarning: invalid value encountered in true_divide\n",
            "/usr/local/lib/python3.6/dist-packages/ipykernel_launcher.py:19: RuntimeWarning: invalid value encountered in long_scalars\n"
          ],
          "name": "stderr"
        }
      ]
    },
    {
      "cell_type": "code",
      "metadata": {
        "id": "lsttwtFiJnH3",
        "colab_type": "code",
        "colab": {}
      },
      "source": [
        ""
      ],
      "execution_count": 0,
      "outputs": []
    },
    {
      "cell_type": "code",
      "metadata": {
        "id": "_4ByEGWbnrdS",
        "colab_type": "code",
        "colab": {}
      },
      "source": [
        "cols=len(mCp)\n",
        "UsoFuncao=[]\n",
        "x=[-99.214722,59.99994,146.225,4.2108538,15.99999,0, 0.9500049,1, 1,0.9103451, 1,0.4786627]\n",
        "matrizDeltaT,matrizBinaria=buildMatriz(x,cols) # transforma x em matriz logica e troca\n",
        "tempAtual,Carga,Erro=Temperatura_Carga(mCp,matrizDeltaT,matrizBinaria,tempInicial)\n",
        "areaTrocadores =Area(U,tempAtual,tempInicial,Carga,matrizDeltaT)\n",
        "areaUtilidade, cargaUF,cargaUQ = Utilidades(tempAlvo,tempAtual,mCp)\n",
        "print('estou aqui');print(areaUtilidade);print(areaTrocadores)\n",
        "custoTotal=CustoProcesso(areaTrocadores,areaUtilidade,cargaUF,cargaUQ)\n",
        "print('Custo total');print(custoTotal);\n",
        "cost=CustoProcesso(areaTrocadores,areaUtilidade,cargaUF,cargaUQ)\n",
        "print('Custo processo');print(cost);\n",
        "print('cont_uso');print(UsoFuncao)"
      ],
      "execution_count": 0,
      "outputs": []
    },
    {
      "cell_type": "code",
      "metadata": {
        "id": "5qNdVcQ0HmQm",
        "colab_type": "code",
        "colab": {}
      },
      "source": [
        "UsoFuncao=[]\n",
        "fchoice=FUN\n",
        "result = differential_evolution(fchoice, bounds, maxiter=ITE, popsize=NPAR)\n",
        "print('temperatura atual=',tempAtual)\n",
        "print(result.x, result.fun)\n",
        "print(tempAtual)\n",
        "GBEST=result.x\n",
        "BEST=result.fun\n",
        "matrizTrocaBest,matrizBinaria=MATBEST(GBEST,mCp,tempAtual)\n",
        "matrizGrafico=MATGRAF(matrizTrocaBest,mCp,tempAtual)\n",
        "\n",
        "print('Melhor solução para %d iterações com %d partículas \\n'%(ITE,NPAR));print(GBEST)\n",
        "print('Valor da função f(gbest)=%f \\n'%BEST)\n",
        "print('matriz grafico');print(matrizGrafico)\n",
        "print('cont_uso');print(UsoFuncao)"
      ],
      "execution_count": 0,
      "outputs": []
    },
    {
      "cell_type": "code",
      "metadata": {
        "id": "FFLGL1pzftiq",
        "colab_type": "code",
        "colab": {}
      },
      "source": [
        "cols=len(mCp)\n",
        "matrizDeltaT,matrizBinaria=buildMatriz(GBEST,cols) # transforma x em matriz logica e troca\n",
        "tempAtual,cargaTermica,erro=Temperatura_Carga(mCp,matrizDeltaT,matrizBinaria,tempInicial)\n",
        "areaTrocadores =Area(U,tempAtual,tempInicial,cargaTermica,matrizDeltaT)\n",
        "\n",
        "print('temperatura inicial');print(tempInicial)\n",
        "print('temperatura alvo');print(tempAlvo)\n",
        "print('temperatura atual');print(tempAtual)\n",
        "print('Area trocadores');print(areaTrocadores)"
      ],
      "execution_count": 0,
      "outputs": []
    },
    {
      "cell_type": "code",
      "metadata": {
        "id": "-pLfJUMDh1vx",
        "colab_type": "code",
        "colab": {}
      },
      "source": [
        "print(cols)\n",
        "print(GBEST)"
      ],
      "execution_count": 0,
      "outputs": []
    },
    {
      "cell_type": "code",
      "metadata": {
        "id": "p_h7HnO3zySn",
        "colab_type": "code",
        "colab": {}
      },
      "source": [
        "matrizDeltaT,matrizBinaria=buildMatriz(GBEST,cols) # transforma x em matriz logica e troca\n",
        "print('Matriz de Trocas Térmicas \\n')\n",
        "print(matrizDeltaT)\n",
        "print('Matriz Binária \\n')\n",
        "print(matrizBinaria)"
      ],
      "execution_count": 0,
      "outputs": []
    }
  ]
}