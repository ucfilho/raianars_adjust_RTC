{
  "nbformat": 4,
  "nbformat_minor": 0,
  "metadata": {
    "colab": {
      "name": "RTC_adjust_v_01_mar_05_2020.ipynb",
      "provenance": [],
      "collapsed_sections": [],
      "include_colab_link": true
    },
    "kernelspec": {
      "name": "python3",
      "display_name": "Python 3"
    }
  },
  "cells": [
    {
      "cell_type": "markdown",
      "metadata": {
        "id": "view-in-github",
        "colab_type": "text"
      },
      "source": [
        "<a href=\"https://colab.research.google.com/github/ucfilho/raianars_adjust_RTC/blob/master/RTC_adjust_v_01_mar_05_2020.ipynb\" target=\"_parent\"><img src=\"https://colab.research.google.com/assets/colab-badge.svg\" alt=\"Open In Colab\"/></a>"
      ]
    },
    {
      "cell_type": "code",
      "metadata": {
        "id": "wGzR2VpcZHYA",
        "colab_type": "code",
        "colab": {}
      },
      "source": [
        "import pandas as pd\n",
        "from scipy.optimize import differential_evolution\n",
        "import numpy as np"
      ],
      "execution_count": 0,
      "outputs": []
    },
    {
      "cell_type": "code",
      "metadata": {
        "id": "2htdoQZEvKVl",
        "colab_type": "code",
        "colab": {}
      },
      "source": [
        "# Funcoes utilizadas neste codigo\n",
        "# Area(U,tempAtual,tempInicial,...): constroi matriz de areas trocadores \n",
        "#                                    entra duas correntes sendo chamada no loop\n",
        "# buildMatriz(x,cols): constroi a matriz deltaT e binaria (logica de trocas)\n",
        "#\n",
        "# Temperatura(matrizDeltaT,...): constroi as temperaturas e cargas termicas"
      ],
      "execution_count": 0,
      "outputs": []
    },
    {
      "cell_type": "code",
      "metadata": {
        "id": "QH4J60cSP2OX",
        "colab_type": "code",
        "colab": {}
      },
      "source": [
        "def buildMatriz(x,cols):\n",
        "\n",
        "  nref=int(len(x)/2) # metade de x é deltaT e a outra metade variavel logica\n",
        "  matrizDeltaT=np.zeros((cols,cols))\n",
        "  matrizBinaria=np.zeros((cols,cols))\n",
        "\n",
        "  contador=0\n",
        "  for i in range(cols):\n",
        "    for j in range(cols):\n",
        "      soma=contador+nref\n",
        "      #print('%d %d %d %d %d'%(i,j,contador,nref,soma))\n",
        "      flag=0\n",
        "      if(i<j):\n",
        "        if(contador<nref):\n",
        "          flag=1\n",
        "      if(flag>0):\n",
        "        matrizDeltaT[i,j]=x[contador]\n",
        "        matrizBinaria[i,j]=round(x[contador+nref])\n",
        "        contador=contador+1\n",
        "        \n",
        "  return matrizDeltaT,matrizBinaria"
      ],
      "execution_count": 0,
      "outputs": []
    },
    {
      "cell_type": "code",
      "metadata": {
        "id": "Ha_XxG-tT7yB",
        "colab_type": "code",
        "colab": {}
      },
      "source": [
        "def Temperatura_Carga(mCp,matrizDeltaT,matrizBinaria,tempInicial):\n",
        "\n",
        "  cols=len(mCp)\n",
        "  cargaTermica=np.zeros((cols,cols))\n",
        "  contador=0\n",
        "  cont_uso=0\n",
        "  tempAtual=np.copy(tempInicial)\n",
        "  erro=0 # valor erro se torna erro=1 quando ha algum erro e vai penalizar\n",
        "  for i in range(cols):\n",
        "    for j in range(cols):\n",
        "      contador=contador+1\n",
        "      cargaTermica[i,j]=mCp[i]*matrizDeltaT[i,j]\n",
        "\n",
        "      if(i<j):\n",
        "        if(matrizBinaria[i,j]==1):\n",
        "          #i: CQ, j: CF\n",
        "          #tempSaidaQ=tempAtual[i]+matrizDeltaT[i,j]\n",
        "          tempSaidaQ=tempInicial[i]+matrizDeltaT[i,j]\n",
        "          tempSaidaF=-cargaTermica[i,j]/(mCp[j])+tempAtual[j]\n",
        "          tempSaidaF=-cargaTermica[i,j]/(mCp[j])+tempInicial[j]\n",
        "          flag=0 # flag : indica que nao entra no teste logico\n",
        "          # usei flag no lugar q ifs pq a identacao ficou melhor assim\n",
        "          if(tempAtual[i] > tempAtual[j]): #Tquente maior Tfria: vaores atuais\n",
        "            if(tempSaidaQ > tempSaidaF): #Tquente maior Tfria: saidas\n",
        "              if(contador < cols):\n",
        "                flag=1\n",
        "          \n",
        "          if(flag>0):\n",
        "            tempAtual[i]=tempSaidaQ\n",
        "            tempAtual[j]=tempSaidaF\n",
        "            cont_uso=cont_uso+1\n",
        "          else:\n",
        "            erro=1\n",
        "\n",
        "\n",
        "  return tempAtual,cargaTermica,erro"
      ],
      "execution_count": 0,
      "outputs": []
    },
    {
      "cell_type": "code",
      "metadata": {
        "id": "_fKh1jXRcAOr",
        "colab_type": "code",
        "colab": {}
      },
      "source": [
        "def Area(U,tempAtual,tempInicial,cargaTermica,matrizDeltaT):\n",
        "\n",
        "  cols=len(tempInicial)\n",
        "  Trocador=np.zeros((cols,cols)) # matriz q armazena as areas dos trocadores\n",
        "  Area=[]\n",
        "\n",
        "  for i in range(cols):\n",
        "    for j in range(cols):\n",
        "      if(i<j):\n",
        "        Carga=cargaTermica[i,j]\n",
        "        # calcula a area de placas das duas correntes que trocam i e j\n",
        "\n",
        "        #a corrente i perde calor para a j\n",
        "        #i: CQ, j:CF\n",
        "        tempSaidaF=tempAtual[j]\n",
        "        tempSaidaQ=tempAtual[i]\n",
        "        deltaT1=tempInicial[i]-tempSaidaF\n",
        "        deltaT2=tempSaidaQ-tempInicial[j]\n",
        "        try:\n",
        "          A=(deltaT1-deltaT2)\n",
        "          B=np.log((deltaT1/deltaT2))\n",
        "          deltaTMediaLog=A/B\n",
        "        except:\n",
        "          deltaTMediaLog=1e99\n",
        " \n",
        "        if(deltaTMediaLog==1e99):  \n",
        "          AreaCalc=1e99\n",
        "        else:\n",
        "          AreaCalc=abs(Carga/(U*deltaTMediaLog))\n",
        "        \n",
        "        if(tempAtual[i]==tempInicial[i]):\n",
        "          AreaCalc=0\n",
        "\n",
        "        if(tempAtual[j]==tempInicial[j]):\n",
        "          AreaCalc=0\n",
        "          \n",
        "        Area.append(AreaCalc)\n",
        "\n",
        "  \n",
        "  return Area"
      ],
      "execution_count": 0,
      "outputs": []
    },
    {
      "cell_type": "code",
      "metadata": {
        "id": "oJ7p1UbEHs4c",
        "colab_type": "code",
        "colab": {}
      },
      "source": [
        "def Utilidades(tempAlvo,tempAtual,mCp):\n",
        "\n",
        "  cols=len(mCp)\n",
        "  cargaUQ=0\n",
        "  cargaUF=0\n",
        "  \n",
        "  '''\n",
        "  caso I cita TUQin=553 e TQout=552, TUFin=303 TUFout=353\n",
        "  '''\n",
        "  \n",
        "  TUQin=553\n",
        "  TUQout=552\n",
        "  TUFin=303 \n",
        "  TUFout=353\n",
        "  areaTrocador=[]\n",
        "\n",
        "  for j in range(cols): \n",
        "    delta=tempAlvo[j]-tempAtual[j]\n",
        "    if(delta>0):#usa UQ\n",
        "      cargaUQ=cargaUQ+mCp[j]*delta\n",
        "      deltaT1=(TUQin-tempAlvo[j])\n",
        "      deltaT2=(TUQout-tempAtual[j])\n",
        "\n",
        "      try:\n",
        "        A=deltaT1-deltaT2\n",
        "        B=np.log(deltaT1/deltaT2)\n",
        "        deltaTMediaLog=A/B\n",
        "      except:\n",
        "        deltaTMediaLog=1e99\n",
        "\n",
        "      if(deltaTMediaLog==1e99):\n",
        "        areaTrocador.append(1e99)\n",
        "      else:\n",
        "        areaTrocador.append((abs(mCp[j]*(delta)/(U*deltaTMediaLog))))\n",
        "\n",
        "    elif(delta==0):#nao usa UF e UQ\n",
        "      deltaTMediaLog=0\n",
        "      areaTrocador.append(0) \n",
        "\n",
        "    else:#usa UF\n",
        "      deltaT1=(tempAtual[j]-TUFout)\n",
        "      deltaT2=(tempAlvo[j]-TUFin)     \n",
        "      cargaUF=cargaUF+mCp[j]*(-delta)\n",
        "\n",
        "      #UF -> água resfriada -> entra a 303K e sai a 353K\n",
        "      try:\n",
        "        A=deltaT1-deltaT2\n",
        "        B=np.log(deltaT1/deltaT2)\n",
        "        deltaTMediaLog=A/B\n",
        "      except:\n",
        "        deltaTMediaLog=1e99\n",
        "      \n",
        "      if(deltaTMediaLog==1e99):\n",
        "        areaTrocador.append(1e99)\n",
        "      else:\n",
        "        areaTrocador.append((abs(mCp[j]*(-delta)/(U*deltaTMediaLog))))\n",
        "\n",
        "  return areaTrocador, cargaUF,cargaUQ \n",
        "  # areaTrocador contem a soma das areas\n",
        "  # Trocadores a area associada a cada corrente\n",
        "  # cargaUF e cargaUQ kW gasto"
      ],
      "execution_count": 0,
      "outputs": []
    },
    {
      "cell_type": "code",
      "metadata": {
        "id": "_vAVl672mXZb",
        "colab_type": "code",
        "colab": {}
      },
      "source": [
        "def CustoProcesso(areaTrocadores,areaUtilidades,cargaUF,cargaUQ):\n",
        "  global coefCustoUQ,coefCustoUF\n",
        "  costTrocadores=0\n",
        "  for it in areaTrocadores:\n",
        "    for wii in areaUtilidade:\n",
        "      if(it<1e99):\n",
        "        if(wii<1e99):\n",
        "          costTrocadores=costTrocadores+300*(it**0.5+wii**0.5)\n",
        "        else:\n",
        "          costTrocadores=1e99\n",
        "          break\n",
        "        \n",
        "  costUQ=coefCustoUQ*cargaUQ\n",
        "  costUF=coefCustoUF*cargaUF\n",
        "\n",
        "  if(costTrocadores==1e99):\n",
        "    cost=1e99\n",
        "  else:\n",
        "    cost=costUQ+costUF+costTrocadores\n",
        "  return cost"
      ],
      "execution_count": 0,
      "outputs": []
    },
    {
      "cell_type": "code",
      "metadata": {
        "id": "lmPfZ7arakM1",
        "colab_type": "code",
        "colab": {}
      },
      "source": [
        "#FUN calcula o TAC para um determinado arranjo\n",
        "#  cada calculo é feito em uma funcao a parte Fun usa todas funcoes \n",
        "\n",
        "def FUN(x):\n",
        "\n",
        "  # global mCp,tempAtual,tempAlvo,U,coefCustoUQ,coefCustoUF\n",
        "  global mCp,tempAtual,tempAlvo,tempInicial,U,coefCustoUQ,coefCustoUF\n",
        "  global UsoFuncao\n",
        "\n",
        "\n",
        "  cols=len(mCp)\n",
        "  #tempInicial=np.copy(tempAtual) \n",
        "  matrizDeltaT,matrizBinaria=buildMatriz(x,cols) # transforma x em matriz logica e troca\n",
        "  tempAtual,Carga,Erro=Temperatura_Carga(mCp,matrizDeltaT,matrizBinaria,tempInicial)\n",
        "  areaTrocadores =Area(U,tempAtual,tempInicial,Carga,matrizDeltaT)\n",
        "  areaUtilidade, cargaUF,cargaUQ = Utilidades(tempAlvo,tempAtual,mCp)\n",
        "  cost=CustoProcesso(areaTrocadores,areaUtilidade,cargaUF,cargaUQ)\n",
        "  funr = np.where(np.isnan(cost), 1e99, cost)\n",
        "\n",
        "  if(Erro>0):\n",
        "    funr=1e99\n",
        "\n",
        "\n",
        "  return funr"
      ],
      "execution_count": 0,
      "outputs": []
    },
    {
      "cell_type": "code",
      "metadata": {
        "id": "pU4mX9rEn8CZ",
        "colab_type": "code",
        "colab": {}
      },
      "source": [
        "#MATGRAF retorna o gráfico das trocas térmicas em cada trocador\n",
        "# function matrizGrafico=MATGRAF(matrizDeltaT,mCp,tempAtual)\n",
        "def MATGRAF(matrizDeltaT,mCp,tempAtual):\n",
        "  cols=len(mCp)\n",
        "  contador=0\n",
        "  matrizGrafico=[]\n",
        "  matrizGrafico.append(tempAtual)\n",
        "  for i in range(cols):\n",
        "    for j in range(cols):\n",
        "      if(i<j):\n",
        "        contador=contador+1\n",
        "        # i: CQ, j:CF\n",
        "        cargaTermica=mCp[i]*matrizDeltaT[i,j]\n",
        "        tempSaidaQ=tempAtual[i]+matrizDeltaT[i,j]\n",
        "        tempSaidaF=-cargaTermica/(mCp[j])+tempAtual[j]\n",
        "\n",
        "        flag=0 # flag : indica que nao entra no teste logico\n",
        "        # usei flag no lugar ifs pq identacao ficou melhor \n",
        "        if(tempAtual[i] > tempAtual[j]): #Tquente maior Tfria: valores atuais\n",
        "          if(tempSaidaQ > tempSaidaF): #Tquente maior Tfria: saidas\n",
        "            if(contador < cols):\n",
        "              flag=1\n",
        "        \n",
        "\n",
        "        if(flag>0):\n",
        "          tempAtual[i]=tempSaidaQ\n",
        "          tempAtual[j]=tempSaidaF\n",
        "          matrizGrafico.append(tempAtual)\n",
        "          \n",
        "  df=pd.DataFrame(matrizGrafico)\n",
        "  \n",
        "  return df"
      ],
      "execution_count": 0,
      "outputs": []
    },
    {
      "cell_type": "code",
      "metadata": {
        "id": "6p2pNTe-pBJH",
        "colab_type": "code",
        "colab": {}
      },
      "source": [
        "#MATBEST retorna a matriz com os deltas das trocas térmicas que ocorreram e a matriz binária\n",
        "# function [matrizTrocaBest,matrizBinaria]=MATBEST(x,mCp,tempAtual)\n",
        "def MATBEST(x,mCp,tempAtual):\n",
        "  \n",
        "  nref=int(len(x)/2)\n",
        "  #nref=0\n",
        "  cols=len(mCp)\n",
        "\n",
        "  # cada particula contem metade das variaveis para matriz binaria\n",
        "  # e outra metade para deltaT use nref e para separar os dois casos\n",
        "  matrizDeltaT=np.zeros((cols,cols))\n",
        "  matrizTrocaBest=np.zeros((cols,cols))\n",
        "  matrizBinaria=np.zeros((cols,cols))\n",
        "\n",
        "  contador=0\n",
        "  for i in range(cols):\n",
        "    for j in range(cols):\n",
        "      if(i<j):\n",
        "        matrizDeltaT[i,j]=x[contador]\n",
        "        matrizBinaria[i,j]=round(x[contador+nref])\n",
        "        contador=contador+1\n",
        "  \n",
        "    for i in range(cols):\n",
        "      for j in range(cols):\n",
        "        if(i<j):\n",
        "          if(matrizBinaria[i,j]==1):\n",
        "            #i: CQ, j: CF\n",
        "            cargaTermica=mCp[i]*matrizDeltaT[i,j]\n",
        "            tempSaidaQ=tempAtual[i]+matrizDeltaT[i,j]\n",
        "            tempSaidaF=-cargaTermica/(mCp[j])+tempAtual[j]\n",
        "            if(\n",
        "                  tempAtual[i]>tempAtual[j] and\n",
        "                  tempSaidaQ>tempAtual[j] and\n",
        "                  tempAtual[i]>tempSaidaF\n",
        "              ): #TQentra>TFentra & TQsai>TFentra & TQentra>TFsai\n",
        "              tempAtual[i]=tempSaidaQ\n",
        "              tempAtual[j]=tempSaidaF\n",
        "            else:\n",
        "              matrizDeltaT[i,j]=0\n",
        "  matrizTrocaBest=matrizDeltaT\n",
        "  return matrizTrocaBest,matrizBinaria"
      ],
      "execution_count": 0,
      "outputs": []
    },
    {
      "cell_type": "code",
      "metadata": {
        "id": "Dt6anZvATxzg",
        "colab_type": "code",
        "colab": {}
      },
      "source": [
        "#********************PROGRAMA PRINCIPAL*************************\n",
        "\n",
        "NPAR=50 #Número de partículas\n",
        "ITE=5000 #Número de iterações\n",
        "PAR=12 #Número de parâmetros a ser otimizados\n",
        "\n",
        "MAX=[0,0,0,0,0,0,1,1,1,1,1,1]\n",
        "MIN=[-300,-300,-300,-300,-300,-300,0,0,0,0,0,0]\n",
        "mCp=[4,2,1.5,3] #[kW/K]\n",
        "tempInicial=[453,393,523,533] #[K]\n",
        "#tempAtual=[453,393,523,533] #[K]\n",
        "tempAlvo=[513,508,403,433] #[K]\n",
        "U=0.2 #[kW/(m2.K)]\n",
        "\n",
        "coefCustoUQ=110 #[$/(kW.ano)]\n",
        "coefCustoUF=12.2 #[$/(kW.ano)]\n",
        "\n",
        "bounds = []\n",
        "for i in range(12):\n",
        "  bounds.append((MAX[i],MIN[i]))\n",
        "\n"
      ],
      "execution_count": 0,
      "outputs": []
    },
    {
      "cell_type": "code",
      "metadata": {
        "id": "_4ByEGWbnrdS",
        "colab_type": "code",
        "outputId": "4a64f612-3c0f-4b23-c51b-c61520909d10",
        "colab": {
          "base_uri": "https://localhost:8080/",
          "height": 214
        }
      },
      "source": [
        "cols=len(mCp)\n",
        "UsoFuncao=[]\n",
        "x=[-99.214722,59.99994,146.225,4.2108538,15.99999,0, 0.9500049,1, 1,0.9103451, 1,0.4786627]\n",
        "matrizDeltaT,matrizBinaria=buildMatriz(x,cols) # transforma x em matriz logica e troca\n",
        "tempAtual,Carga,Erro=Temperatura_Carga(mCp,matrizDeltaT,matrizBinaria,tempInicial)\n",
        "areaTrocadores =Area(U,tempAtual,tempInicial,Carga,matrizDeltaT)\n",
        "areaUtilidade, cargaUF,cargaUQ = Utilidades(tempAlvo,tempAtual,mCp)\n",
        "print('estou aqui');print(areaUtilidade);print(areaTrocadores)\n",
        "custoTotal=CustoProcesso(areaTrocadores,areaUtilidade,cargaUF,cargaUQ)\n",
        "print('Custo total');print(custoTotal);\n",
        "cost=CustoProcesso(areaTrocadores,areaUtilidade,cargaUF,cargaUQ)\n",
        "print('Custo processo');print(cost);\n",
        "print('cont_uso');print(UsoFuncao)"
      ],
      "execution_count": 12,
      "outputs": [
        {
          "output_type": "stream",
          "text": [
            "estou aqui\n",
            "[18.432008054657363, 12.733140081731566, 6.822363227942191, 9.762672013038838]\n",
            "[0, 0, 0, 0, 0, 0]\n",
            "Custo total\n",
            "82032.57443684274\n",
            "Custo processo\n",
            "82032.57443684274\n",
            "cont_uso\n",
            "[]\n"
          ],
          "name": "stdout"
        },
        {
          "output_type": "stream",
          "text": [
            "/usr/local/lib/python3.6/dist-packages/ipykernel_launcher.py:22: RuntimeWarning: invalid value encountered in true_divide\n"
          ],
          "name": "stderr"
        }
      ]
    },
    {
      "cell_type": "code",
      "metadata": {
        "id": "5qNdVcQ0HmQm",
        "colab_type": "code",
        "outputId": "46a0a588-2fe2-40e4-8af5-011235e63121",
        "colab": {
          "base_uri": "https://localhost:8080/",
          "height": 373
        }
      },
      "source": [
        "UsoFuncao=[]\n",
        "fchoice=FUN\n",
        "result = differential_evolution(fchoice, bounds, maxiter=ITE, popsize=NPAR)\n",
        "print('temperatura atual=',tempAtual)\n",
        "print(result.x, result.fun)\n",
        "print(tempAtual)\n",
        "GBEST=result.x\n",
        "BEST=result.fun\n",
        "matrizTrocaBest,matrizBinaria=MATBEST(GBEST,mCp,tempAtual)\n",
        "matrizGrafico=MATGRAF(matrizTrocaBest,mCp,tempAtual)\n",
        "\n",
        "print('Melhor solução para %d iterações com %d partículas \\n'%(ITE,NPAR));print(GBEST)\n",
        "print('Valor da função f(gbest)=%f \\n'%BEST)\n",
        "print('matriz grafico');print(matrizGrafico)\n",
        "print('cont_uso');print(UsoFuncao)"
      ],
      "execution_count": 13,
      "outputs": [
        {
          "output_type": "stream",
          "text": [
            "/usr/local/lib/python3.6/dist-packages/ipykernel_launcher.py:22: RuntimeWarning: invalid value encountered in true_divide\n"
          ],
          "name": "stderr"
        },
        {
          "output_type": "stream",
          "text": [
            "temperatura atual= [451 395 523 533]\n",
            "[-9.43438156e-01 -2.03491112e+02 -7.32082519e+01 -1.87069662e+02\n",
            " -1.54185443e+02 -2.00782031e+02  5.91001493e-01  2.52993183e-01\n",
            "  2.66807530e-01  2.01078466e-02  2.21105060e-01  4.50130938e-01] 78173.14536403562\n",
            "[451 395 523 533]\n",
            "Melhor solução para 5000 iterações com 50 partículas \n",
            "\n",
            "[-9.43438156e-01 -2.03491112e+02 -7.32082519e+01 -1.87069662e+02\n",
            " -1.54185443e+02 -2.00782031e+02  5.91001493e-01  2.52993183e-01\n",
            "  2.66807530e-01  2.01078466e-02  2.21105060e-01  4.50130938e-01]\n",
            "Valor da função f(gbest)=78173.145364 \n",
            "\n",
            "matriz grafico\n",
            "     0    1    2    3\n",
            "0  446  400  523  533\n",
            "1  446  400  523  533\n",
            "cont_uso\n",
            "[]\n"
          ],
          "name": "stdout"
        }
      ]
    },
    {
      "cell_type": "code",
      "metadata": {
        "id": "FFLGL1pzftiq",
        "colab_type": "code",
        "outputId": "965bdb4b-a241-4033-82b8-677230f9411d",
        "colab": {
          "base_uri": "https://localhost:8080/",
          "height": 196
        }
      },
      "source": [
        "cols=len(mCp)\n",
        "matrizDeltaT,matrizBinaria=buildMatriz(GBEST,cols) # transforma x em matriz logica e troca\n",
        "tempAtual,cargaTermica,erro=Temperatura_Carga(mCp,matrizDeltaT,matrizBinaria,tempInicial)\n",
        "areaTrocadores =Area(U,tempAtual,tempInicial,cargaTermica,matrizDeltaT)\n",
        "\n",
        "print('temperatura inicial');print(tempInicial)\n",
        "print('temperatura alvo');print(tempAlvo)\n",
        "print('temperatura atual');print(tempAtual)\n",
        "print('Area trocadores');print(areaTrocadores)"
      ],
      "execution_count": 14,
      "outputs": [
        {
          "output_type": "stream",
          "text": [
            "temperatura inicial\n",
            "[453, 393, 523, 533]\n",
            "temperatura alvo\n",
            "[513, 508, 403, 433]\n",
            "temperatura atual\n",
            "[452 394 523 533]\n",
            "Area trocadores\n",
            "[nan, 0, 0, 0, 0, 0]\n"
          ],
          "name": "stdout"
        },
        {
          "output_type": "stream",
          "text": [
            "/usr/local/lib/python3.6/dist-packages/ipykernel_launcher.py:22: RuntimeWarning: invalid value encountered in true_divide\n"
          ],
          "name": "stderr"
        }
      ]
    },
    {
      "cell_type": "code",
      "metadata": {
        "id": "-pLfJUMDh1vx",
        "colab_type": "code",
        "outputId": "24dafc33-ca1a-4efe-e9fb-cc5a8398a527",
        "colab": {
          "base_uri": "https://localhost:8080/",
          "height": 88
        }
      },
      "source": [
        "print(cols)\n",
        "print(GBEST)"
      ],
      "execution_count": 15,
      "outputs": [
        {
          "output_type": "stream",
          "text": [
            "4\n",
            "[-9.43438156e-01 -2.03491112e+02 -7.32082519e+01 -1.87069662e+02\n",
            " -1.54185443e+02 -2.00782031e+02  5.91001493e-01  2.52993183e-01\n",
            "  2.66807530e-01  2.01078466e-02  2.21105060e-01  4.50130938e-01]\n"
          ],
          "name": "stdout"
        }
      ]
    },
    {
      "cell_type": "code",
      "metadata": {
        "id": "p_h7HnO3zySn",
        "colab_type": "code",
        "outputId": "2dbb38da-bb00-4845-a164-89d7dfd0ce3b",
        "colab": {
          "base_uri": "https://localhost:8080/",
          "height": 229
        }
      },
      "source": [
        "matrizDeltaT,matrizBinaria=buildMatriz(GBEST,cols) # transforma x em matriz logica e troca\n",
        "print('Matriz de Trocas Térmicas \\n')\n",
        "print(matrizDeltaT)\n",
        "print('Matriz Binária \\n')\n",
        "print(matrizBinaria)"
      ],
      "execution_count": 16,
      "outputs": [
        {
          "output_type": "stream",
          "text": [
            "Matriz de Trocas Térmicas \n",
            "\n",
            "[[   0.           -0.94343816 -203.49111206  -73.20825189]\n",
            " [   0.            0.         -187.06966248 -154.18544314]\n",
            " [   0.            0.            0.         -200.78203087]\n",
            " [   0.            0.            0.            0.        ]]\n",
            "Matriz Binária \n",
            "\n",
            "[[0. 1. 0. 0.]\n",
            " [0. 0. 0. 0.]\n",
            " [0. 0. 0. 0.]\n",
            " [0. 0. 0. 0.]]\n"
          ],
          "name": "stdout"
        }
      ]
    }
  ]
}