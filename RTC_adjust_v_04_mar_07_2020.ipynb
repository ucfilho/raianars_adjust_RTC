{
  "nbformat": 4,
  "nbformat_minor": 0,
  "metadata": {
    "colab": {
      "name": "RTC_adjust_v_04_mar_07_2020.ipynb",
      "provenance": [],
      "collapsed_sections": [],
      "include_colab_link": true
    },
    "kernelspec": {
      "name": "python3",
      "display_name": "Python 3"
    }
  },
  "cells": [
    {
      "cell_type": "markdown",
      "metadata": {
        "id": "view-in-github",
        "colab_type": "text"
      },
      "source": [
        "<a href=\"https://colab.research.google.com/github/ucfilho/raianars_adjust_RTC/blob/master/RTC_adjust_v_04_mar_07_2020.ipynb\" target=\"_parent\"><img src=\"https://colab.research.google.com/assets/colab-badge.svg\" alt=\"Open In Colab\"/></a>"
      ]
    },
    {
      "cell_type": "code",
      "metadata": {
        "id": "wGzR2VpcZHYA",
        "colab_type": "code",
        "colab": {}
      },
      "source": [
        "import pandas as pd\n",
        "from scipy.optimize import differential_evolution\n",
        "import numpy as np"
      ],
      "execution_count": 0,
      "outputs": []
    },
    {
      "cell_type": "code",
      "metadata": {
        "id": "2htdoQZEvKVl",
        "colab_type": "code",
        "colab": {}
      },
      "source": [
        "# Funcoes utilizadas neste codigo\n",
        "# Area(U,tempAtual,tempInicial,...): constroi matriz de areas trocadores \n",
        "#                                    entra duas correntes sendo chamada no loop\n",
        "# buildMatriz(x): constroi a matriz deltaT e binaria (logica de trocas)\n",
        "#\n",
        "# Temperatura(matrizDeltaT,...): constroi as temperaturas e cargas termicas"
      ],
      "execution_count": 0,
      "outputs": []
    },
    {
      "cell_type": "code",
      "metadata": {
        "id": "QH4J60cSP2OX",
        "colab_type": "code",
        "colab": {}
      },
      "source": [
        "def buildMatriz(x):\n",
        "  global Trocas,D  \n",
        "  Ind_I=np.zeros((D,Trocas)).astype(np.int64)\n",
        "  Ind_J=np.zeros((D,Trocas)).astype(np.int64)\n",
        "  deltaT=np.zeros((D,Trocas))\n",
        "  for i in range(D):\n",
        "    for j in range(Trocas):\n",
        "      Ind_I[i,j]=round(x[i,j])\n",
        "      Ind_J[i,j]=round(x[i,j+Trocas])\n",
        "      deltaT[i,j]=x[i,j+2*Trocas] \n",
        "  return Ind_I,Ind_J,deltaT"
      ],
      "execution_count": 0,
      "outputs": []
    },
    {
      "cell_type": "code",
      "metadata": {
        "id": "Ha_XxG-tT7yB",
        "colab_type": "code",
        "colab": {}
      },
      "source": [
        "#def Temperatura_Carga(mCp,matrizDeltaT,matrizBinaria,tempInicial):\n",
        "def Temperatura_Carga(mCp,Ind_I,Ind_J,deltaT,tempInicial):\n",
        "  global Trocas,D\n",
        "  # cols=len(mCp)\n",
        "  # i represent hot stream  and j represent cold stream \n",
        "  # k represent sequential heat exchanges\n",
        "  cargaTermica=np.zeros((Trocas))\n",
        "  contador=0\n",
        "  cont_uso=0\n",
        "  tempAtual=np.copy(tempInicial)\n",
        "  erro=np.zeros((D)) # valor erro se torna erro=1 quando ha algum erro e vai penalizar\n",
        "  for ki in range(D):\n",
        "    for kj in range(Trocas):\n",
        "      k=kj\n",
        "      i=Ind_I[ki,kj]\n",
        "      j=Ind_J[ki,kj]\n",
        "      print('=================')\n",
        "      print(i,j)\n",
        "      print('mCp[i]',mCp[i])\n",
        "      print(deltaT[ki,kj])\n",
        "      cargaTermica[k]=mCp[i]*deltaT[ki,kj]\n",
        "      tempSaidaQ=tempInicial[i]+deltaT[k]\n",
        "      tempSaidaF=-cargaTermica[k]/(mCp[j])+tempAtual[j]\n",
        "      flag=0 # flag : indica que nao entra no teste logico\n",
        "      # usei flag no lugar q ifs pq a identacao ficou melhor assim\n",
        "      if(tempAtual[ki,i] > tempAtual[ki,j]): #Tquente maior Tfria: vaores atuais\n",
        "        if(tempSaidaQ > tempSaidaF): #Tquente maior Tfria: saidas\n",
        "          if(contador < cols):\n",
        "            flag=1\n",
        "            \n",
        "      if(flag>0):\n",
        "        tempAtual[i]=tempSaidaQ\n",
        "        tempAtual[j]=tempSaidaF\n",
        "      else:\n",
        "        erro[ki]=1\n",
        "\n",
        "\n",
        "  return tempAtual,cargaTermica,erro"
      ],
      "execution_count": 0,
      "outputs": []
    },
    {
      "cell_type": "code",
      "metadata": {
        "id": "_fKh1jXRcAOr",
        "colab_type": "code",
        "colab": {}
      },
      "source": [
        "def Area(U,tempAtual,tempInicial,Ind_I,Ind_J,deltaT):\n",
        "  global Trocas,mCp,D\n",
        "  \n",
        "  Area=[]\n",
        "  for ki in range(D):\n",
        "    for kj in range(Trocas):\n",
        "      k=ki\n",
        "      i=int(Ind_I[ki,kj])\n",
        "      j=int(Ind_J[ki,kj])\n",
        "      Carga=mCp[k]*deltaT[k]\n",
        "      tempSaidaF=tempAtual[j]\n",
        "      tempSaidaQ=tempAtual[i]\n",
        "      deltaT1=tempInicial[i]-tempSaidaF\n",
        "      deltaT2=tempSaidaQ-tempInicial[j]\n",
        "      try:\n",
        "        A=(deltaT1-deltaT2)\n",
        "        B=np.log((deltaT1/deltaT2))\n",
        "        deltaTMediaLog=A/B\n",
        "      except:\n",
        "        deltaTMediaLog=1e99\n",
        "  \n",
        "      if(deltaTMediaLog==1e99):\n",
        "        AreaCalc=1e99\n",
        "      else:\n",
        "        AreaCalc=abs(Carga/(U*deltaTMediaLog))\n",
        "\n",
        "      if(tempAtual[i]==tempInicial[i]):\n",
        "            AreaCalc=0\n",
        "\n",
        "      if(tempAtual[j]==tempInicial[j]):\n",
        "        AreaCalc=0\n",
        "            \n",
        "      Area.append(AreaCalc)\n",
        "\n",
        "  return Area"
      ],
      "execution_count": 0,
      "outputs": []
    },
    {
      "cell_type": "code",
      "metadata": {
        "id": "oJ7p1UbEHs4c",
        "colab_type": "code",
        "colab": {}
      },
      "source": [
        "def Utilidades(tempAlvo,tempAtual,mCp):\n",
        "\n",
        "  cols=len(mCp)\n",
        "  cargaUQ=0\n",
        "  cargaUF=0\n",
        "  \n",
        "  '''\n",
        "  caso I cita TUQin=553 e TQout=552, TUFin=303 TUFout=353\n",
        "  '''\n",
        "  \n",
        "  TUQin=553\n",
        "  TUQout=552\n",
        "  TUFin=303 \n",
        "  TUFout=353\n",
        "  areaTrocador=[]\n",
        "\n",
        "  for j in range(cols): \n",
        "    delta=tempAlvo[j]-tempAtual[j]\n",
        "    if(delta>0):#usa UQ\n",
        "      cargaUQ=cargaUQ+mCp[j]*delta\n",
        "      deltaT1=(TUQin-tempAlvo[j])\n",
        "      deltaT2=(TUQout-tempAtual[j])\n",
        "\n",
        "      try:\n",
        "        A=deltaT1-deltaT2\n",
        "        B=np.log(deltaT1/deltaT2)\n",
        "        deltaTMediaLog=A/B\n",
        "      except:\n",
        "        deltaTMediaLog=1e99\n",
        "\n",
        "      if(deltaTMediaLog==1e99):\n",
        "        areaTrocador.append(1e99)\n",
        "      else:\n",
        "        areaTrocador.append((abs(mCp[j]*(delta)/(U*deltaTMediaLog))))\n",
        "\n",
        "    elif(delta==0):#nao usa UF e UQ\n",
        "      deltaTMediaLog=0\n",
        "      areaTrocador.append(0) \n",
        "\n",
        "    else:#usa UF\n",
        "      deltaT1=(tempAtual[j]-TUFout)\n",
        "      deltaT2=(tempAlvo[j]-TUFin)     \n",
        "      cargaUF=cargaUF+mCp[j]*(-delta)\n",
        "\n",
        "      #UF -> água resfriada -> entra a 303K e sai a 353K\n",
        "      try:\n",
        "        A=deltaT1-deltaT2\n",
        "        B=np.log(deltaT1/deltaT2)\n",
        "        deltaTMediaLog=A/B\n",
        "      except:\n",
        "        deltaTMediaLog=1e99\n",
        "      \n",
        "      if(deltaTMediaLog==1e99):\n",
        "        areaTrocador.append(1e99)\n",
        "      else:\n",
        "        areaTrocador.append((abs(mCp[j]*(-delta)/(U*deltaTMediaLog))))\n",
        "\n",
        "  return areaTrocador, cargaUF,cargaUQ \n",
        "  # areaTrocador contem a soma das areas\n",
        "  # Trocadores a area associada a cada corrente\n",
        "  # cargaUF e cargaUQ kW gasto"
      ],
      "execution_count": 0,
      "outputs": []
    },
    {
      "cell_type": "code",
      "metadata": {
        "id": "_vAVl672mXZb",
        "colab_type": "code",
        "colab": {}
      },
      "source": [
        "def CustoProcesso(areaTrocadores,areaUtilidades,cargaUF,cargaUQ):\n",
        "  global coefCustoUQ,coefCustoUF\n",
        "  costTrocadores=0\n",
        "  for it in areaTrocadores:\n",
        "    for wii in areaUtilidades:\n",
        "      if(it<1e99):\n",
        "        if(wii<1e99):\n",
        "          costTrocadores=costTrocadores+300*(it**0.5+wii**0.5)\n",
        "        else:\n",
        "          costTrocadores=1e99\n",
        "          break\n",
        "        \n",
        "  costUQ=coefCustoUQ*cargaUQ\n",
        "  costUF=coefCustoUF*cargaUF\n",
        "\n",
        "  if(costTrocadores==1e99):\n",
        "    cost=1e99\n",
        "  else:\n",
        "    cost=costUQ+costUF+costTrocadores\n",
        "  return cost"
      ],
      "execution_count": 0,
      "outputs": []
    },
    {
      "cell_type": "code",
      "metadata": {
        "id": "lmPfZ7arakM1",
        "colab_type": "code",
        "colab": {}
      },
      "source": [
        "#FUN calcula o TAC para um determinado arranjo\n",
        "#  cada calculo é feito em uma funcao a parte Fun usa todas funcoes \n",
        "\n",
        "def FUN(x):\n",
        "\n",
        "  # global mCp,tempAtual,tempAlvo,U,coefCustoUQ,coefCustoUF\n",
        "  global mCp,tempAtual,tempAlvo,tempInicial,U,coefCustoUQ,coefCustoUF\n",
        "  global D\n",
        "  \n",
        "  funr=np.zeros((D))\n",
        "\n",
        "\n",
        "  cols=len(mCp)\n",
        "  Ind_I,Ind_J,deltaT=buildMatriz(x) # transforma x em matriz logica e troca\n",
        "  tempAtual,Carga,Erro=Temperatura_Carga(mCp,Ind_I,Ind_J,deltaT,tempInicial)\n",
        "  areaTrocadores =Area(U,tempAtual,tempInicial,Ind_I,Ind_J,deltaT)\n",
        "  areaUtilidade, cargaUF,cargaUQ = Utilidades(tempAlvo,tempAtual,mCp)\n",
        "  cost=CustoProcesso(areaTrocadores,areaUtilidade,cargaUF,cargaUQ)\n",
        "  funr=cost\n",
        "\n",
        "  for k in range(D):\n",
        "    if(Erro[k]>0):\n",
        "      funr[k]=1e99\n",
        "\n",
        "  funr = np.where(np.isnan(cost), 1e99, cost)\n",
        "\n",
        "  return funr"
      ],
      "execution_count": 0,
      "outputs": []
    },
    {
      "cell_type": "code",
      "metadata": {
        "id": "Dt6anZvATxzg",
        "colab_type": "code",
        "colab": {}
      },
      "source": [
        "#********************PROGRAMA PRINCIPAL*************************\n",
        "\n",
        "NPAR=50 #Número de partículas\n",
        "ITE=5000 #Número de iterações\n",
        "PAR=12 #Número de parâmetros a ser otimizados\n",
        "\n",
        "MAX=[0,0,0,0,0,0,1,1,1,1,1,1]\n",
        "MIN=[-300,-300,-300,-300,-300,-300,0,0,0,0,0,0]\n",
        "mCp=[4,2,1.5,3] #[kW/K]\n",
        "tempInicial=[453,393,523,533] #[K]\n",
        "#tempAtual=[453,393,523,533] #[K]\n",
        "tempAlvo=[513,508,403,433] #[K]\n",
        "U=0.2 #[kW/(m2.K)]\n",
        "\n",
        "coefCustoUQ=110 #[$/(kW.ano)]\n",
        "coefCustoUF=12.2 #[$/(kW.ano)]\n",
        "\n",
        "bounds = []\n",
        "for i in range(12):\n",
        "  bounds.append((MAX[i],MIN[i]))\n",
        "\n"
      ],
      "execution_count": 0,
      "outputs": []
    },
    {
      "cell_type": "code",
      "metadata": {
        "id": "e0lgbNqkLj4v",
        "colab_type": "code",
        "colab": {
          "base_uri": "https://localhost:8080/",
          "height": 269
        },
        "outputId": "c1ed8e80-d453-4f8c-af64-56409691e7ae"
      },
      "source": [
        "#MAX=[0,0,0,0,0,0,1,1,1,1,1,1]\n",
        "#MIN=[-300,-300,-300,-300,-300,-300,0.3,0.3,0.3,0.3,0.3,0.3]\n",
        "Trocas=4\n",
        "\n",
        "D=5\n",
        "\n",
        "cols=Trocas*3 # tres linhas i,j,deltaT\n",
        "MAX=np.zeros((cols))\n",
        "MIN=np.zeros((cols))\n",
        "\n",
        "for k in range(cols):\n",
        "  if(k>(Trocas*2-1)):\n",
        "    MIN[k]=-100\n",
        "  else:\n",
        "    MAX[k]=(Trocas-1)\n",
        "\n",
        "x=np.zeros((D,cols))\n",
        "\n",
        "for i in range(D):\n",
        "  for j in range(cols):\n",
        "    r=np.random.random()\n",
        "    x[i,j]=r*(MAX[j]-MIN[j])+MIN[j]\n",
        "\n",
        "Ind_I=np.zeros((Trocas))\n",
        "Ind_J=np.zeros((Trocas))\n",
        "deltaT=np.zeros((Trocas))\n",
        "for i in range(D):\n",
        "  for j in range(Trocas):\n",
        "    Ind_I[j]=round(x[i,j])\n",
        "    Ind_J[j]=round(x[i,j+Trocas])\n",
        "    deltaT[j]=x[i,j+2*Trocas]\n",
        "\n",
        "print(x)\n",
        "\n"
      ],
      "execution_count": 10,
      "outputs": [
        {
          "output_type": "stream",
          "text": [
            "[[ 2.21031944e+00  9.89652187e-01  1.00579538e+00  1.44445487e+00\n",
            "   1.63648808e+00  2.37673513e+00  1.19712493e+00  9.79155873e-01\n",
            "  -8.34534690e+01 -6.34604556e+01 -6.88745301e+01 -1.58688481e+01]\n",
            " [ 1.53372457e+00  1.11795697e+00  2.51723425e-02  5.34421139e-01\n",
            "   2.40925979e+00  2.27305107e+00  2.49419373e+00  2.17010901e+00\n",
            "  -3.65340833e+01 -4.61621334e+01 -6.22792713e+01 -6.08136904e+01]\n",
            " [ 1.04137352e+00  2.16688515e+00  1.53759664e+00  2.20857779e+00\n",
            "   3.85109653e-01  1.02648885e+00  1.44181306e+00  2.87504548e+00\n",
            "  -6.09576292e+01 -3.81675166e+01 -3.21612016e+01 -9.59706663e+00]\n",
            " [ 1.76978429e+00  9.77795972e-01  2.59790372e+00  1.63009190e+00\n",
            "   1.95776620e+00  2.04124791e+00  1.24392527e+00  8.02074504e-01\n",
            "  -5.39569248e+01 -6.75999915e+01 -2.50244704e+01 -9.75359894e+00]\n",
            " [ 7.13769300e-01  1.62681432e+00  4.14665561e-01  2.88920052e+00\n",
            "   1.71408386e+00  1.67493226e+00  2.17616953e+00  1.73492802e-01\n",
            "  -9.58625787e+01 -2.24649091e+01 -3.02716161e+01 -3.89995347e+01]]\n"
          ],
          "name": "stdout"
        }
      ]
    },
    {
      "cell_type": "code",
      "metadata": {
        "id": "l0UEz-Zb5D8g",
        "colab_type": "code",
        "colab": {
          "base_uri": "https://localhost:8080/",
          "height": 269
        },
        "outputId": "c9283c5a-ed90-42bf-a5da-04a69d2a872e"
      },
      "source": [
        "Ind_I,Ind_J,deltaT=buildMatriz(x) # transforma x em matriz logica e troca\n",
        "print(Ind_I)\n",
        "print(Ind_J)\n",
        "print(deltaT)"
      ],
      "execution_count": 11,
      "outputs": [
        {
          "output_type": "stream",
          "text": [
            "[[2 1 1 1]\n",
            " [2 1 0 1]\n",
            " [1 2 2 2]\n",
            " [2 1 3 2]\n",
            " [1 2 0 3]]\n",
            "[[2 2 1 1]\n",
            " [2 2 2 2]\n",
            " [0 1 1 3]\n",
            " [2 2 1 1]\n",
            " [2 2 2 0]]\n",
            "[[-83.45346897 -63.46045562 -68.87453006 -15.86884809]\n",
            " [-36.53408332 -46.16213342 -62.27927126 -60.81369043]\n",
            " [-60.95762925 -38.16751658 -32.16120159  -9.59706663]\n",
            " [-53.95692483 -67.59999153 -25.02447036  -9.75359894]\n",
            " [-95.86257874 -22.46490914 -30.27161613 -38.9995347 ]]\n"
          ],
          "name": "stdout"
        }
      ]
    },
    {
      "cell_type": "code",
      "metadata": {
        "id": "Urw8muuARkrL",
        "colab_type": "code",
        "outputId": "7a51f182-d040-49ec-ce3d-4ad86166e8e7",
        "colab": {
          "base_uri": "https://localhost:8080/",
          "height": 404
        }
      },
      "source": [
        "\n",
        "Custo=FUN(x)\n",
        "print(Custo)\n"
      ],
      "execution_count": 12,
      "outputs": [
        {
          "output_type": "stream",
          "text": [
            "=================\n",
            "2 2\n",
            "mCp[i] 1.5\n",
            "-83.45346897317313\n"
          ],
          "name": "stdout"
        },
        {
          "output_type": "error",
          "ename": "IndexError",
          "evalue": "ignored",
          "traceback": [
            "\u001b[0;31m---------------------------------------------------------------------------\u001b[0m",
            "\u001b[0;31mIndexError\u001b[0m                                Traceback (most recent call last)",
            "\u001b[0;32m<ipython-input-12-517cb29dd668>\u001b[0m in \u001b[0;36m<module>\u001b[0;34m()\u001b[0m\n\u001b[1;32m      1\u001b[0m \u001b[0;34m\u001b[0m\u001b[0m\n\u001b[0;32m----> 2\u001b[0;31m \u001b[0mCusto\u001b[0m\u001b[0;34m=\u001b[0m\u001b[0mFUN\u001b[0m\u001b[0;34m(\u001b[0m\u001b[0mx\u001b[0m\u001b[0;34m)\u001b[0m\u001b[0;34m\u001b[0m\u001b[0;34m\u001b[0m\u001b[0m\n\u001b[0m\u001b[1;32m      3\u001b[0m \u001b[0mprint\u001b[0m\u001b[0;34m(\u001b[0m\u001b[0mCusto\u001b[0m\u001b[0;34m)\u001b[0m\u001b[0;34m\u001b[0m\u001b[0;34m\u001b[0m\u001b[0m\n",
            "\u001b[0;32m<ipython-input-8-9d22e83bcdc2>\u001b[0m in \u001b[0;36mFUN\u001b[0;34m(x)\u001b[0m\n\u001b[1;32m     11\u001b[0m   \u001b[0mcols\u001b[0m\u001b[0;34m=\u001b[0m\u001b[0mlen\u001b[0m\u001b[0;34m(\u001b[0m\u001b[0mmCp\u001b[0m\u001b[0;34m)\u001b[0m\u001b[0;34m\u001b[0m\u001b[0;34m\u001b[0m\u001b[0m\n\u001b[1;32m     12\u001b[0m   \u001b[0mInd_I\u001b[0m\u001b[0;34m,\u001b[0m\u001b[0mInd_J\u001b[0m\u001b[0;34m,\u001b[0m\u001b[0mdeltaT\u001b[0m\u001b[0;34m=\u001b[0m\u001b[0mbuildMatriz\u001b[0m\u001b[0;34m(\u001b[0m\u001b[0mx\u001b[0m\u001b[0;34m)\u001b[0m \u001b[0;31m# transforma x em matriz logica e troca\u001b[0m\u001b[0;34m\u001b[0m\u001b[0;34m\u001b[0m\u001b[0m\n\u001b[0;32m---> 13\u001b[0;31m   \u001b[0mtempAtual\u001b[0m\u001b[0;34m,\u001b[0m\u001b[0mCarga\u001b[0m\u001b[0;34m,\u001b[0m\u001b[0mErro\u001b[0m\u001b[0;34m=\u001b[0m\u001b[0mTemperatura_Carga\u001b[0m\u001b[0;34m(\u001b[0m\u001b[0mmCp\u001b[0m\u001b[0;34m,\u001b[0m\u001b[0mInd_I\u001b[0m\u001b[0;34m,\u001b[0m\u001b[0mInd_J\u001b[0m\u001b[0;34m,\u001b[0m\u001b[0mdeltaT\u001b[0m\u001b[0;34m,\u001b[0m\u001b[0mtempInicial\u001b[0m\u001b[0;34m)\u001b[0m\u001b[0;34m\u001b[0m\u001b[0;34m\u001b[0m\u001b[0m\n\u001b[0m\u001b[1;32m     14\u001b[0m   \u001b[0mareaTrocadores\u001b[0m \u001b[0;34m=\u001b[0m\u001b[0mArea\u001b[0m\u001b[0;34m(\u001b[0m\u001b[0mU\u001b[0m\u001b[0;34m,\u001b[0m\u001b[0mtempAtual\u001b[0m\u001b[0;34m,\u001b[0m\u001b[0mtempInicial\u001b[0m\u001b[0;34m,\u001b[0m\u001b[0mInd_I\u001b[0m\u001b[0;34m,\u001b[0m\u001b[0mInd_J\u001b[0m\u001b[0;34m,\u001b[0m\u001b[0mdeltaT\u001b[0m\u001b[0;34m)\u001b[0m\u001b[0;34m\u001b[0m\u001b[0;34m\u001b[0m\u001b[0m\n\u001b[1;32m     15\u001b[0m   \u001b[0mareaUtilidade\u001b[0m\u001b[0;34m,\u001b[0m \u001b[0mcargaUF\u001b[0m\u001b[0;34m,\u001b[0m\u001b[0mcargaUQ\u001b[0m \u001b[0;34m=\u001b[0m \u001b[0mUtilidades\u001b[0m\u001b[0;34m(\u001b[0m\u001b[0mtempAlvo\u001b[0m\u001b[0;34m,\u001b[0m\u001b[0mtempAtual\u001b[0m\u001b[0;34m,\u001b[0m\u001b[0mmCp\u001b[0m\u001b[0;34m)\u001b[0m\u001b[0;34m\u001b[0m\u001b[0;34m\u001b[0m\u001b[0m\n",
            "\u001b[0;32m<ipython-input-4-c765a304f102>\u001b[0m in \u001b[0;36mTemperatura_Carga\u001b[0;34m(mCp, Ind_I, Ind_J, deltaT, tempInicial)\u001b[0m\n\u001b[1;32m     23\u001b[0m       \u001b[0mflag\u001b[0m\u001b[0;34m=\u001b[0m\u001b[0;36m0\u001b[0m \u001b[0;31m# flag : indica que nao entra no teste logico\u001b[0m\u001b[0;34m\u001b[0m\u001b[0;34m\u001b[0m\u001b[0m\n\u001b[1;32m     24\u001b[0m       \u001b[0;31m# usei flag no lugar q ifs pq a identacao ficou melhor assim\u001b[0m\u001b[0;34m\u001b[0m\u001b[0;34m\u001b[0m\u001b[0;34m\u001b[0m\u001b[0m\n\u001b[0;32m---> 25\u001b[0;31m       \u001b[0;32mif\u001b[0m\u001b[0;34m(\u001b[0m\u001b[0mtempAtual\u001b[0m\u001b[0;34m[\u001b[0m\u001b[0mki\u001b[0m\u001b[0;34m,\u001b[0m\u001b[0mi\u001b[0m\u001b[0;34m]\u001b[0m \u001b[0;34m>\u001b[0m \u001b[0mtempAtual\u001b[0m\u001b[0;34m[\u001b[0m\u001b[0mki\u001b[0m\u001b[0;34m,\u001b[0m\u001b[0mj\u001b[0m\u001b[0;34m]\u001b[0m\u001b[0;34m)\u001b[0m\u001b[0;34m:\u001b[0m \u001b[0;31m#Tquente maior Tfria: vaores atuais\u001b[0m\u001b[0;34m\u001b[0m\u001b[0;34m\u001b[0m\u001b[0m\n\u001b[0m\u001b[1;32m     26\u001b[0m         \u001b[0;32mif\u001b[0m\u001b[0;34m(\u001b[0m\u001b[0mtempSaidaQ\u001b[0m \u001b[0;34m>\u001b[0m \u001b[0mtempSaidaF\u001b[0m\u001b[0;34m)\u001b[0m\u001b[0;34m:\u001b[0m \u001b[0;31m#Tquente maior Tfria: saidas\u001b[0m\u001b[0;34m\u001b[0m\u001b[0;34m\u001b[0m\u001b[0m\n\u001b[1;32m     27\u001b[0m           \u001b[0;32mif\u001b[0m\u001b[0;34m(\u001b[0m\u001b[0mcontador\u001b[0m \u001b[0;34m<\u001b[0m \u001b[0mcols\u001b[0m\u001b[0;34m)\u001b[0m\u001b[0;34m:\u001b[0m\u001b[0;34m\u001b[0m\u001b[0;34m\u001b[0m\u001b[0m\n",
            "\u001b[0;31mIndexError\u001b[0m: too many indices for array"
          ]
        }
      ]
    },
    {
      "cell_type": "code",
      "metadata": {
        "id": "DGY_Kzf4Kxd4",
        "colab_type": "code",
        "colab": {}
      },
      "source": [
        "print(FUN(x))"
      ],
      "execution_count": 0,
      "outputs": []
    },
    {
      "cell_type": "code",
      "metadata": {
        "id": "lsttwtFiJnH3",
        "colab_type": "code",
        "colab": {}
      },
      "source": [
        "print(x)"
      ],
      "execution_count": 0,
      "outputs": []
    },
    {
      "cell_type": "code",
      "metadata": {
        "id": "_4ByEGWbnrdS",
        "colab_type": "code",
        "colab": {}
      },
      "source": [
        "cols=len(mCp)\n",
        "UsoFuncao=[]\n",
        "x=[-99.214722,59.99994,146.225,4.2108538,15.99999,0, 0.9500049,1, 1,0.9103451, 1,0.4786627]\n",
        "matrizDeltaT,matrizBinaria=buildMatriz(x) # transforma x em matriz logica e troca\n",
        "tempAtual,Carga,Erro=Temperatura_Carga(mCp,matrizDeltaT,matrizBinaria,tempInicial)\n",
        "areaTrocadores =Area(U,tempAtual,tempInicial,Carga,matrizDeltaT)\n",
        "areaUtilidade, cargaUF,cargaUQ = Utilidades(tempAlvo,tempAtual,mCp)\n",
        "print('estou aqui');print(areaUtilidade);print(areaTrocadores)\n",
        "custoTotal=CustoProcesso(areaTrocadores,areaUtilidade,cargaUF,cargaUQ)\n",
        "print('Custo total');print(custoTotal);\n",
        "cost=CustoProcesso(areaTrocadores,areaUtilidade,cargaUF,cargaUQ)\n",
        "print('Custo processo');print(cost);\n",
        "print('cont_uso');print(UsoFuncao)"
      ],
      "execution_count": 0,
      "outputs": []
    },
    {
      "cell_type": "code",
      "metadata": {
        "id": "5qNdVcQ0HmQm",
        "colab_type": "code",
        "colab": {}
      },
      "source": [
        "UsoFuncao=[]\n",
        "fchoice=FUN\n",
        "result = differential_evolution(fchoice, bounds, maxiter=ITE, popsize=NPAR)\n",
        "print('temperatura atual=',tempAtual)\n",
        "print(result.x, result.fun)\n",
        "print(tempAtual)\n",
        "GBEST=result.x\n",
        "BEST=result.fun\n",
        "matrizTrocaBest,matrizBinaria=MATBEST(GBEST,mCp,tempAtual)\n",
        "matrizGrafico=MATGRAF(matrizTrocaBest,mCp,tempAtual)\n",
        "\n",
        "print('Melhor solução para %d iterações com %d partículas \\n'%(ITE,NPAR));print(GBEST)\n",
        "print('Valor da função f(gbest)=%f \\n'%BEST)\n",
        "print('matriz grafico');print(matrizGrafico)\n",
        "print('cont_uso');print(UsoFuncao)"
      ],
      "execution_count": 0,
      "outputs": []
    },
    {
      "cell_type": "code",
      "metadata": {
        "id": "FFLGL1pzftiq",
        "colab_type": "code",
        "colab": {}
      },
      "source": [
        "cols=len(mCp)\n",
        "matrizDeltaT,matrizBinaria=buildMatriz(GBEST,cols) # transforma x em matriz logica e troca\n",
        "tempAtual,cargaTermica,erro=Temperatura_Carga(mCp,matrizDeltaT,matrizBinaria,tempInicial)\n",
        "areaTrocadores =Area(U,tempAtual,tempInicial,cargaTermica,matrizDeltaT)\n",
        "\n",
        "print('temperatura inicial');print(tempInicial)\n",
        "print('temperatura alvo');print(tempAlvo)\n",
        "print('temperatura atual');print(tempAtual)\n",
        "print('Area trocadores');print(areaTrocadores)"
      ],
      "execution_count": 0,
      "outputs": []
    },
    {
      "cell_type": "code",
      "metadata": {
        "id": "-pLfJUMDh1vx",
        "colab_type": "code",
        "colab": {}
      },
      "source": [
        "print(cols)\n",
        "print(GBEST)"
      ],
      "execution_count": 0,
      "outputs": []
    },
    {
      "cell_type": "code",
      "metadata": {
        "id": "p_h7HnO3zySn",
        "colab_type": "code",
        "colab": {}
      },
      "source": [
        "matrizDeltaT,matrizBinaria=buildMatriz(GBEST,cols) # transforma x em matriz logica e troca\n",
        "print('Matriz de Trocas Térmicas \\n')\n",
        "print(matrizDeltaT)\n",
        "print('Matriz Binária \\n')\n",
        "print(matrizBinaria)"
      ],
      "execution_count": 0,
      "outputs": []
    }
  ]
}