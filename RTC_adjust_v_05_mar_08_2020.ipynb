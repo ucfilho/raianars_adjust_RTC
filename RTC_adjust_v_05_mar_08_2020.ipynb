{
  "nbformat": 4,
  "nbformat_minor": 0,
  "metadata": {
    "colab": {
      "name": "RTC_adjust_v_05_mar_08_2020.ipynb",
      "provenance": [],
      "collapsed_sections": [],
      "include_colab_link": true
    },
    "kernelspec": {
      "name": "python3",
      "display_name": "Python 3"
    }
  },
  "cells": [
    {
      "cell_type": "markdown",
      "metadata": {
        "id": "view-in-github",
        "colab_type": "text"
      },
      "source": [
        "<a href=\"https://colab.research.google.com/github/ucfilho/raianars_adjust_RTC/blob/master/RTC_adjust_v_05_mar_08_2020.ipynb\" target=\"_parent\"><img src=\"https://colab.research.google.com/assets/colab-badge.svg\" alt=\"Open In Colab\"/></a>"
      ]
    },
    {
      "cell_type": "code",
      "metadata": {
        "id": "wGzR2VpcZHYA",
        "colab_type": "code",
        "colab": {}
      },
      "source": [
        "import pandas as pd\n",
        "from scipy.optimize import differential_evolution\n",
        "import numpy as np"
      ],
      "execution_count": 0,
      "outputs": []
    },
    {
      "cell_type": "code",
      "metadata": {
        "id": "2htdoQZEvKVl",
        "colab_type": "code",
        "colab": {}
      },
      "source": [
        "# Funcoes utilizadas neste codigo\n",
        "# Area(U,tempAtual,tempInicial,...): constroi matriz de areas trocadores \n",
        "#                                    entra duas correntes sendo chamada no loop\n",
        "# buildMatriz(x): constroi a matriz deltaT e binaria (logica de trocas)\n",
        "#\n",
        "# Temperatura(matrizDeltaT,...): constroi as temperaturas e cargas termicas"
      ],
      "execution_count": 0,
      "outputs": []
    },
    {
      "cell_type": "code",
      "metadata": {
        "id": "QH4J60cSP2OX",
        "colab_type": "code",
        "colab": {}
      },
      "source": [
        "def buildMatriz(x):\n",
        "  global Trocas,D, tempInicial, tempAtual \n",
        "  cols=len(tempInicial) \n",
        "  Ind_I=np.zeros((D,Trocas)).astype(np.int64)\n",
        "  Ind_J=np.zeros((D,Trocas)).astype(np.int64)\n",
        "  Tin=np.zeros((D,Trocas))\n",
        "  Tout=np.zeros((D,Trocas))\n",
        "  deltaT=np.zeros((D,Trocas))\n",
        "  for i in range(D):\n",
        "    for j in range(Trocas):\n",
        "      Ind_I[i,j]=round(x[i,j])\n",
        "      Ind_J[i,j]=round(x[i,j+Trocas])\n",
        "      deltaT[i,j]=x[i,j+2*Trocas] \n",
        "    for jj in range(cols):\n",
        "      Tin[i,jj]=tempInicial[jj]\n",
        "      Tout[i,jj]=tempAtual[jj]\n",
        "  return Ind_I,Ind_J,deltaT, Tin, Tout"
      ],
      "execution_count": 0,
      "outputs": []
    },
    {
      "cell_type": "code",
      "metadata": {
        "id": "Ha_XxG-tT7yB",
        "colab_type": "code",
        "colab": {}
      },
      "source": [
        "#def Temperatura_Carga(mCp,matrizDeltaT,matrizBinaria,tempInicial):\n",
        "def Temperatura_Carga(mCp,Ind_I,Ind_J,deltaT,tempInicial,tempAtual):\n",
        "  global Trocas,D\n",
        "  # cols=len(mCp)\n",
        "  # i represent hot stream  and j represent cold stream \n",
        "  # k represent sequential heat exchanges\n",
        "  cargaTermica=np.zeros((Trocas))\n",
        "  contador=0\n",
        "  cont_uso=0\n",
        "  erro=np.zeros((D)) # valor erro se torna erro=1 quando ha algum erro e vai penalizar\n",
        "  for ki in range(D):\n",
        "    for kj in range(Trocas):\n",
        "      k=kj\n",
        "      i=Ind_I[ki,kj]\n",
        "      j=Ind_J[ki,kj]\n",
        "      print('=================')\n",
        "      print(i,j)\n",
        "      print('mCp[i]',mCp[i])\n",
        "      print(deltaT[ki,kj])\n",
        "      cargaTermica[k]=mCp[i]*deltaT[ki,kj]\n",
        "      tempSaidaQ=tempInicial[ki,i]+deltaT[ki,kj]\n",
        "      tempSaidaF=-cargaTermica[k]/(mCp[j])+tempAtual[ki,j]\n",
        "      flag=0 # flag : indica que nao entra no teste logico\n",
        "      # usei flag no lugar q ifs pq a identacao ficou melhor assim\n",
        "      if(Tin[ki,i] > Tin[ki,j]): #Tquente maior Tfria: vaores atuais\n",
        "        if(tempSaidaQ > tempSaidaF): #Tquente maior Tfria: saidas\n",
        "          if(contador < cols):\n",
        "            flag=1\n",
        "            \n",
        "      if(flag>0):\n",
        "        tempAtual[i]=tempSaidaQ\n",
        "        tempAtual[j]=tempSaidaF\n",
        "      else:\n",
        "        erro[ki]=1\n",
        "\n",
        "\n",
        "  return tempAtual,cargaTermica,erro"
      ],
      "execution_count": 0,
      "outputs": []
    },
    {
      "cell_type": "code",
      "metadata": {
        "id": "_fKh1jXRcAOr",
        "colab_type": "code",
        "colab": {}
      },
      "source": [
        "def Area(U,tempAtual,tempInicial,Ind_I,Ind_J,deltaT):\n",
        "  global Trocas,mCp,D\n",
        "  \n",
        "  Area=[]\n",
        "  for ki in range(D):\n",
        "    for kj in range(Trocas):\n",
        "      k=ki\n",
        "      i=int(Ind_I[ki,kj])\n",
        "      j=int(Ind_J[ki,kj])\n",
        "      Carga=mCp[k]*deltaT[k]\n",
        "      tempSaidaF=tempAtual[j]\n",
        "      tempSaidaQ=tempAtual[i]\n",
        "      deltaT1=tempInicial[i]-tempSaidaF\n",
        "      deltaT2=tempSaidaQ-tempInicial[j]\n",
        "      try:\n",
        "        A=(deltaT1-deltaT2)\n",
        "        B=np.log((deltaT1/deltaT2))\n",
        "        deltaTMediaLog=A/B\n",
        "      except:\n",
        "        deltaTMediaLog=1e99\n",
        "  \n",
        "      if(deltaTMediaLog==1e99):\n",
        "        AreaCalc=1e99\n",
        "      else:\n",
        "        AreaCalc=abs(Carga/(U*deltaTMediaLog))\n",
        "\n",
        "      if(tempAtual[i]==tempInicial[i]):\n",
        "            AreaCalc=0\n",
        "\n",
        "      if(tempAtual[j]==tempInicial[j]):\n",
        "        AreaCalc=0\n",
        "            \n",
        "      Area.append(AreaCalc)\n",
        "\n",
        "  return Area"
      ],
      "execution_count": 0,
      "outputs": []
    },
    {
      "cell_type": "code",
      "metadata": {
        "id": "oJ7p1UbEHs4c",
        "colab_type": "code",
        "colab": {}
      },
      "source": [
        "def Utilidades(tempAlvo,tempAtual,mCp):\n",
        "\n",
        "  cols=len(mCp)\n",
        "  cargaUQ=0\n",
        "  cargaUF=0\n",
        "  \n",
        "  '''\n",
        "  caso I cita TUQin=553 e TQout=552, TUFin=303 TUFout=353\n",
        "  '''\n",
        "  \n",
        "  TUQin=553\n",
        "  TUQout=552\n",
        "  TUFin=303 \n",
        "  TUFout=353\n",
        "  areaTrocador=[]\n",
        "\n",
        "  for j in range(cols): \n",
        "    delta=tempAlvo[j]-tempAtual[j]\n",
        "    if(delta>0):#usa UQ\n",
        "      cargaUQ=cargaUQ+mCp[j]*delta\n",
        "      deltaT1=(TUQin-tempAlvo[j])\n",
        "      deltaT2=(TUQout-tempAtual[j])\n",
        "\n",
        "      try:\n",
        "        A=deltaT1-deltaT2\n",
        "        B=np.log(deltaT1/deltaT2)\n",
        "        deltaTMediaLog=A/B\n",
        "      except:\n",
        "        deltaTMediaLog=1e99\n",
        "\n",
        "      if(deltaTMediaLog==1e99):\n",
        "        areaTrocador.append(1e99)\n",
        "      else:\n",
        "        areaTrocador.append((abs(mCp[j]*(delta)/(U*deltaTMediaLog))))\n",
        "\n",
        "    elif(delta==0):#nao usa UF e UQ\n",
        "      deltaTMediaLog=0\n",
        "      areaTrocador.append(0) \n",
        "\n",
        "    else:#usa UF\n",
        "      deltaT1=(tempAtual[j]-TUFout)\n",
        "      deltaT2=(tempAlvo[j]-TUFin)     \n",
        "      cargaUF=cargaUF+mCp[j]*(-delta)\n",
        "\n",
        "      #UF -> água resfriada -> entra a 303K e sai a 353K\n",
        "      try:\n",
        "        A=deltaT1-deltaT2\n",
        "        B=np.log(deltaT1/deltaT2)\n",
        "        deltaTMediaLog=A/B\n",
        "      except:\n",
        "        deltaTMediaLog=1e99\n",
        "      \n",
        "      if(deltaTMediaLog==1e99):\n",
        "        areaTrocador.append(1e99)\n",
        "      else:\n",
        "        areaTrocador.append((abs(mCp[j]*(-delta)/(U*deltaTMediaLog))))\n",
        "\n",
        "  return areaTrocador, cargaUF,cargaUQ \n",
        "  # areaTrocador contem a soma das areas\n",
        "  # Trocadores a area associada a cada corrente\n",
        "  # cargaUF e cargaUQ kW gasto"
      ],
      "execution_count": 0,
      "outputs": []
    },
    {
      "cell_type": "code",
      "metadata": {
        "id": "_vAVl672mXZb",
        "colab_type": "code",
        "colab": {}
      },
      "source": [
        "def CustoProcesso(areaTrocadores,areaUtilidades,cargaUF,cargaUQ):\n",
        "  global coefCustoUQ,coefCustoUF\n",
        "  costTrocadores=0\n",
        "  for it in areaTrocadores:\n",
        "    for wii in areaUtilidades:\n",
        "      if(it<1e99):\n",
        "        if(wii<1e99):\n",
        "          costTrocadores=costTrocadores+300*(it**0.5+wii**0.5)\n",
        "        else:\n",
        "          costTrocadores=1e99\n",
        "          break\n",
        "        \n",
        "  costUQ=coefCustoUQ*cargaUQ\n",
        "  costUF=coefCustoUF*cargaUF\n",
        "\n",
        "  if(costTrocadores==1e99):\n",
        "    cost=1e99\n",
        "  else:\n",
        "    cost=costUQ+costUF+costTrocadores\n",
        "  return cost"
      ],
      "execution_count": 0,
      "outputs": []
    },
    {
      "cell_type": "code",
      "metadata": {
        "id": "lmPfZ7arakM1",
        "colab_type": "code",
        "colab": {}
      },
      "source": [
        "#FUN calcula o TAC para um determinado arranjo\n",
        "#  cada calculo é feito em uma funcao a parte Fun usa todas funcoes \n",
        "\n",
        "def FUN(x):\n",
        "\n",
        "  # global mCp,tempAtual,tempAlvo,U,coefCustoUQ,coefCustoUF\n",
        "  global mCp,tempAtual,tempAlvo,tempInicial,U,coefCustoUQ,coefCustoUF\n",
        "  global D\n",
        "  \n",
        "  funr=np.zeros((D))\n",
        "\n",
        "\n",
        "  cols=len(mCp)\n",
        "  Ind_I,Ind_J,deltaT, Tin, Tout=buildMatriz(x) # transforma x em matriz logica e troca\n",
        "  tempAtual,Carga,Erro=Temperatura_Carga(mCp,Ind_I,Ind_J,deltaT,Tin)\n",
        "  areaTrocadores =Area(U,tempAtual,tempInicial,Ind_I,Ind_J,deltaT)\n",
        "  areaUtilidade, cargaUF,cargaUQ = Utilidades(tempAlvo,tempAtual,mCp)\n",
        "  cost=CustoProcesso(areaTrocadores,areaUtilidade,cargaUF,cargaUQ)\n",
        "  funr=cost\n",
        "\n",
        "  for k in range(D):\n",
        "    if(Erro[k]>0):\n",
        "      funr[k]=1e99\n",
        "\n",
        "  funr = np.where(np.isnan(cost), 1e99, cost)\n",
        "\n",
        "  return funr"
      ],
      "execution_count": 0,
      "outputs": []
    },
    {
      "cell_type": "code",
      "metadata": {
        "id": "Dt6anZvATxzg",
        "colab_type": "code",
        "colab": {}
      },
      "source": [
        "#********************PROGRAMA PRINCIPAL*************************\n",
        "\n",
        "NPAR=50 #Número de partículas\n",
        "ITE=5000 #Número de iterações\n",
        "PAR=12 #Número de parâmetros a ser otimizados\n",
        "\n",
        "MAX=[0,0,0,0,0,0,1,1,1,1,1,1]\n",
        "MIN=[-300,-300,-300,-300,-300,-300,0,0,0,0,0,0]\n",
        "mCp=[4,2,1.5,3] #[kW/K]\n",
        "tempInicial=[453,393,523,533] #[K]\n",
        "#tempAtual=[453,393,523,533] #[K]\n",
        "tempAlvo=[513,508,403,433] #[K]\n",
        "U=0.2 #[kW/(m2.K)]\n",
        "\n",
        "coefCustoUQ=110 #[$/(kW.ano)]\n",
        "coefCustoUF=12.2 #[$/(kW.ano)]\n",
        "\n",
        "bounds = []\n",
        "for i in range(12):\n",
        "  bounds.append((MAX[i],MIN[i]))\n",
        "\n"
      ],
      "execution_count": 0,
      "outputs": []
    },
    {
      "cell_type": "code",
      "metadata": {
        "id": "e0lgbNqkLj4v",
        "colab_type": "code",
        "outputId": "1ac0849c-b44e-441f-b3c6-0a7b2578fbff",
        "colab": {
          "base_uri": "https://localhost:8080/",
          "height": 269
        }
      },
      "source": [
        "#MAX=[0,0,0,0,0,0,1,1,1,1,1,1]\n",
        "#MIN=[-300,-300,-300,-300,-300,-300,0.3,0.3,0.3,0.3,0.3,0.3]\n",
        "Trocas=4\n",
        "\n",
        "D=5\n",
        "\n",
        "cols=Trocas*3 # tres linhas i,j,deltaT\n",
        "MAX=np.zeros((cols))\n",
        "MIN=np.zeros((cols))\n",
        "\n",
        "for k in range(cols):\n",
        "  if(k>(Trocas*2-1)):\n",
        "    MIN[k]=-100\n",
        "  else:\n",
        "    MAX[k]=(Trocas-1)\n",
        "\n",
        "x=np.zeros((D,cols))\n",
        "\n",
        "for i in range(D):\n",
        "  for j in range(cols):\n",
        "    r=np.random.random()\n",
        "    x[i,j]=r*(MAX[j]-MIN[j])+MIN[j]\n",
        "\n",
        "Ind_I=np.zeros((Trocas))\n",
        "Ind_J=np.zeros((Trocas))\n",
        "deltaT=np.zeros((Trocas))\n",
        "for i in range(D):\n",
        "  for j in range(Trocas):\n",
        "    Ind_I[j]=round(x[i,j])\n",
        "    Ind_J[j]=round(x[i,j+Trocas])\n",
        "    deltaT[j]=x[i,j+2*Trocas]\n",
        "\n",
        "# print(x) ok\n",
        "\n"
      ],
      "execution_count": 10,
      "outputs": [
        {
          "output_type": "stream",
          "text": [
            "[[  0.89721648   0.56453701   0.19000916   1.32518427   1.00324057\n",
            "    2.21312628   2.37650187   0.65146936 -85.49232884 -25.72516723\n",
            "  -78.79152406 -85.48939154]\n",
            " [  0.11972106   2.75971467   1.70436392   2.16100547   1.17114579\n",
            "    2.63664105   0.48104885   0.12810373 -86.78406055 -89.77410223\n",
            "  -95.90457962 -57.07149572]\n",
            " [  0.55384143   1.40950122   0.85654915   2.76282368   1.80266395\n",
            "    1.67302342   2.07265482   1.4298793  -71.98871489 -78.84452364\n",
            "  -30.16499802 -91.47767092]\n",
            " [  1.37861466   1.08781388   0.84755077   0.35535041   2.22151793\n",
            "    1.44779158   1.58461844   2.13532964 -91.50901235 -43.38463964\n",
            "  -49.93476939 -97.47928134]\n",
            " [  1.76919204   2.36868922   0.55393427   1.74288428   0.35185621\n",
            "    0.87662948   0.90160745   0.31734605 -12.68558102 -95.16017733\n",
            "  -32.9135168   -2.53255088]]\n"
          ],
          "name": "stdout"
        }
      ]
    },
    {
      "cell_type": "code",
      "metadata": {
        "id": "l0UEz-Zb5D8g",
        "colab_type": "code",
        "outputId": "2ece0cf0-90bf-46f7-a204-8552d3141e07",
        "colab": {
          "base_uri": "https://localhost:8080/",
          "height": 269
        }
      },
      "source": [
        "Ind_I,Ind_J,deltaT=buildMatriz(x) # transforma x em matriz logica e troca\n",
        "print(Ind_I)\n",
        "print(Ind_J)\n",
        "print(deltaT)"
      ],
      "execution_count": 11,
      "outputs": [
        {
          "output_type": "stream",
          "text": [
            "[[1 1 0 1]\n",
            " [0 3 2 2]\n",
            " [1 1 1 3]\n",
            " [1 1 1 0]\n",
            " [2 2 1 2]]\n",
            "[[1 2 2 1]\n",
            " [1 3 0 0]\n",
            " [2 2 2 1]\n",
            " [2 1 2 2]\n",
            " [0 1 1 0]]\n",
            "[[-85.49232884 -25.72516723 -78.79152406 -85.48939154]\n",
            " [-86.78406055 -89.77410223 -95.90457962 -57.07149572]\n",
            " [-71.98871489 -78.84452364 -30.16499802 -91.47767092]\n",
            " [-91.50901235 -43.38463964 -49.93476939 -97.47928134]\n",
            " [-12.68558102 -95.16017733 -32.9135168   -2.53255088]]\n"
          ],
          "name": "stdout"
        }
      ]
    },
    {
      "cell_type": "code",
      "metadata": {
        "id": "Urw8muuARkrL",
        "colab_type": "code",
        "outputId": "114fa39b-8bf0-49ba-8544-664296a4d089",
        "colab": {
          "base_uri": "https://localhost:8080/",
          "height": 404
        }
      },
      "source": [
        "\n",
        "Custo=FUN(x)\n",
        "print(Custo)\n"
      ],
      "execution_count": 12,
      "outputs": [
        {
          "output_type": "stream",
          "text": [
            "=================\n",
            "1 1\n",
            "mCp[i] 2\n",
            "-85.49232883708355\n"
          ],
          "name": "stdout"
        },
        {
          "output_type": "error",
          "ename": "IndexError",
          "evalue": "ignored",
          "traceback": [
            "\u001b[0;31m---------------------------------------------------------------------------\u001b[0m",
            "\u001b[0;31mIndexError\u001b[0m                                Traceback (most recent call last)",
            "\u001b[0;32m<ipython-input-12-517cb29dd668>\u001b[0m in \u001b[0;36m<module>\u001b[0;34m()\u001b[0m\n\u001b[1;32m      1\u001b[0m \u001b[0;34m\u001b[0m\u001b[0m\n\u001b[0;32m----> 2\u001b[0;31m \u001b[0mCusto\u001b[0m\u001b[0;34m=\u001b[0m\u001b[0mFUN\u001b[0m\u001b[0;34m(\u001b[0m\u001b[0mx\u001b[0m\u001b[0;34m)\u001b[0m\u001b[0;34m\u001b[0m\u001b[0;34m\u001b[0m\u001b[0m\n\u001b[0m\u001b[1;32m      3\u001b[0m \u001b[0mprint\u001b[0m\u001b[0;34m(\u001b[0m\u001b[0mCusto\u001b[0m\u001b[0;34m)\u001b[0m\u001b[0;34m\u001b[0m\u001b[0;34m\u001b[0m\u001b[0m\n",
            "\u001b[0;32m<ipython-input-8-9d22e83bcdc2>\u001b[0m in \u001b[0;36mFUN\u001b[0;34m(x)\u001b[0m\n\u001b[1;32m     11\u001b[0m   \u001b[0mcols\u001b[0m\u001b[0;34m=\u001b[0m\u001b[0mlen\u001b[0m\u001b[0;34m(\u001b[0m\u001b[0mmCp\u001b[0m\u001b[0;34m)\u001b[0m\u001b[0;34m\u001b[0m\u001b[0;34m\u001b[0m\u001b[0m\n\u001b[1;32m     12\u001b[0m   \u001b[0mInd_I\u001b[0m\u001b[0;34m,\u001b[0m\u001b[0mInd_J\u001b[0m\u001b[0;34m,\u001b[0m\u001b[0mdeltaT\u001b[0m\u001b[0;34m=\u001b[0m\u001b[0mbuildMatriz\u001b[0m\u001b[0;34m(\u001b[0m\u001b[0mx\u001b[0m\u001b[0;34m)\u001b[0m \u001b[0;31m# transforma x em matriz logica e troca\u001b[0m\u001b[0;34m\u001b[0m\u001b[0;34m\u001b[0m\u001b[0m\n\u001b[0;32m---> 13\u001b[0;31m   \u001b[0mtempAtual\u001b[0m\u001b[0;34m,\u001b[0m\u001b[0mCarga\u001b[0m\u001b[0;34m,\u001b[0m\u001b[0mErro\u001b[0m\u001b[0;34m=\u001b[0m\u001b[0mTemperatura_Carga\u001b[0m\u001b[0;34m(\u001b[0m\u001b[0mmCp\u001b[0m\u001b[0;34m,\u001b[0m\u001b[0mInd_I\u001b[0m\u001b[0;34m,\u001b[0m\u001b[0mInd_J\u001b[0m\u001b[0;34m,\u001b[0m\u001b[0mdeltaT\u001b[0m\u001b[0;34m,\u001b[0m\u001b[0mtempInicial\u001b[0m\u001b[0;34m)\u001b[0m\u001b[0;34m\u001b[0m\u001b[0;34m\u001b[0m\u001b[0m\n\u001b[0m\u001b[1;32m     14\u001b[0m   \u001b[0mareaTrocadores\u001b[0m \u001b[0;34m=\u001b[0m\u001b[0mArea\u001b[0m\u001b[0;34m(\u001b[0m\u001b[0mU\u001b[0m\u001b[0;34m,\u001b[0m\u001b[0mtempAtual\u001b[0m\u001b[0;34m,\u001b[0m\u001b[0mtempInicial\u001b[0m\u001b[0;34m,\u001b[0m\u001b[0mInd_I\u001b[0m\u001b[0;34m,\u001b[0m\u001b[0mInd_J\u001b[0m\u001b[0;34m,\u001b[0m\u001b[0mdeltaT\u001b[0m\u001b[0;34m)\u001b[0m\u001b[0;34m\u001b[0m\u001b[0;34m\u001b[0m\u001b[0m\n\u001b[1;32m     15\u001b[0m   \u001b[0mareaUtilidade\u001b[0m\u001b[0;34m,\u001b[0m \u001b[0mcargaUF\u001b[0m\u001b[0;34m,\u001b[0m\u001b[0mcargaUQ\u001b[0m \u001b[0;34m=\u001b[0m \u001b[0mUtilidades\u001b[0m\u001b[0;34m(\u001b[0m\u001b[0mtempAlvo\u001b[0m\u001b[0;34m,\u001b[0m\u001b[0mtempAtual\u001b[0m\u001b[0;34m,\u001b[0m\u001b[0mmCp\u001b[0m\u001b[0;34m)\u001b[0m\u001b[0;34m\u001b[0m\u001b[0;34m\u001b[0m\u001b[0m\n",
            "\u001b[0;32m<ipython-input-4-c765a304f102>\u001b[0m in \u001b[0;36mTemperatura_Carga\u001b[0;34m(mCp, Ind_I, Ind_J, deltaT, tempInicial)\u001b[0m\n\u001b[1;32m     23\u001b[0m       \u001b[0mflag\u001b[0m\u001b[0;34m=\u001b[0m\u001b[0;36m0\u001b[0m \u001b[0;31m# flag : indica que nao entra no teste logico\u001b[0m\u001b[0;34m\u001b[0m\u001b[0;34m\u001b[0m\u001b[0m\n\u001b[1;32m     24\u001b[0m       \u001b[0;31m# usei flag no lugar q ifs pq a identacao ficou melhor assim\u001b[0m\u001b[0;34m\u001b[0m\u001b[0;34m\u001b[0m\u001b[0;34m\u001b[0m\u001b[0m\n\u001b[0;32m---> 25\u001b[0;31m       \u001b[0;32mif\u001b[0m\u001b[0;34m(\u001b[0m\u001b[0mtempAtual\u001b[0m\u001b[0;34m[\u001b[0m\u001b[0mki\u001b[0m\u001b[0;34m,\u001b[0m\u001b[0mi\u001b[0m\u001b[0;34m]\u001b[0m \u001b[0;34m>\u001b[0m \u001b[0mtempAtual\u001b[0m\u001b[0;34m[\u001b[0m\u001b[0mki\u001b[0m\u001b[0;34m,\u001b[0m\u001b[0mj\u001b[0m\u001b[0;34m]\u001b[0m\u001b[0;34m)\u001b[0m\u001b[0;34m:\u001b[0m \u001b[0;31m#Tquente maior Tfria: vaores atuais\u001b[0m\u001b[0;34m\u001b[0m\u001b[0;34m\u001b[0m\u001b[0m\n\u001b[0m\u001b[1;32m     26\u001b[0m         \u001b[0;32mif\u001b[0m\u001b[0;34m(\u001b[0m\u001b[0mtempSaidaQ\u001b[0m \u001b[0;34m>\u001b[0m \u001b[0mtempSaidaF\u001b[0m\u001b[0;34m)\u001b[0m\u001b[0;34m:\u001b[0m \u001b[0;31m#Tquente maior Tfria: saidas\u001b[0m\u001b[0;34m\u001b[0m\u001b[0;34m\u001b[0m\u001b[0m\n\u001b[1;32m     27\u001b[0m           \u001b[0;32mif\u001b[0m\u001b[0;34m(\u001b[0m\u001b[0mcontador\u001b[0m \u001b[0;34m<\u001b[0m \u001b[0mcols\u001b[0m\u001b[0;34m)\u001b[0m\u001b[0;34m:\u001b[0m\u001b[0;34m\u001b[0m\u001b[0;34m\u001b[0m\u001b[0m\n",
            "\u001b[0;31mIndexError\u001b[0m: too many indices for array"
          ]
        }
      ]
    },
    {
      "cell_type": "code",
      "metadata": {
        "id": "DGY_Kzf4Kxd4",
        "colab_type": "code",
        "colab": {}
      },
      "source": [
        "print(FUN(x))"
      ],
      "execution_count": 0,
      "outputs": []
    },
    {
      "cell_type": "code",
      "metadata": {
        "id": "lsttwtFiJnH3",
        "colab_type": "code",
        "colab": {}
      },
      "source": [
        "print(x)"
      ],
      "execution_count": 0,
      "outputs": []
    },
    {
      "cell_type": "code",
      "metadata": {
        "id": "_4ByEGWbnrdS",
        "colab_type": "code",
        "colab": {}
      },
      "source": [
        "cols=len(mCp)\n",
        "UsoFuncao=[]\n",
        "x=[-99.214722,59.99994,146.225,4.2108538,15.99999,0, 0.9500049,1, 1,0.9103451, 1,0.4786627]\n",
        "matrizDeltaT,matrizBinaria=buildMatriz(x) # transforma x em matriz logica e troca\n",
        "tempAtual,Carga,Erro=Temperatura_Carga(mCp,matrizDeltaT,matrizBinaria,tempInicial)\n",
        "areaTrocadores =Area(U,tempAtual,tempInicial,Carga,matrizDeltaT)\n",
        "areaUtilidade, cargaUF,cargaUQ = Utilidades(tempAlvo,tempAtual,mCp)\n",
        "print('estou aqui');print(areaUtilidade);print(areaTrocadores)\n",
        "custoTotal=CustoProcesso(areaTrocadores,areaUtilidade,cargaUF,cargaUQ)\n",
        "print('Custo total');print(custoTotal);\n",
        "cost=CustoProcesso(areaTrocadores,areaUtilidade,cargaUF,cargaUQ)\n",
        "print('Custo processo');print(cost);\n",
        "print('cont_uso');print(UsoFuncao)"
      ],
      "execution_count": 0,
      "outputs": []
    },
    {
      "cell_type": "code",
      "metadata": {
        "id": "5qNdVcQ0HmQm",
        "colab_type": "code",
        "colab": {}
      },
      "source": [
        "UsoFuncao=[]\n",
        "fchoice=FUN\n",
        "result = differential_evolution(fchoice, bounds, maxiter=ITE, popsize=NPAR)\n",
        "print('temperatura atual=',tempAtual)\n",
        "print(result.x, result.fun)\n",
        "print(tempAtual)\n",
        "GBEST=result.x\n",
        "BEST=result.fun\n",
        "matrizTrocaBest,matrizBinaria=MATBEST(GBEST,mCp,tempAtual)\n",
        "matrizGrafico=MATGRAF(matrizTrocaBest,mCp,tempAtual)\n",
        "\n",
        "print('Melhor solução para %d iterações com %d partículas \\n'%(ITE,NPAR));print(GBEST)\n",
        "print('Valor da função f(gbest)=%f \\n'%BEST)\n",
        "print('matriz grafico');print(matrizGrafico)\n",
        "print('cont_uso');print(UsoFuncao)"
      ],
      "execution_count": 0,
      "outputs": []
    },
    {
      "cell_type": "code",
      "metadata": {
        "id": "FFLGL1pzftiq",
        "colab_type": "code",
        "colab": {}
      },
      "source": [
        "cols=len(mCp)\n",
        "matrizDeltaT,matrizBinaria=buildMatriz(GBEST,cols) # transforma x em matriz logica e troca\n",
        "tempAtual,cargaTermica,erro=Temperatura_Carga(mCp,matrizDeltaT,matrizBinaria,tempInicial)\n",
        "areaTrocadores =Area(U,tempAtual,tempInicial,cargaTermica,matrizDeltaT)\n",
        "\n",
        "print('temperatura inicial');print(tempInicial)\n",
        "print('temperatura alvo');print(tempAlvo)\n",
        "print('temperatura atual');print(tempAtual)\n",
        "print('Area trocadores');print(areaTrocadores)"
      ],
      "execution_count": 0,
      "outputs": []
    },
    {
      "cell_type": "code",
      "metadata": {
        "id": "-pLfJUMDh1vx",
        "colab_type": "code",
        "colab": {}
      },
      "source": [
        "print(cols)\n",
        "print(GBEST)"
      ],
      "execution_count": 0,
      "outputs": []
    },
    {
      "cell_type": "code",
      "metadata": {
        "id": "p_h7HnO3zySn",
        "colab_type": "code",
        "colab": {}
      },
      "source": [
        "matrizDeltaT,matrizBinaria=buildMatriz(GBEST,cols) # transforma x em matriz logica e troca\n",
        "print('Matriz de Trocas Térmicas \\n')\n",
        "print(matrizDeltaT)\n",
        "print('Matriz Binária \\n')\n",
        "print(matrizBinaria)"
      ],
      "execution_count": 0,
      "outputs": []
    }
  ]
}