{
  "nbformat": 4,
  "nbformat_minor": 0,
  "metadata": {
    "colab": {
      "name": "RTC_adjust_v_08_mar_08_2020.ipynb",
      "provenance": [],
      "collapsed_sections": [],
      "include_colab_link": true
    },
    "kernelspec": {
      "name": "python3",
      "display_name": "Python 3"
    }
  },
  "cells": [
    {
      "cell_type": "markdown",
      "metadata": {
        "id": "view-in-github",
        "colab_type": "text"
      },
      "source": [
        "<a href=\"https://colab.research.google.com/github/ucfilho/raianars_adjust_RTC/blob/master/RTC_adjust_v_08_mar_08_2020.ipynb\" target=\"_parent\"><img src=\"https://colab.research.google.com/assets/colab-badge.svg\" alt=\"Open In Colab\"/></a>"
      ]
    },
    {
      "cell_type": "code",
      "metadata": {
        "id": "wGzR2VpcZHYA",
        "colab_type": "code",
        "colab": {}
      },
      "source": [
        "import pandas as pd\n",
        "from scipy.optimize import differential_evolution\n",
        "import numpy as np"
      ],
      "execution_count": 0,
      "outputs": []
    },
    {
      "cell_type": "code",
      "metadata": {
        "id": "2htdoQZEvKVl",
        "colab_type": "code",
        "colab": {}
      },
      "source": [
        "# Funcoes utilizadas neste codigo\n",
        "# Area(U,tempAtual,tempInicial,...): constroi matriz de areas trocadores \n",
        "#                                    entra duas correntes sendo chamada no loop\n",
        "# buildMatriz(x): constroi a matriz deltaT e binaria (logica de trocas)\n",
        "#\n",
        "# Temperatura(matrizDeltaT,...): constroi as temperaturas e cargas termicas"
      ],
      "execution_count": 0,
      "outputs": []
    },
    {
      "cell_type": "code",
      "metadata": {
        "id": "QH4J60cSP2OX",
        "colab_type": "code",
        "colab": {}
      },
      "source": [
        "def buildMatriz(x):\n",
        "  global Trocas,D, tempInicial, tempAtual \n",
        "  cols=len(tempInicial) \n",
        "  Ind_I=np.zeros((D,Trocas)).astype(np.int64)\n",
        "  Ind_J=np.zeros((D,Trocas)).astype(np.int64)\n",
        "  Tin=np.zeros((D,Trocas))\n",
        "  Tout=np.zeros((D,Trocas))\n",
        "  deltaT=np.zeros((D,Trocas))\n",
        "  for i in range(D):\n",
        "    for j in range(Trocas):\n",
        "      Ind_I[i,j]=round(x[i,j])\n",
        "      Ind_J[i,j]=round(x[i,j+Trocas])\n",
        "      deltaT[i,j]=x[i,j+2*Trocas] \n",
        "    for jj in range(cols):\n",
        "      Tin[i,jj]=tempInicial[jj]\n",
        "      Tout[i,jj]=tempAtual[jj]\n",
        "  return Ind_I,Ind_J,deltaT, Tin, Tout"
      ],
      "execution_count": 0,
      "outputs": []
    },
    {
      "cell_type": "code",
      "metadata": {
        "id": "Ha_XxG-tT7yB",
        "colab_type": "code",
        "colab": {}
      },
      "source": [
        "#def Temperatura_Carga(mCp,matrizDeltaT,matrizBinaria,tempInicial):\n",
        "def Temperatura_Carga(mCp,Ind_I,Ind_J,deltaT,Tin,Tout):\n",
        "#def Temperatura_Carga(mCp,Ind_I,Ind_J,deltaT,tempInicial,tempAtual):\n",
        "  global Trocas,D\n",
        "  # cols=len(mCp)\n",
        "  # i represent hot stream  and j represent cold stream \n",
        "  # k represent sequential heat exchanges\n",
        "  cargaTermica=np.zeros((D,Trocas))\n",
        "  contador=0\n",
        "  cont_uso=0\n",
        "  erro=np.zeros((D)) # valor erro se torna erro=1 quando ha algum erro e vai penalizar\n",
        "  for ki in range(D):\n",
        "    for kj in range(Trocas):\n",
        "      k=kj\n",
        "      i=Ind_I[ki,kj]\n",
        "      j=Ind_J[ki,kj]\n",
        "      '''\n",
        "      print('=================')\n",
        "      print(i,j)\n",
        "      print('mCp[i]',mCp[i])\n",
        "      print('deltaT[ki,kj]',deltaT[ki,kj])\n",
        "      '''\n",
        "      cargaTermica[ki,kj]=mCp[i]*deltaT[ki,kj]\n",
        "      tempSaidaQ=Tin[ki,i]+deltaT[ki,kj]\n",
        "      tempSaidaF=-cargaTermica[ki,kj]/(mCp[j])+Tout[ki,j]\n",
        "      flag=0 # flag : indica que nao entra no teste logico\n",
        "      # usei flag no lugar q ifs pq a identacao ficou melhor assim\n",
        "      if(Tin[ki,i] > Tin[ki,j]): #Tquente maior Tfria: vaores atuais\n",
        "        if(tempSaidaQ > tempSaidaF): #Tquente maior Tfria: saidas\n",
        "          # if(contador < cols):\n",
        "          flag=1\n",
        "            \n",
        "      if(flag>0):\n",
        "        Tout[ki,i]=tempSaidaQ\n",
        "        Tout[ki,j]=tempSaidaF\n",
        "      else:\n",
        "        erro[ki]=1\n",
        "\n",
        "\n",
        "  return Tout,cargaTermica,erro"
      ],
      "execution_count": 0,
      "outputs": []
    },
    {
      "cell_type": "code",
      "metadata": {
        "id": "_fKh1jXRcAOr",
        "colab_type": "code",
        "colab": {}
      },
      "source": [
        "def Area(U,Tin,Tout,Ind_I,Ind_J,deltaT):\n",
        "\n",
        "  global Trocas,mCp,D\n",
        "  \n",
        "  Area=[]\n",
        "\n",
        "  for ki in range(D):\n",
        "    Area_Particula=[]\n",
        "    for kj in range(Trocas):\n",
        "      i=Ind_I[ki,kj]\n",
        "      j=Ind_J[ki,kj]\n",
        "      '''\n",
        "      print('================')\n",
        "      print(i,j)\n",
        "      print('mCp[i]',mCp[i])\n",
        "      print('deltaT[ki,kj]',deltaT[ki,kj])\n",
        "      print('ki',ki)\n",
        "      print(Tout)\n",
        "      print('Tout[ki,j]',Tout[ki,j])\n",
        "      '''\n",
        "      Carga=mCp[i]*deltaT[ki,kj]\n",
        "      tempSaidaF=Tout[ki,j]\n",
        "      tempSaidaQ=Tout[ki,i]\n",
        "      deltaT1=Tin[ki,i]-tempSaidaF\n",
        "      deltaT2=tempSaidaQ-Tin[ki,j]\n",
        "      try:\n",
        "        A=(deltaT1-deltaT2)\n",
        "        B=np.log((deltaT1/deltaT2))\n",
        "        deltaTMediaLog=A/B\n",
        "      except:\n",
        "        deltaTMediaLog=1e99\n",
        "  \n",
        "      if(deltaTMediaLog==1e99):\n",
        "        AreaCalc=1e99\n",
        "      else:\n",
        "        AreaCalc=abs(Carga/(U*deltaTMediaLog))\n",
        "\n",
        "      if(Tout[ki,i]==Tin[ki,i]):\n",
        "            AreaCalc=0\n",
        "\n",
        "      if(Tout[ki,j]==Tin[ki,j]):\n",
        "        AreaCalc=0\n",
        "            \n",
        "      Area_Particula.append(AreaCalc)\n",
        "      \n",
        "    Area.append(Area_Particula)\n",
        "\n",
        "  return Area"
      ],
      "execution_count": 0,
      "outputs": []
    },
    {
      "cell_type": "code",
      "metadata": {
        "id": "oJ7p1UbEHs4c",
        "colab_type": "code",
        "colab": {}
      },
      "source": [
        "def Utilidades(tempAlvo,Tout,mCp):\n",
        "\n",
        "  cols=len(mCp)\n",
        "  cargaUQ=0\n",
        "  cargaUF=0\n",
        "  \n",
        "  '''\n",
        "  caso I cita TUQin=553 e TQout=552, TUFin=303 TUFout=353\n",
        "  '''\n",
        "  \n",
        "  TUQin=553\n",
        "  TUQout=552\n",
        "  TUFin=303 \n",
        "  TUFout=353\n",
        "\n",
        "  \n",
        "  Areas=[]\n",
        "\n",
        "  for ki in range(D):\n",
        "    areaTrocador=[]\n",
        "    for j in range(cols):\n",
        "      delta=tempAlvo[j]-Tout[ki,j]\n",
        "      if(delta>0):#usa UQ\n",
        "        cargaUQ=cargaUQ+mCp[j]*delta\n",
        "        deltaT1=(TUQin-tempAlvo[j])\n",
        "        deltaT2=(TUQout-Tout[ki,j])\n",
        "\n",
        "        try:\n",
        "          A=deltaT1-deltaT2\n",
        "          B=np.log(deltaT1/deltaT2)\n",
        "          deltaTMediaLog=A/B\n",
        "        except:\n",
        "          deltaTMediaLog=1e99\n",
        "\n",
        "        if(deltaTMediaLog==1e99):\n",
        "          areaTrocador.append(1e99)\n",
        "        else:\n",
        "          areaTrocador.append((abs(mCp[j]*(delta)/(U*deltaTMediaLog))))\n",
        "\n",
        "      elif(delta==0):#nao usa UF e UQ\n",
        "        deltaTMediaLog=0\n",
        "        areaTrocador.append(0) \n",
        "\n",
        "      else:#usa UF\n",
        "        deltaT1=(Tout[ki,j]-TUFout)\n",
        "        deltaT2=(tempAlvo[j]-TUFin)     \n",
        "        cargaUF=cargaUF+mCp[j]*(-delta)\n",
        "\n",
        "        #UF -> água resfriada -> entra a 303K e sai a 353K\n",
        "        try:\n",
        "          A=deltaT1-deltaT2\n",
        "          B=np.log(deltaT1/deltaT2)\n",
        "          deltaTMediaLog=A/B\n",
        "        except:\n",
        "          deltaTMediaLog=1e99\n",
        "        \n",
        "        if(deltaTMediaLog==1e99):\n",
        "          areaTrocador.append(1e99)\n",
        "        else:\n",
        "          areaTrocador.append((abs(mCp[j]*(-delta)/(U*deltaTMediaLog))))\n",
        "\n",
        "    Areas.append(areaTrocador)\n",
        "  \n",
        "  # print(Areas)\n",
        "\n",
        "  return Areas, cargaUF,cargaUQ \n",
        "  # areaTrocador contem a soma das areas\n",
        "  # Trocadores a area associada a cada corrente\n",
        "  # cargaUF e cargaUQ kW gasto"
      ],
      "execution_count": 0,
      "outputs": []
    },
    {
      "cell_type": "code",
      "metadata": {
        "id": "_vAVl672mXZb",
        "colab_type": "code",
        "colab": {}
      },
      "source": [
        "def CustoProcesso(Area,Utilidades,cargaUF,cargaUQ):\n",
        "  global coefCustoUQ,coefCustoUF,D\n",
        "\n",
        "  cost=np.zeros((D))\n",
        "\n",
        "  for i in range(D):\n",
        "    areaTrocadores=Area[i]\n",
        "    areaUtilidades=Utilidades[i]\n",
        "    costTrocadores=0\n",
        "    for it in areaTrocadores:\n",
        "      for wii in areaUtilidades:\n",
        "        if(it<1e99):\n",
        "          if(wii<1e99):\n",
        "            costTrocadores=costTrocadores+300*(it**0.5+wii**0.5)\n",
        "          else:\n",
        "            costTrocadores=1e99\n",
        "            break\n",
        "          \n",
        "    costUQ=coefCustoUQ*cargaUQ\n",
        "    costUF=coefCustoUF*cargaUF\n",
        "\n",
        "    if(costTrocadores==1e99):\n",
        "      cost[i]=1e99\n",
        "    else:\n",
        "      cost[i]=costUQ+costUF+costTrocadores\n",
        "      \n",
        "  return cost"
      ],
      "execution_count": 0,
      "outputs": []
    },
    {
      "cell_type": "code",
      "metadata": {
        "id": "lmPfZ7arakM1",
        "colab_type": "code",
        "colab": {}
      },
      "source": [
        "#FUN calcula o TAC para um determinado arranjo\n",
        "#  cada calculo é feito em uma funcao a parte Fun usa todas funcoes \n",
        "\n",
        "def FUN(x):\n",
        "\n",
        "  # global mCp,tempAtual,tempAlvo,U,coefCustoUQ,coefCustoUF\n",
        "  global mCp,tempAtual,tempAlvo,tempInicial,U,coefCustoUQ,coefCustoUF\n",
        "  global D\n",
        "  \n",
        "  funr=np.zeros((D))\n",
        "\n",
        "\n",
        "  cols=len(mCp)\n",
        "  Ind_I,Ind_J,deltaT, Tin, Tout=buildMatriz(x) # transforma x em matriz logica e troca\n",
        "  tempAtual,Carga,Erro=Temperatura_Carga(mCp,Ind_I,Ind_J,deltaT,Tin,Tout)\n",
        "  areaTrocadores =Area(U,Tin,Tout,Ind_I,Ind_J,deltaT)\n",
        "  areaUtilidade, cargaUF,cargaUQ = Utilidades(tempAlvo,tempAtual,mCp)\n",
        "  cost=CustoProcesso(areaTrocadores,areaUtilidade,cargaUF,cargaUQ)\n",
        "  funr=cost\n",
        " \n",
        "  #print(Erro)\n",
        "  #print(funr)\n",
        "\n",
        "  for k in range(D):\n",
        "    if(Erro[k]>0):\n",
        "      funr[k]=1e99\n",
        "\n",
        "  #funr = np.where(np.isnan(cost), 1e99, cost)\n",
        "\n",
        "  return funr,Erro"
      ],
      "execution_count": 0,
      "outputs": []
    },
    {
      "cell_type": "code",
      "metadata": {
        "id": "Dt6anZvATxzg",
        "colab_type": "code",
        "colab": {}
      },
      "source": [
        "#********************PROGRAMA PRINCIPAL*************************\n",
        "\n",
        "NPAR=50 #Número de partículas\n",
        "ITE=5000 #Número de iterações\n",
        "PAR=12 #Número de parâmetros a ser otimizados\n",
        "\n",
        "MAX=[0,0,0,0,0,0,1,1,1,1,1,1]\n",
        "MIN=[-300,-300,-300,-300,-300,-300,0,0,0,0,0,0]\n",
        "mCp=[4,2,1.5,3] #[kW/K]\n",
        "tempInicial=[453,393,523,533] #[K]\n",
        "tempAtual=np.copy(tempInicial) \n",
        "#tempAtual=[453,393,523,533] #[K]\n",
        "tempAlvo=[513,508,403,433] #[K]\n",
        "U=0.2 #[kW/(m2.K)]\n",
        "\n",
        "coefCustoUQ=110 #[$/(kW.ano)]\n",
        "coefCustoUF=12.2 #[$/(kW.ano)]\n",
        "\n",
        "bounds = []\n",
        "for i in range(12):\n",
        "  bounds.append((MAX[i],MIN[i]))\n",
        "\n"
      ],
      "execution_count": 0,
      "outputs": []
    },
    {
      "cell_type": "code",
      "metadata": {
        "id": "e0lgbNqkLj4v",
        "colab_type": "code",
        "colab": {}
      },
      "source": [
        "#MAX=[0,0,0,0,0,0,1,1,1,1,1,1]\n",
        "#MIN=[-300,-300,-300,-300,-300,-300,0.3,0.3,0.3,0.3,0.3,0.3]\n",
        "Trocas=4\n",
        "\n",
        "D=10\n",
        "\n",
        "cols=Trocas*3 # tres linhas i,j,deltaT\n",
        "MAX=np.zeros((cols))\n",
        "MIN=np.zeros((cols))\n",
        "\n",
        "for k in range(cols):\n",
        "  if(k>(Trocas*2-1)):\n",
        "    MIN[k]=-100\n",
        "  else:\n",
        "    MAX[k]=(Trocas-1)\n",
        "\n",
        "x=np.zeros((D,cols))\n",
        "\n",
        "for i in range(D):\n",
        "  for j in range(cols):\n",
        "    r=np.random.random()\n",
        "    x[i,j]=r*(MAX[j]-MIN[j])+MIN[j]\n",
        "\n",
        "\n"
      ],
      "execution_count": 0,
      "outputs": []
    },
    {
      "cell_type": "code",
      "metadata": {
        "id": "7VOPy_3hCPgm",
        "colab_type": "code",
        "colab": {
          "base_uri": "https://localhost:8080/",
          "height": 538
        },
        "outputId": "2d593448-ebbd-4ab6-e2b6-0483de8739bc"
      },
      "source": [
        "print(x)\n",
        "print(x.shape)"
      ],
      "execution_count": 11,
      "outputs": [
        {
          "output_type": "stream",
          "text": [
            "[[  2.62374877   1.53710101   1.94208892   0.85621075   1.91893368\n",
            "    2.57823134   2.01073823   1.07003459 -25.289477   -46.85716257\n",
            "  -56.85438839 -69.61233336]\n",
            " [  0.86631006   1.53830208   2.61147593   1.61302523   1.28493699\n",
            "    0.15745862   1.98010584   2.68504935 -74.75127778 -94.80333223\n",
            "  -70.51335188 -79.68915509]\n",
            " [  2.21974472   0.48949875   1.07257274   0.72907941   2.95444732\n",
            "    1.60988951   0.15252036   0.95427326 -87.28946227 -33.89815617\n",
            "  -54.17642072 -54.29158911]\n",
            " [  1.27380913   2.30210716   1.03562376   1.20621397   1.40026768\n",
            "    2.14198682   2.01338178   2.8529727  -84.57710762 -47.63292667\n",
            "  -75.59371776 -72.19259964]\n",
            " [  2.43905042   0.54979614   1.58816942   2.42514872   0.66501012\n",
            "    2.98821222   0.24296488   2.3479559  -39.85962231 -24.74760258\n",
            "  -88.68729776 -94.49469644]\n",
            " [  2.36675117   1.74532007   1.80133433   2.79800557   1.08727386\n",
            "    1.1798568    2.62518579   2.77328583 -25.31757196 -37.17141537\n",
            "  -97.52228398  -3.00320399]\n",
            " [  0.46733866   2.79686835   0.56442249   0.49034053   0.58026863\n",
            "    1.7002892    0.81156041   1.63780682  -0.5330911  -59.92986776\n",
            "  -50.21284299 -35.73292394]\n",
            " [  2.09058332   1.1042548    1.38119972   0.20722679   0.29178802\n",
            "    0.13955686   0.25261869   0.22805511 -29.19792592 -38.19451172\n",
            "  -61.01056475 -35.61104417]\n",
            " [  2.05380483   0.7854562    1.40848863   0.40337585   2.35332947\n",
            "    2.46298611   2.58782165   2.99048506 -18.03284711 -41.46924744\n",
            "  -85.73404711 -22.58704407]\n",
            " [  2.79595846   0.83338248   2.51517755   2.72236505   1.18388594\n",
            "    0.77839607   2.7115156    1.65191746 -36.46361785 -60.58616973\n",
            "  -33.26945355  -5.51694351]]\n",
            "(10, 12)\n"
          ],
          "name": "stdout"
        }
      ]
    },
    {
      "cell_type": "code",
      "metadata": {
        "id": "Urw8muuARkrL",
        "colab_type": "code",
        "outputId": "0ffb2812-461f-4e25-f821-559784158f47",
        "colab": {
          "base_uri": "https://localhost:8080/",
          "height": 101
        }
      },
      "source": [
        "\n",
        "Custo, Erro=FUN(x)\n",
        "print(Custo)\n",
        "print(Erro)"
      ],
      "execution_count": 12,
      "outputs": [
        {
          "output_type": "stream",
          "text": [
            "[1.e+99 1.e+99 1.e+99 1.e+99 1.e+99 1.e+99 1.e+99 1.e+99 1.e+99 1.e+99]\n",
            "[1. 1. 1. 1. 1. 1. 1. 1. 1. 1.]\n"
          ],
          "name": "stdout"
        },
        {
          "output_type": "stream",
          "text": [
            "/usr/local/lib/python3.6/dist-packages/ipykernel_launcher.py:29: RuntimeWarning: invalid value encountered in double_scalars\n",
            "/usr/local/lib/python3.6/dist-packages/ipykernel_launcher.py:28: RuntimeWarning: invalid value encountered in double_scalars\n",
            "/usr/local/lib/python3.6/dist-packages/ipykernel_launcher.py:28: RuntimeWarning: invalid value encountered in log\n"
          ],
          "name": "stderr"
        }
      ]
    },
    {
      "cell_type": "code",
      "metadata": {
        "id": "dSX6XCXh_Hv6",
        "colab_type": "code",
        "colab": {
          "base_uri": "https://localhost:8080/",
          "height": 34
        },
        "outputId": "5bd1fd48-ded0-4e15-fe4e-d24454b7ab38"
      },
      "source": [
        "print(MAX)"
      ],
      "execution_count": 13,
      "outputs": [
        {
          "output_type": "stream",
          "text": [
            "[3. 3. 3. 3. 3. 3. 3. 3. 0. 0. 0. 0.]\n"
          ],
          "name": "stdout"
        }
      ]
    },
    {
      "cell_type": "code",
      "metadata": {
        "id": "lsttwtFiJnH3",
        "colab_type": "code",
        "colab": {}
      },
      "source": [
        "# print(x)"
      ],
      "execution_count": 0,
      "outputs": []
    },
    {
      "cell_type": "code",
      "metadata": {
        "id": "6L1ofiNr_XvB",
        "colab_type": "code",
        "colab": {}
      },
      "source": [
        "\n",
        "x=np.zeros((D,cols))\n",
        "MAX=np.array([3,2,3,2,0,1,1,1,0,0,0,0])\n",
        "MIN=np.array([3,2,3,2,0,1,1,1,-100,-100,-100,-100])\n",
        "for i in range(D):\n",
        "  for j in range(cols):\n",
        "    r=np.random.random()\n",
        "    x[i,j]=r*(MAX[j]-MIN[j])+MIN[j]"
      ],
      "execution_count": 0,
      "outputs": []
    },
    {
      "cell_type": "code",
      "metadata": {
        "id": "wGYdi890_xWh",
        "colab_type": "code",
        "colab": {
          "base_uri": "https://localhost:8080/",
          "height": 538
        },
        "outputId": "1dbeb67d-e4cc-4a4d-c386-d5991c924cfd"
      },
      "source": [
        "print(x)\n",
        "print(x.shape)"
      ],
      "execution_count": 16,
      "outputs": [
        {
          "output_type": "stream",
          "text": [
            "[[  3.           2.           3.           2.           0.\n",
            "    1.           1.           1.         -97.04508857 -40.15423991\n",
            "  -98.88303571 -19.12014211]\n",
            " [  3.           2.           3.           2.           0.\n",
            "    1.           1.           1.         -86.1370251   -0.39789745\n",
            "  -35.43163826 -63.68796864]\n",
            " [  3.           2.           3.           2.           0.\n",
            "    1.           1.           1.         -61.16822275 -57.22345921\n",
            "  -35.77239459 -80.28797785]\n",
            " [  3.           2.           3.           2.           0.\n",
            "    1.           1.           1.         -78.30860741 -20.2570613\n",
            "   -7.96396042 -93.52946711]\n",
            " [  3.           2.           3.           2.           0.\n",
            "    1.           1.           1.          -1.23340481 -32.44489914\n",
            "  -18.2369369  -59.44376104]\n",
            " [  3.           2.           3.           2.           0.\n",
            "    1.           1.           1.         -27.71994639 -62.15850764\n",
            "  -65.64397817 -16.01041634]\n",
            " [  3.           2.           3.           2.           0.\n",
            "    1.           1.           1.         -94.53821659 -37.42637724\n",
            "  -60.93592474 -87.54067337]\n",
            " [  3.           2.           3.           2.           0.\n",
            "    1.           1.           1.         -27.39506374 -17.66054983\n",
            "  -33.30692832  -4.34660441]\n",
            " [  3.           2.           3.           2.           0.\n",
            "    1.           1.           1.         -52.03119682 -73.40313422\n",
            "  -66.02200222  -0.83191847]\n",
            " [  3.           2.           3.           2.           0.\n",
            "    1.           1.           1.         -94.26345959 -74.48699437\n",
            "  -48.80760728 -60.07522555]]\n",
            "(10, 12)\n"
          ],
          "name": "stdout"
        }
      ]
    },
    {
      "cell_type": "code",
      "metadata": {
        "id": "gxAZ7XO6AKI-",
        "colab_type": "code",
        "colab": {}
      },
      "source": [
        "tempInicial=[453,393,523,533] #[K]\n",
        "tempAtual=np.copy(tempInicial) \n"
      ],
      "execution_count": 0,
      "outputs": []
    },
    {
      "cell_type": "code",
      "metadata": {
        "id": "wnFpOji2Emmg",
        "colab_type": "code",
        "colab": {
          "base_uri": "https://localhost:8080/",
          "height": 185
        },
        "outputId": "ec61e06a-5b2e-45cb-bbec-510795f5ac2f"
      },
      "source": [
        "Ind_I,Ind_J,deltaT, Tin, Tout=buildMatriz(x) # transforma x em matriz logica e troca\n",
        "print(Ind_I)\n"
      ],
      "execution_count": 18,
      "outputs": [
        {
          "output_type": "stream",
          "text": [
            "[[3 2 3 2]\n",
            " [3 2 3 2]\n",
            " [3 2 3 2]\n",
            " [3 2 3 2]\n",
            " [3 2 3 2]\n",
            " [3 2 3 2]\n",
            " [3 2 3 2]\n",
            " [3 2 3 2]\n",
            " [3 2 3 2]\n",
            " [3 2 3 2]]\n"
          ],
          "name": "stdout"
        }
      ]
    },
    {
      "cell_type": "code",
      "metadata": {
        "id": "DfFCl9nbEpVl",
        "colab_type": "code",
        "colab": {
          "base_uri": "https://localhost:8080/",
          "height": 185
        },
        "outputId": "c6c3539f-1d94-493f-e062-9ad6f1bde714"
      },
      "source": [
        "print(Ind_J)\n"
      ],
      "execution_count": 19,
      "outputs": [
        {
          "output_type": "stream",
          "text": [
            "[[0 1 1 1]\n",
            " [0 1 1 1]\n",
            " [0 1 1 1]\n",
            " [0 1 1 1]\n",
            " [0 1 1 1]\n",
            " [0 1 1 1]\n",
            " [0 1 1 1]\n",
            " [0 1 1 1]\n",
            " [0 1 1 1]\n",
            " [0 1 1 1]]\n"
          ],
          "name": "stdout"
        }
      ]
    },
    {
      "cell_type": "code",
      "metadata": {
        "id": "xIlAP6sKEs-R",
        "colab_type": "code",
        "colab": {
          "base_uri": "https://localhost:8080/",
          "height": 101
        },
        "outputId": "b313afff-3430-45fa-8b90-6ce8675f6a97"
      },
      "source": [
        "Custo, Erro=FUN(x)\n",
        "print(Custo)\n",
        "print(Erro)"
      ],
      "execution_count": 20,
      "outputs": [
        {
          "output_type": "stream",
          "text": [
            "[1.00000000e+99 1.00000000e+99 1.00000000e+99 1.00000000e+99\n",
            " 1.00000000e+99 1.00000000e+99 1.00000000e+99 4.46159004e+05\n",
            " 1.00000000e+99 1.00000000e+99]\n",
            "[1. 1. 1. 1. 1. 1. 1. 0. 1. 1.]\n"
          ],
          "name": "stdout"
        },
        {
          "output_type": "stream",
          "text": [
            "/usr/local/lib/python3.6/dist-packages/ipykernel_launcher.py:29: RuntimeWarning: invalid value encountered in double_scalars\n"
          ],
          "name": "stderr"
        }
      ]
    },
    {
      "cell_type": "code",
      "metadata": {
        "id": "cZeWZKKbDw_4",
        "colab_type": "code",
        "colab": {
          "base_uri": "https://localhost:8080/",
          "height": 185
        },
        "outputId": "8553d28c-8c5a-468e-bc1a-29889cd48352"
      },
      "source": [
        "print(tempAtual)"
      ],
      "execution_count": 21,
      "outputs": [
        {
          "output_type": "stream",
          "text": [
            "[[453.         437.45578651 503.87985789 533.        ]\n",
            " [453.         446.44588048 522.60210255 497.56836174]\n",
            " [453.         489.5761863  465.77654079 497.22760541]\n",
            " [453.         420.13873661 502.7429387  525.03603958]\n",
            " [453.92505361 444.68907971 490.55510086 514.7630631 ]\n",
            " [473.78995979 451.62669298 506.98958366 505.28005361]\n",
            " [453.         421.06978293 485.57362276 533.        ]\n",
            " [473.54629781 459.46575816 518.65339559 499.69307168]\n",
            " [453.         448.67628952 522.16808153 533.        ]\n",
            " [453.         466.21141092 523.         484.19239272]]\n"
          ],
          "name": "stdout"
        }
      ]
    },
    {
      "cell_type": "code",
      "metadata": {
        "id": "AE5bnwvC66GF",
        "colab_type": "code",
        "colab": {
          "base_uri": "https://localhost:8080/",
          "height": 330
        },
        "outputId": "ac3a2d59-73e6-4ca4-84c3-a482734a41d9"
      },
      "source": [
        "# caso I: parecido, teste \n",
        "#Ind_x=[4,3,4,3]\n",
        "#Ind_y=[1,2,2,2]\n",
        "#deltaT=[-21,-75,-21,-27]\n",
        "D=1\n",
        "xtest=np.array([3,2,3,2,0,1,1,1,-21,-75,-21,-27]).reshape(1,12)\n",
        "Ind_I,Ind_J,deltaT, Tin, Tout=buildMatriz(x)\n",
        "print(Ind_I)\n",
        "Custo, Erro=FUN(xtest)\n",
        "print(Custo)\n",
        "print(Erro)"
      ],
      "execution_count": 22,
      "outputs": [
        {
          "output_type": "error",
          "ename": "ValueError",
          "evalue": "ignored",
          "traceback": [
            "\u001b[0;31m---------------------------------------------------------------------------\u001b[0m",
            "\u001b[0;31mValueError\u001b[0m                                Traceback (most recent call last)",
            "\u001b[0;32m<ipython-input-22-375ef3cd53d6>\u001b[0m in \u001b[0;36m<module>\u001b[0;34m()\u001b[0m\n\u001b[1;32m      1\u001b[0m \u001b[0mD\u001b[0m\u001b[0;34m=\u001b[0m\u001b[0;36m1\u001b[0m\u001b[0;34m\u001b[0m\u001b[0;34m\u001b[0m\u001b[0m\n\u001b[1;32m      2\u001b[0m \u001b[0mxtest\u001b[0m\u001b[0;34m=\u001b[0m\u001b[0mnp\u001b[0m\u001b[0;34m.\u001b[0m\u001b[0marray\u001b[0m\u001b[0;34m(\u001b[0m\u001b[0;34m[\u001b[0m\u001b[0;36m3\u001b[0m\u001b[0;34m,\u001b[0m\u001b[0;36m2\u001b[0m\u001b[0;34m,\u001b[0m\u001b[0;36m3\u001b[0m\u001b[0;34m,\u001b[0m\u001b[0;36m2\u001b[0m\u001b[0;34m,\u001b[0m\u001b[0;36m0\u001b[0m\u001b[0;34m,\u001b[0m\u001b[0;36m1\u001b[0m\u001b[0;34m,\u001b[0m\u001b[0;36m1\u001b[0m\u001b[0;34m,\u001b[0m\u001b[0;36m1\u001b[0m\u001b[0;34m,\u001b[0m\u001b[0;34m-\u001b[0m\u001b[0;36m21\u001b[0m\u001b[0;34m,\u001b[0m\u001b[0;34m-\u001b[0m\u001b[0;36m75\u001b[0m\u001b[0;34m,\u001b[0m\u001b[0;34m-\u001b[0m\u001b[0;36m21\u001b[0m\u001b[0;34m,\u001b[0m\u001b[0;34m-\u001b[0m\u001b[0;36m27\u001b[0m\u001b[0;34m]\u001b[0m\u001b[0;34m)\u001b[0m\u001b[0;34m.\u001b[0m\u001b[0mreshape\u001b[0m\u001b[0;34m(\u001b[0m\u001b[0;36m1\u001b[0m\u001b[0;34m,\u001b[0m\u001b[0;36m12\u001b[0m\u001b[0;34m)\u001b[0m\u001b[0;34m\u001b[0m\u001b[0;34m\u001b[0m\u001b[0m\n\u001b[0;32m----> 3\u001b[0;31m \u001b[0mInd_I\u001b[0m\u001b[0;34m,\u001b[0m\u001b[0mInd_J\u001b[0m\u001b[0;34m,\u001b[0m\u001b[0mdeltaT\u001b[0m\u001b[0;34m,\u001b[0m \u001b[0mTin\u001b[0m\u001b[0;34m,\u001b[0m \u001b[0mTout\u001b[0m\u001b[0;34m=\u001b[0m\u001b[0mbuildMatriz\u001b[0m\u001b[0;34m(\u001b[0m\u001b[0mx\u001b[0m\u001b[0;34m)\u001b[0m\u001b[0;34m\u001b[0m\u001b[0;34m\u001b[0m\u001b[0m\n\u001b[0m\u001b[1;32m      4\u001b[0m \u001b[0mprint\u001b[0m\u001b[0;34m(\u001b[0m\u001b[0mInd_I\u001b[0m\u001b[0;34m)\u001b[0m\u001b[0;34m\u001b[0m\u001b[0;34m\u001b[0m\u001b[0m\n\u001b[1;32m      5\u001b[0m \u001b[0mCusto\u001b[0m\u001b[0;34m,\u001b[0m \u001b[0mErro\u001b[0m\u001b[0;34m=\u001b[0m\u001b[0mFUN\u001b[0m\u001b[0;34m(\u001b[0m\u001b[0mxtest\u001b[0m\u001b[0;34m)\u001b[0m\u001b[0;34m\u001b[0m\u001b[0;34m\u001b[0m\u001b[0m\n",
            "\u001b[0;32m<ipython-input-3-5adb96cb06e4>\u001b[0m in \u001b[0;36mbuildMatriz\u001b[0;34m(x)\u001b[0m\n\u001b[1;32m     14\u001b[0m     \u001b[0;32mfor\u001b[0m \u001b[0mjj\u001b[0m \u001b[0;32min\u001b[0m \u001b[0mrange\u001b[0m\u001b[0;34m(\u001b[0m\u001b[0mcols\u001b[0m\u001b[0;34m)\u001b[0m\u001b[0;34m:\u001b[0m\u001b[0;34m\u001b[0m\u001b[0;34m\u001b[0m\u001b[0m\n\u001b[1;32m     15\u001b[0m       \u001b[0mTin\u001b[0m\u001b[0;34m[\u001b[0m\u001b[0mi\u001b[0m\u001b[0;34m,\u001b[0m\u001b[0mjj\u001b[0m\u001b[0;34m]\u001b[0m\u001b[0;34m=\u001b[0m\u001b[0mtempInicial\u001b[0m\u001b[0;34m[\u001b[0m\u001b[0mjj\u001b[0m\u001b[0;34m]\u001b[0m\u001b[0;34m\u001b[0m\u001b[0;34m\u001b[0m\u001b[0m\n\u001b[0;32m---> 16\u001b[0;31m       \u001b[0mTout\u001b[0m\u001b[0;34m[\u001b[0m\u001b[0mi\u001b[0m\u001b[0;34m,\u001b[0m\u001b[0mjj\u001b[0m\u001b[0;34m]\u001b[0m\u001b[0;34m=\u001b[0m\u001b[0mtempAtual\u001b[0m\u001b[0;34m[\u001b[0m\u001b[0mjj\u001b[0m\u001b[0;34m]\u001b[0m\u001b[0;34m\u001b[0m\u001b[0;34m\u001b[0m\u001b[0m\n\u001b[0m\u001b[1;32m     17\u001b[0m   \u001b[0;32mreturn\u001b[0m \u001b[0mInd_I\u001b[0m\u001b[0;34m,\u001b[0m\u001b[0mInd_J\u001b[0m\u001b[0;34m,\u001b[0m\u001b[0mdeltaT\u001b[0m\u001b[0;34m,\u001b[0m \u001b[0mTin\u001b[0m\u001b[0;34m,\u001b[0m \u001b[0mTout\u001b[0m\u001b[0;34m\u001b[0m\u001b[0;34m\u001b[0m\u001b[0m\n",
            "\u001b[0;31mValueError\u001b[0m: setting an array element with a sequence."
          ]
        }
      ]
    },
    {
      "cell_type": "code",
      "metadata": {
        "id": "qZYtUEm68B7L",
        "colab_type": "code",
        "colab": {}
      },
      "source": [
        "print(xtest[0,10])\n",
        "print(xtest)"
      ],
      "execution_count": 0,
      "outputs": []
    }
  ]
}